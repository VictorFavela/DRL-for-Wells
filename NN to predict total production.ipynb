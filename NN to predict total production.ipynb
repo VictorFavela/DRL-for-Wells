{
 "cells": [
  {
   "cell_type": "code",
   "execution_count": 4,
   "metadata": {},
   "outputs": [],
   "source": [
    "import numpy as py\n",
    "import pandas as pd\n",
    "import os\n",
    "import matplotlib.pyplot as plt\n",
    "from sklearn.linear_model import LinearRegression\n",
    "wells = []\n",
    "#os.chdir(r\"C:\\Users\\Vaishnav Bipin\\Downloads\\Data\")\n",
    "##global scope variable for the path to where all the well data is stored\n",
    "_PATH = \"Data/\""
   ]
  },
  {
   "cell_type": "code",
   "execution_count": 5,
   "metadata": {},
   "outputs": [],
   "source": [
    "class Well:\n",
    "    ##This is a well class that will hold all the properties of a well\n",
    "    ##and also will be able to do relevant calculations for a given well\n",
    "    \n",
    "    ##Once the data is set in the constructor, please do not change the values when they are accessed.\n",
    "    ##Apparently I can't prevent this in Python, but I can at least advise against it.\n",
    "    \n",
    "    def __init__(self, easting, northing, porosity, permeability, PR, YM, wSaturation, oSaturation, thickness, proppant,\n",
    "                 pumpRate, name, RF, Pa, FVF, oilByMonth, waterByMonth):\n",
    "        self.easting = easting ##easting\n",
    "        self.northing = northing ##northing\n",
    "        self.porosity = porosity ##porosity\n",
    "        self.permeability = permeability ##permeability\n",
    "        self.PR = PR ##poissons's ratio\n",
    "        self.YM = YM ##young's modulus\n",
    "        self.wSaturation = wSaturation ##water saturation\n",
    "        self.oSaturation = oSaturation ##oil saturation\n",
    "        self.thickness = thickness ##thickness\n",
    "        self.proppant = proppant ##proppant weight\n",
    "        self.pumpRate = pumpRate ##pumpRate\n",
    "        self.name = name ##name\n",
    "        self.RF = RF ##recovery factor\n",
    "        self.Pa = Pa ##average pressure\n",
    "        self.FVF = FVF ##formation volume factor\n",
    "        self.oilByMonth = oilByMonth ##oil produced in each month\n",
    "        self.waterByMonth = waterByMonth ##water produced in each month\n",
    "    \n",
    "    ##returns the length of the well\n",
    "    def getWellLength(self):\n",
    "        return self.easting.max()-self.easting.min()\n",
    "    \n",
    "    #returns the total oil produced by the well\n",
    "    def getTotalProduction(self):\n",
    "        return self.oilByMonth.sum()\n",
    "    \n",
    "    ##returns the oil in place for this given well\n",
    "    def getOilInPlace(self):\n",
    "        return ((7758 * 360 * self.thickness * self.porosity * (1 - self.wSaturation)) / self.FVF)\n",
    "    \n",
    "    ##returns the recoverable reserves of this well\n",
    "    def getRecoverableReserves():\n",
    "        return (getOriginalOilPlace() * RF)\n",
    "    \n",
    "    ##returns rate of initial production for this well\n",
    "    def getROIP():\n",
    "        pass \n",
    "    \n",
    "    ##returns the life of this reservoir\n",
    "    def getLR():\n",
    "        pass\n",
    "    \n",
    "    ##returns the cumulative production of this well\n",
    "    def getCP():\n",
    "        pass\n",
    "    \n",
    "    \n",
    "    \n",
    "    def getFracStages(self):\n",
    "        count = 0\n",
    "        for rate in self.pumpRate:\n",
    "            if (pd.notnull(rate)):\n",
    "                count+=1\n",
    "        return count\n",
    "    \n",
    "    def getAvgPumpRate(self):\n",
    "        return self.pumpRate.mean(skipna = True)\n",
    "    \n",
    "    def getAvgProppant(self):\n",
    "        return self.proppant.mean(skipna = True)\n",
    "    \n",
    "    \n",
    "    ##this is the kind of functioning as a toString right now, almost no reason for it\n",
    "    def getName(self):\n",
    "        return self.name\n",
    "    \n",
    "    ##method to return oil produced in a given month\n",
    "    def getOilAtMonth(self, n):\n",
    "        if n > 12 or n < 1:\n",
    "            ##bad\n",
    "            return -1\n",
    "        else:\n",
    "            return self.oilByMonth[n]\n",
    "    \n",
    "    ##method to return water produced in a given month\n",
    "    def getOilAtMonth(self, n):\n",
    "        if n > 12 or n < 1:\n",
    "            ##bad\n",
    "            return -1\n",
    "        else:\n",
    "            return self.waterByMonth[n]\n",
    "    \n",
    "    ##method to display data for this well\n",
    "    ##depth will be for getiing data at a given depth in a well. Not sure if or when I should implement this\n",
    "    def displayData(self, depth = 0):\n",
    "        if depth == 0:\n",
    "            data = pd.read_csv(_PATH + self.name + \".csv\")\n",
    "        else:\n",
    "            data = pd.read_csv(_PATH + self.name + \".csv\")\n",
    "            \n",
    "        print(\"Displaying data for: \" + self.name)\n",
    "        print(data)"
   ]
  },
  {
   "cell_type": "code",
   "execution_count": 8,
   "metadata": {},
   "outputs": [],
   "source": [
    "##method to take the data given, create a well object and store it in wells\n",
    "def createWells():\n",
    "    wellProduction = pd.read_csv(_PATH + \"well production.csv\")\n",
    "    for i in range(100):\n",
    "    ##for every well\n",
    "        ##get all the data from the well production csv\n",
    "        name = wellProduction.at[i, \"well name\"]\n",
    "        ap = wellProduction.at[i, \"average pressure (Pa)\"]\n",
    "        RF = wellProduction.at[i, \"recovery factor\"]\n",
    "        FVF = wellProduction.at[i, \"formation volume factor\"]\n",
    "        oil = wellProduction.iloc[i, 4:16] ##oil per month\n",
    "        water = wellProduction.iloc[i, 16:28] ##water per month\n",
    "        ##now that we have the name of the well, we can use that to access its\n",
    "        ##own csv file and get that data\n",
    "        wellDF = pd.read_csv(_PATH + name + \".csv\")\n",
    "        e = wellDF[\"easting\"]\n",
    "        n = wellDF[\"northing\"]\n",
    "        p = wellDF[\"porosity\"]\n",
    "        perm = wellDF[\"permeability\"]\n",
    "        pr = wellDF[\"Poisson's ratio\"]\n",
    "        ym = wellDF[\"Young's Modulus\"]\n",
    "        ws = wellDF[\"water saturation\"]\n",
    "        os = wellDF[\"oil saturation\"]\n",
    "        thick = wellDF[\"thickness (ft)\"]\n",
    "        prop = wellDF[\"proppant weight (lbs)\"]\n",
    "        pump = wellDF[\"pump rate (cubic feet/min)\"]\n",
    "        ##create a new well\n",
    "        temp = Well(e, n, p, perm, pr, ym, ws, os, thick, prop, pump, name, RF, ap, FVF, oil, water)\n",
    "        ##append the new well to the list\n",
    "        wells.append(temp)\n",
    "        "
   ]
  },
  {
   "cell_type": "code",
   "execution_count": null,
   "metadata": {},
   "outputs": [],
   "source": []
  },
  {
   "cell_type": "code",
   "execution_count": 9,
   "metadata": {
    "scrolled": false
   },
   "outputs": [],
   "source": [
    "createWells()"
   ]
  },
  {
   "cell_type": "code",
   "execution_count": 10,
   "metadata": {},
   "outputs": [
    {
     "data": {
      "text/plain": [
       "Text(0, 0.5, 'Total Production')"
      ]
     },
     "execution_count": 10,
     "metadata": {},
     "output_type": "execute_result"
    },
    {
     "data": {
      "image/png": "[encoded data removed]",
      "text/plain": [
       "<Figure size 432x288 with 1 Axes>"
      ]
     },
     "metadata": {
      "needs_background": "light"
     },
     "output_type": "display_data"
    }
   ],
   "source": [
    "#Graph well length vs total production\n",
    "xCoords = []\n",
    "yCoords = []\n",
    "depthVals = []\n",
    "for well in wells:\n",
    "    xCoords.append(well.getWellLength())\n",
    "    yCoords.append(well.getTotalProduction())\n",
    "    depthVals.append(well.thickness)\n",
    "plt.scatter(xCoords, yCoords, s = 4)\n",
    "plt.xlabel(\"Well Length\")\n",
    "plt.ylabel(\"Total Production\")"
   ]
  },
  {
   "cell_type": "code",
   "execution_count": 11,
   "metadata": {},
   "outputs": [],
   "source": [
    "#Graph amount of proppant to production"
   ]
  },
  {
   "cell_type": "code",
   "execution_count": 12,
   "metadata": {
    "scrolled": false
   },
   "outputs": [
    {
     "data": {
      "text/plain": [
       "Text(0, 0.5, 'Total Production')"
      ]
     },
     "execution_count": 12,
     "metadata": {},
     "output_type": "execute_result"
    },
    {
     "data": {
      "image/png": "[encoded data removed]",
      "text/plain": [
       "<Figure size 432x288 with 1 Axes>"
      ]
     },
     "metadata": {
      "needs_background": "light"
     },
     "output_type": "display_data"
    }
   ],
   "source": [
    "xCoords = []\n",
    "yCoords = []\n",
    "for well in wells:\n",
    "    xCoords.append(well.proppant.sum())\n",
    "    yCoords.append(well.getTotalProduction())\n",
    "plt.scatter(xCoords, yCoords, s = 4)\n",
    "plt.xlabel(\"Proppant\")\n",
    "plt.ylabel(\"Total Production\")"
   ]
  },
  {
   "cell_type": "code",
   "execution_count": 14,
   "metadata": {},
   "outputs": [
    {
     "data": {
      "text/plain": [
       "Text(0, 0.5, 'Total Production')"
      ]
     },
     "execution_count": 14,
     "metadata": {},
     "output_type": "execute_result"
    },
    {
     "data": {
      "image/png": "[encoded data removed]",
      "text/plain": [
       "<Figure size 432x288 with 1 Axes>"
      ]
     },
     "metadata": {
      "needs_background": "light"
     },
     "output_type": "display_data"
    }
   ],
   "source": [
    "xCoords = []\n",
    "yCoords = []\n",
    "for well in wells:\n",
    "    xCoords.append(well.getFracStages())\n",
    "    yCoords.append(well.getTotalProduction())\n",
    "plt.scatter(xCoords, yCoords, s = 4)\n",
    "plt.xlabel(\"# Frac Stages\")\n",
    "plt.ylabel(\"Total Production\")"
   ]
  },
  {
   "cell_type": "code",
   "execution_count": null,
   "metadata": {},
   "outputs": [],
   "source": [
    "#linear regression on above graph\n",
    "#linreg = LinearRegression()\n",
    "#X = [xCoords]\n",
    "#linreg.fit(X,yCoords)\n",
    "#plt.plot(X, yCoords)"
   ]
  },
  {
   "cell_type": "code",
   "execution_count": null,
   "metadata": {},
   "outputs": [],
   "source": [
    "import tensorflow as tf\n",
    "import matplotlib.pyplot as plt\n",
    "\n",
    "model = tf.keras.Sequential()\n",
    "# number of internal layers and nodes per layer chosen completely arbitrarily\n",
    "model.add( tf.keras.layers.Dense( units=20, input_shape=(4,) ) )\n",
    "model.add( tf.keras.layers.Activation(activation='relu') )\n",
    "model.add( tf.keras.layers.Dense( units=20, input_shape=(20,) ) )\n",
    "model.add( tf.keras.layers.Activation(activation='relu') )\n",
    "model.add( tf.keras.layers.Dense( units=1, input_shape=(20,) ) )\n",
    "\n",
    "\n",
    "#sgd = tf.keras.optimizers.SGD( lr=0.01 )\n",
    "#sgd = tf.compat.v1.train.AdamOptimizer(learning_rate = 0.0001)\n",
    "\n",
    "loss = 'mean_squared_error'\n",
    "# had to switch out of sgd optimizer since it would obtain NaN for losses\n",
    "model.compile(optimizer='adam', loss = loss)\n",
    "\n",
    "x1 = []\n",
    "x2 = []\n",
    "x3 = []\n",
    "x4 = []\n",
    "y1 = []\n",
    "i = 0;\n",
    "for well in wells:\n",
    "    if (i%4!=3):\n",
    "        x1.append(well.getWellLength())\n",
    "        x2.append(well.getFracStages())\n",
    "        x3.append(well.getAvgProppant())\n",
    "        x4.append(well.getAvgPumpRate())\n",
    "        y1.append(well.getTotalProduction())\n",
    "    i+=1\n",
    "y = py.array(y1)\n",
    "\n",
    "input_features1 = py.stack([x1,x2,x3,x4]).T\n",
    "input_features = py.array(input_features1)\n",
    "print(input_features)\n",
    "print(\"\\n\")\n",
    "print(y)\n",
    "model.fit(input_features, y, epochs=2000)\n",
    "y_predict = model.predict(input_features).reshape(-1)\n",
    "\n",
    "print(f\"The relative error of the model is  \\\n",
    "      {py.mean(abs((y-y_predict)/y))*100:2.2f}%\")\n",
    "\n",
    "x1_test = []\n",
    "x2_test = []\n",
    "x3_test = []\n",
    "x4_test = []\n",
    "y_real1 = []\n",
    "i = 0;\n",
    "for well in wells:\n",
    "    if (i%4==3):\n",
    "        x1_test.append(well.getWellLength())\n",
    "        x2_test.append(well.getFracStages())\n",
    "        x3_test.append(well.getAvgProppant())\n",
    "        x4_test.append(well.getAvgPumpRate())\n",
    "        y_real1.append(well.getTotalProduction())\n",
    "    i+=1\n",
    "y_real = py.array(y_real1)\n",
    "\n",
    "print(df3)\n",
    "\n",
    "input_test1 = py.stack([x1_test,x2_test,x3_test,x4_test]).T\n",
    "input_test = py.array(input_test1)\n",
    "\n",
    "y_test = model.predict(input_test).reshape(-1)\n",
    "\n",
    "# predictions vs. real displayed in a table at the bottom\n",
    "df3 = pd.DataFrame()\n",
    "df3['x1'] = x1_test\n",
    "df3['x2'] = x2_test\n",
    "df3['x3'] = x3_test\n",
    "df3['x4'] = x4_test\n",
    "df3['y_real'] = y_real\n",
    "df3['y_pred'] = y_test\n",
    "print(df3)"
   ]
  },
  {
   "cell_type": "code",
   "execution_count": null,
   "metadata": {},
   "outputs": [],
   "source": []
  },
  {
   "cell_type": "code",
   "execution_count": null,
   "metadata": {},
   "outputs": [],
   "source": []
  }
 ],
 "metadata": {
  "kernelspec": {
   "display_name": "Python 3",
   "language": "python",
   "name": "python3"
  },
  "language_info": {
   "codemirror_mode": {
    "name": "ipython",
    "version": 3
   },
   "file_extension": ".py",
   "mimetype": "text/x-python",
   "name": "python",
   "nbconvert_exporter": "python",
   "pygments_lexer": "ipython3",
   "version": "3.6.7"
  }
 },
 "nbformat": 4,
 "nbformat_minor": 2
}
