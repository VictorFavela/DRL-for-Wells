{
 "cells": [
  {
   "cell_type": "code",
   "execution_count": 2,
   "metadata": {},
   "outputs": [],
   "source": [
    "import numpy as py\n",
    "import pandas as pd\n",
    "import matplotlib.pyplot as plt\n",
    "from sklearn.linear_model import LinearRegression\n",
    "wells = []\n",
    "##global scope variable for the path to where all the well data is stored\n",
    "_PATH = \"data/\""
   ]
  },
  {
   "cell_type": "code",
   "execution_count": 3,
   "metadata": {},
   "outputs": [],
   "source": [
    "class Well:\n",
    "    ##This is a well class that will hold all the properties of a well\n",
    "    ##and also will be able to do relevant calculations for a given well\n",
    "    \n",
    "    ##Once the data is set in the constructor, please do not change the values when they are accessed.\n",
    "    ##Apparently I can't prevent this in Python, but I can at least advise against it.\n",
    "    \n",
    "    def __init__(self, easting, northing, porosity, permeability, PR, YM, wSaturation, oSaturation, thickness, proppant,\n",
    "                 pumpRate, name, RF, Pa, FVF, oilByMonth, waterByMonth):\n",
    "        self.easting = easting ##easting, areas with higher\n",
    "        self.northing = northing ##northing, areas with higher\n",
    "        self.porosity = porosity ##porosity, definitely something there\n",
    "        self.permeability = permeability ##permeability,definitely something there\n",
    "        self.PR = PR ##poissons's ratio, might be something. couple of outliers but general convergence\n",
    "        self.YM = YM ##young's modulus, pyramid shape, probably something\n",
    "        self.wSaturation = wSaturation ##water saturation, no correlation to production\n",
    "        self.oSaturation = oSaturation ##oil saturation, no correlation to production\n",
    "        self.thickness = thickness ##thickness, no correlation to production\n",
    "        self.proppant = proppant ##proppant weight, maybe a correlation\n",
    "        self.pumpRate = pumpRate ##pumpRate, probably a correlation\n",
    "        self.name = name ##name\n",
    "        self.RF = RF ##recovery factor, maybe something\n",
    "        self.Pa = Pa ##average pressure, probably something\n",
    "        self.FVF = FVF ##formation volume factor\n",
    "        self.oilByMonth = oilByMonth ##oil produced in each month\n",
    "        self.waterByMonth = waterByMonth ##water produced in each month\n",
    "    \n",
    "    ##returns the length of the well\n",
    "    def getWellLength(self):\n",
    "        return self.easting.max()-self.easting.min()\n",
    "    \n",
    "    #returns the total oil produced by the well\n",
    "    def getTotalProduction(self):\n",
    "        return self.oilByMonth.sum()\n",
    "    \n",
    "    ##returns the oil in place for this given well\n",
    "    def getOilInPlace(self):\n",
    "        return ((7758 * 360 * self.thickness * self.porosity * (1 - self.wSaturation)) / self.FVF)\n",
    "    \n",
    "    ##returns the recoverable reserves of this well\n",
    "    def getRecoverableReserves(self):\n",
    "        return (self.getOriginalOilPlace() * self.RF)\n",
    "    \n",
    "    ##Returns the production rate\n",
    "    def InitialProduction(self):\n",
    "        return (self.oilByMonth[0] * (math.exp((-1 * ((self.oilByMonth[11] - self.oilByMonth[0]) / 12) * time))))\n",
    "        ##need to figure out how to plug in time (otherwise it will always equal first month production). also could be used\n",
    "        ##to find the decline over time (where time is difference in production)\n",
    "    \n",
    "    def economicLimitROP(self):\n",
    "        sumOilProduction = 0 \n",
    "        for i in range(12):\n",
    "            oil = getOilAtMonth(self, i)\n",
    "            water = getWaterAtMonth(self, i)\n",
    "            sumOilProduction += oil\n",
    "            if(oil < water):\n",
    "                return sumOilProduction\n",
    "    \n",
    "    ##Returns time in years\n",
    "    def LifeOfReservoir(self):\n",
    "        return ((1 / ((self.oilByMonth[11] - self.oilByMonth[0]) / 12)) * math.log((self.oilbyMonth[0]) / economicLimitROP(self)))\n",
    "    \n",
    "    ##Returns cumulative production in bbl\n",
    "    def CumulativeProduction(self):\n",
    "        return ((self.oilbyMonth[0] / declineRate) * math.log(self.oilbyMonth[0] / self.oilbyMonth[11]))\n",
    "    \n",
    "    ##this is the kind of functioning as a toString right now, almost no reason for it\n",
    "    def getName(self):\n",
    "        return self.name\n",
    "    \n",
    "    ##method to return oil produced in a given month\n",
    "    def getOilAtMonth(self, n):\n",
    "        if n > 12 or n < 1:\n",
    "            ##bad\n",
    "            return -1\n",
    "        else:\n",
    "            return self.oilByMonth[n]\n",
    "    \n",
    "    ##method to return water produced in a given month\n",
    "    def getOilAtMonth(self, n):\n",
    "        if n > 12 or n < 1:\n",
    "            ##bad\n",
    "            return -1\n",
    "        else:\n",
    "            return self.waterByMonth[n]\n",
    "    \n",
    "    ##method to display data for this well\n",
    "    ##depth will be for getiing data at a given depth in a well. Not sure if or when I should implement this\n",
    "    def displayData(self, depth = 0):\n",
    "        if depth == 0:\n",
    "            data = pd.read_csv(_PATH + self.name + \".csv\")\n",
    "        else:\n",
    "            data = pd.read_csv(_PATH + self.name + \".csv\")\n",
    "            \n",
    "        print(\"Displaying data for: \" + self.name)\n",
    "        print(data)"
   ]
  },
  {
   "cell_type": "code",
   "execution_count": 4,
   "metadata": {},
   "outputs": [],
   "source": [
    "##method to take the data given, create a well object and store it in wells\n",
    "def createWells():\n",
    "    wellProduction = pd.read_csv(_PATH + \"well production.csv\")\n",
    "    for i in range(100):\n",
    "    ##for every well\n",
    "        ##get all the data from the well production csv\n",
    "        name = wellProduction.at[i, \"well name\"]\n",
    "        ap = wellProduction.at[i, \"average pressure (Pa)\"]\n",
    "        RF = wellProduction.at[i, \"recovery factor\"]\n",
    "        FVF = wellProduction.at[i, \"formation volume factor\"]\n",
    "        oil = wellProduction.iloc[i, 4:16] ##oil per month\n",
    "        water = wellProduction.iloc[i, 16:28] ##water per month\n",
    "        ##now that we have the name of the well, we can use that to access its\n",
    "        ##own csv file and get that data\n",
    "        wellDF = pd.read_csv(_PATH + name + \".csv\")\n",
    "        e = wellDF[\"easting\"]\n",
    "        n = wellDF[\"northing\"]\n",
    "        p = wellDF[\"porosity\"]\n",
    "        perm = wellDF[\"permeability\"]\n",
    "        pr = wellDF[\"Poisson's ratio\"]\n",
    "        ym = wellDF[\"Young's Modulus\"]\n",
    "        ws = wellDF[\"water saturation\"]\n",
    "        os = wellDF[\"oil saturation\"]\n",
    "        thick = wellDF[\"thickness (ft)\"]\n",
    "        prop = wellDF[\"proppant weight (lbs)\"]\n",
    "        pump = wellDF[\"pump rate (cubic feet/min)\"]\n",
    "        ##create a new well\n",
    "        temp = Well(e, n, p, perm, pr, ym, ws, os, thick, prop, pump, name, RF, ap, FVF, oil, water)\n",
    "        ##append the new well to the list\n",
    "        wells.append(temp)\n",
    "        "
   ]
  },
  {
   "cell_type": "code",
   "execution_count": null,
   "metadata": {},
   "outputs": [],
   "source": []
  },
  {
   "cell_type": "code",
   "execution_count": 5,
   "metadata": {
    "scrolled": false
   },
   "outputs": [],
   "source": [
    "createWells()"
   ]
  },
  {
   "cell_type": "code",
   "execution_count": 5,
   "metadata": {},
   "outputs": [
    {
     "data": {
      "text/plain": [
       "Text(0, 0.5, 'Total Production')"
      ]
     },
     "execution_count": 5,
     "metadata": {},
     "output_type": "execute_result"
    },
    {
     "data": {
      "image/png": "[encoded data removed]",
      "text/plain": [
       "<Figure size 432x288 with 1 Axes>"
      ]
     },
     "metadata": {
      "needs_background": "light"
     },
     "output_type": "display_data"
    }
   ],
   "source": [
    "#Graph well length vs total production\n",
    "xCoords = []\n",
    "yCoords = []\n",
    "depthVals = []\n",
    "for well in wells:\n",
    "    xCoords.append(well.getWellLength())\n",
    "    yCoords.append(well.getTotalProduction())\n",
    "    depthVals.append(well.thickness)\n",
    "plt.scatter(xCoords, yCoords, s = 4)\n",
    "plt.xlabel(\"Well Length\")\n",
    "plt.ylabel(\"Total Production\")"
   ]
  },
  {
   "cell_type": "code",
   "execution_count": 6,
   "metadata": {},
   "outputs": [],
   "source": [
    "#Graph amount of proppant to production"
   ]
  },
  {
   "cell_type": "code",
   "execution_count": 7,
   "metadata": {
    "scrolled": false
   },
   "outputs": [
    {
     "data": {
      "text/plain": [
       "Text(0, 0.5, 'Total Production')"
      ]
     },
     "execution_count": 7,
     "metadata": {},
     "output_type": "execute_result"
    },
    {
     "data": {
      "image/png": "[encoded data removed]",
      "text/plain": [
       "<Figure size 432x288 with 1 Axes>"
      ]
     },
     "metadata": {
      "needs_background": "light"
     },
     "output_type": "display_data"
    }
   ],
   "source": [
    "xCoords = []\n",
    "yCoords = []\n",
    "for well in wells:\n",
    "    xCoords.append(well.proppant.sum())\n",
    "    yCoords.append(well.getTotalProduction())\n",
    "plt.scatter(xCoords, yCoords, s = 4)\n",
    "plt.xlabel(\"Proppant\")\n",
    "plt.ylabel(\"Total Production\")"
   ]
  },
  {
   "cell_type": "code",
   "execution_count": 8,
   "metadata": {},
   "outputs": [
    {
     "ename": "NameError",
     "evalue": "name 'LinearRegresssion' is not defined",
     "output_type": "error",
     "traceback": [
      "\u001b[1;31m---------------------------------------------------------------------------\u001b[0m",
      "\u001b[1;31mNameError\u001b[0m                                 Traceback (most recent call last)",
      "\u001b[1;32m<ipython-input-8-5ef93384bf9d>\u001b[0m in \u001b[0;36m<module>\u001b[1;34m\u001b[0m\n\u001b[0;32m      1\u001b[0m \u001b[1;31m#linear regression on above graph\u001b[0m\u001b[1;33m\u001b[0m\u001b[1;33m\u001b[0m\u001b[1;33m\u001b[0m\u001b[0m\n\u001b[1;32m----> 2\u001b[1;33m \u001b[0mlinreg\u001b[0m \u001b[1;33m=\u001b[0m \u001b[0mLinearRegresssion\u001b[0m\u001b[1;33m(\u001b[0m\u001b[1;33m)\u001b[0m\u001b[1;33m\u001b[0m\u001b[1;33m\u001b[0m\u001b[0m\n\u001b[0m\u001b[0;32m      3\u001b[0m \u001b[0mlinreg\u001b[0m\u001b[1;33m.\u001b[0m\u001b[0mfit\u001b[0m\u001b[1;33m(\u001b[0m\u001b[0mx\u001b[0m\u001b[1;33m,\u001b[0m\u001b[0my\u001b[0m\u001b[1;33m)\u001b[0m\u001b[1;33m\u001b[0m\u001b[1;33m\u001b[0m\u001b[0m\n",
      "\u001b[1;31mNameError\u001b[0m: name 'LinearRegresssion' is not defined"
     ]
    }
   ],
   "source": [
    "#linear regression on above graph\n",
    "linreg = LinearRegression()\n",
    "linreg.fit(x,y)\n",
    "plt.plot(x, y)"
   ]
  },
  {
   "cell_type": "code",
   "execution_count": null,
   "metadata": {},
   "outputs": [],
   "source": []
  }
 ],
 "metadata": {
  "kernelspec": {
   "display_name": "Python 3",
   "language": "python",
   "name": "python3"
  },
  "language_info": {
   "codemirror_mode": {
    "name": "ipython",
    "version": 3
   },
   "file_extension": ".py",
   "mimetype": "text/x-python",
   "name": "python",
   "nbconvert_exporter": "python",
   "pygments_lexer": "ipython3",
   "version": "3.6.7"
  }
 },
 "nbformat": 4,
 "nbformat_minor": 2
}
