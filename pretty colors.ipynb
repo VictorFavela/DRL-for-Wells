{
 "cells": [
  {
   "cell_type": "code",
   "execution_count": 2,
   "metadata": {},
   "outputs": [],
   "source": [
    "import pandas as pd\n",
    "import numpy as np\n",
    "import matplotlib.pyplot as plt\n",
    "from sklearn.linear_model import LinearRegression\n",
    "from mpl_toolkits import mplot3d\n",
    "import matplotlib.colors as colors\n",
    "import lasio\n",
    "import seaborn as sns; sns.set()\n",
    "%matplotlib inline"
   ]
  },
  {
   "cell_type": "code",
   "execution_count": 3,
   "metadata": {},
   "outputs": [],
   "source": [
    "wellProd = pd.read_csv(\"Data/well production.csv\")\n",
    "fileNames = wellProd[\"well name\"]\n",
    "wellDFs = [pd.read_csv(\"Data/\" + el + \".csv\") for el in fileNames]"
   ]
  },
  {
   "cell_type": "code",
   "execution_count": 4,
   "metadata": {},
   "outputs": [
    {
     "name": "stderr",
     "output_type": "stream",
     "text": [
      "/u/mgiordan/anaconda3/envs/energyanalytics/lib/python3.6/site-packages/ipykernel_launcher.py:5: SettingWithCopyWarning: \n",
      "A value is trying to be set on a copy of a slice from a DataFrame.\n",
      "Try using .loc[row_indexer,col_indexer] = value instead\n",
      "\n",
      "See the caveats in the documentation: http://pandas.pydata.org/pandas-docs/stable/user_guide/indexing.html#returning-a-view-versus-a-copy\n",
      "  \"\"\"\n",
      "/u/mgiordan/anaconda3/envs/energyanalytics/lib/python3.6/site-packages/ipykernel_launcher.py:6: SettingWithCopyWarning: \n",
      "A value is trying to be set on a copy of a slice from a DataFrame.\n",
      "Try using .loc[row_indexer,col_indexer] = value instead\n",
      "\n",
      "See the caveats in the documentation: http://pandas.pydata.org/pandas-docs/stable/user_guide/indexing.html#returning-a-view-versus-a-copy\n",
      "  \n"
     ]
    },
    {
     "data": {
      "text/html": [
       "<div>\n",
       "<style scoped>\n",
       "    .dataframe tbody tr th:only-of-type {\n",
       "        vertical-align: middle;\n",
       "    }\n",
       "\n",
       "    .dataframe tbody tr th {\n",
       "        vertical-align: top;\n",
       "    }\n",
       "\n",
       "    .dataframe thead th {\n",
       "        text-align: right;\n",
       "    }\n",
       "</style>\n",
       "<table border=\"1\" class=\"dataframe\">\n",
       "  <thead>\n",
       "    <tr style=\"text-align: right;\">\n",
       "      <th></th>\n",
       "      <th>well name</th>\n",
       "      <th>totalOil</th>\n",
       "      <th>totalWater</th>\n",
       "    </tr>\n",
       "  </thead>\n",
       "  <tbody>\n",
       "    <tr>\n",
       "      <th>0</th>\n",
       "      <td>Peak 6-217H</td>\n",
       "      <td>6808.0</td>\n",
       "      <td>4378.0</td>\n",
       "    </tr>\n",
       "    <tr>\n",
       "      <th>1</th>\n",
       "      <td>Tarragon 4-119H</td>\n",
       "      <td>1968.0</td>\n",
       "      <td>873.0</td>\n",
       "    </tr>\n",
       "    <tr>\n",
       "      <th>2</th>\n",
       "      <td>Fennel 10-129H</td>\n",
       "      <td>736.0</td>\n",
       "      <td>298.0</td>\n",
       "    </tr>\n",
       "    <tr>\n",
       "      <th>3</th>\n",
       "      <td>Federal 14-113H</td>\n",
       "      <td>2204.0</td>\n",
       "      <td>1093.0</td>\n",
       "    </tr>\n",
       "    <tr>\n",
       "      <th>4</th>\n",
       "      <td>King 7-184H</td>\n",
       "      <td>490.0</td>\n",
       "      <td>7.0</td>\n",
       "    </tr>\n",
       "    <tr>\n",
       "      <th>...</th>\n",
       "      <td>...</td>\n",
       "      <td>...</td>\n",
       "      <td>...</td>\n",
       "    </tr>\n",
       "    <tr>\n",
       "      <th>95</th>\n",
       "      <td>Pole 11-4H</td>\n",
       "      <td>7605.0</td>\n",
       "      <td>6839.0</td>\n",
       "    </tr>\n",
       "    <tr>\n",
       "      <th>96</th>\n",
       "      <td>Burger 6-148H</td>\n",
       "      <td>315.0</td>\n",
       "      <td>9.0</td>\n",
       "    </tr>\n",
       "    <tr>\n",
       "      <th>97</th>\n",
       "      <td>King 14-184H</td>\n",
       "      <td>8279.0</td>\n",
       "      <td>7227.0</td>\n",
       "    </tr>\n",
       "    <tr>\n",
       "      <th>98</th>\n",
       "      <td>Tribal 14-4H</td>\n",
       "      <td>2780.0</td>\n",
       "      <td>1501.0</td>\n",
       "    </tr>\n",
       "    <tr>\n",
       "      <th>99</th>\n",
       "      <td>Pikachu 13-133H</td>\n",
       "      <td>4355.0</td>\n",
       "      <td>3023.0</td>\n",
       "    </tr>\n",
       "  </tbody>\n",
       "</table>\n",
       "<p>100 rows × 3 columns</p>\n",
       "</div>"
      ],
      "text/plain": [
       "          well name  totalOil  totalWater\n",
       "0       Peak 6-217H    6808.0      4378.0\n",
       "1   Tarragon 4-119H    1968.0       873.0\n",
       "2    Fennel 10-129H     736.0       298.0\n",
       "3   Federal 14-113H    2204.0      1093.0\n",
       "4       King 7-184H     490.0         7.0\n",
       "..              ...       ...         ...\n",
       "95       Pole 11-4H    7605.0      6839.0\n",
       "96    Burger 6-148H     315.0         9.0\n",
       "97     King 14-184H    8279.0      7227.0\n",
       "98     Tribal 14-4H    2780.0      1501.0\n",
       "99  Pikachu 13-133H    4355.0      3023.0\n",
       "\n",
       "[100 rows x 3 columns]"
      ]
     },
     "execution_count": 4,
     "metadata": {},
     "output_type": "execute_result"
    }
   ],
   "source": [
    "wellOutput=pd.read_csv(\"Data/well production.csv\")\n",
    "importantData=wellOutput.iloc[:,0:1]\n",
    "oilSubset=wellOutput.iloc[:,4:16]\n",
    "oilSubset2=wellOutput.iloc[:,17:29]\n",
    "importantData['totalOil'] = oilSubset.sum(axis=1)\n",
    "importantData['totalWater'] = oilSubset2.sum(axis=1)\n",
    "importantData"
   ]
  },
  {
   "cell_type": "code",
   "execution_count": null,
   "metadata": {},
   "outputs": [],
   "source": []
  },
  {
   "cell_type": "code",
   "execution_count": 5,
   "metadata": {},
   "outputs": [],
   "source": [
    "eastings = [el.easting for el in wellDFs]\n",
    "northings = [el.northing for el in wellDFs]\n",
    "porosities = [el.porosity for el in wellDFs]\n",
    "wSaturations = [el[\"water saturation\"] for el in wellDFs]"
   ]
  },
  {
   "cell_type": "code",
   "execution_count": 6,
   "metadata": {},
   "outputs": [
    {
     "data": {
      "text/plain": [
       "<matplotlib.collections.PathCollection at 0x7f63bdc4e908>"
      ]
     },
     "execution_count": 6,
     "metadata": {},
     "output_type": "execute_result"
    },
    {
     "data": {
      "image/png": "[encoded data removed]",
      "text/plain": [
       "<Figure size 432x288 with 1 Axes>"
      ]
     },
     "metadata": {
      "needs_background": "light"
     },
     "output_type": "display_data"
    }
   ],
   "source": [
    "plt.scatter(eastings,northings)"
   ]
  },
  {
   "cell_type": "code",
   "execution_count": 6,
   "metadata": {},
   "outputs": [
    {
     "data": {
      "text/plain": [
       "<matplotlib.collections.PathCollection at 0x7fdfca4a6518>"
      ]
     },
     "execution_count": 6,
     "metadata": {},
     "output_type": "execute_result"
    },
    {
     "data": {
      "image/png": "[encoded data removed]",
      "text/plain": [
       "<Figure size 432x288 with 1 Axes>"
      ]
     },
     "metadata": {
      "needs_background": "light"
     },
     "output_type": "display_data"
    }
   ],
   "source": [
    "plt.scatter(eastings[0],northings[0])"
   ]
  },
  {
   "cell_type": "code",
   "execution_count": 112,
   "metadata": {},
   "outputs": [
    {
     "data": {
      "text/plain": [
       "array([ 862.,  228.,   67.,  256.,   23.,   62.,  320.,  168.,  213.,\n",
       "         88.,  279.,  164.,   50.,  120.,   15.,   99.,  419.,  306.,\n",
       "         22.,  294.,  289.,  113.,  374.,  196.,  116.,  559.,   41.,\n",
       "        353.,   41.,  282.,  139.,   82.,  127.,   35.,  234.,  147.,\n",
       "        115.,    9.,   49.,   92.,  196.,  192.,  122.,  176.,  982.,\n",
       "        414.,  297.,   73.,  228.,  107.,   20.,    8.,   94.,   51.,\n",
       "         18.,   28.,  175.,  132.,   29.,  318.,  157.,  106.,   54.,\n",
       "         83.,  374.,  157.,  480.,  167.,  124.,   83.,  262.,  327.,\n",
       "        151.,  506.,  240.,  153.,   73.,   49.,   13.,   30.,   64.,\n",
       "        378.,  100.,  162.,   54.,   79.,    5.,  113.,  122.,  116.,\n",
       "        115.,  151.,   97.,  314.,  120.,  981.,    5., 1053.,  332.,\n",
       "        542.])"
      ]
     },
     "execution_count": 112,
     "metadata": {},
     "output_type": "execute_result"
    }
   ],
   "source": [
    "oils = np.array([wellProd[\"oil \" + str(i+1)] for i in range(12)])\n",
    "oilPerPoint = [oils[i] / len(eastings[i]) for i in range(len(oils))]\n",
    "oilPerPoint;\n",
    "totalOil = [oil.sum() for oil in oils]\n",
    "\n",
    "rfs = wellProd[\"recovery factor\"]\n",
    "oils\n",
    "\n",
    "\n",
    "oils = wellProd[\"oil 1\"]\n",
    "oilPerPoint = [oils[i] / len(eastings[i]) for i in range(len(oils))]\n",
    "np.array(oilPerPoint)*100"
   ]
  },
  {
   "cell_type": "code",
   "execution_count": 113,
   "metadata": {},
   "outputs": [
    {
     "data": {
      "text/html": [
       "<div>\n",
       "<style scoped>\n",
       "    .dataframe tbody tr th:only-of-type {\n",
       "        vertical-align: middle;\n",
       "    }\n",
       "\n",
       "    .dataframe tbody tr th {\n",
       "        vertical-align: top;\n",
       "    }\n",
       "\n",
       "    .dataframe thead th {\n",
       "        text-align: right;\n",
       "    }\n",
       "</style>\n",
       "<table border=\"1\" class=\"dataframe\">\n",
       "  <thead>\n",
       "    <tr style=\"text-align: right;\">\n",
       "      <th></th>\n",
       "      <th>0</th>\n",
       "      <th>1</th>\n",
       "      <th>2</th>\n",
       "    </tr>\n",
       "  </thead>\n",
       "  <tbody>\n",
       "    <tr>\n",
       "      <th>0</th>\n",
       "      <td>78000.0</td>\n",
       "      <td>1600.0</td>\n",
       "      <td>862.0</td>\n",
       "    </tr>\n",
       "    <tr>\n",
       "      <th>1</th>\n",
       "      <td>78076.0</td>\n",
       "      <td>1600.0</td>\n",
       "      <td>862.0</td>\n",
       "    </tr>\n",
       "    <tr>\n",
       "      <th>2</th>\n",
       "      <td>78153.0</td>\n",
       "      <td>1600.0</td>\n",
       "      <td>862.0</td>\n",
       "    </tr>\n",
       "    <tr>\n",
       "      <th>3</th>\n",
       "      <td>78229.0</td>\n",
       "      <td>1600.0</td>\n",
       "      <td>862.0</td>\n",
       "    </tr>\n",
       "    <tr>\n",
       "      <th>4</th>\n",
       "      <td>78306.0</td>\n",
       "      <td>1600.0</td>\n",
       "      <td>862.0</td>\n",
       "    </tr>\n",
       "    <tr>\n",
       "      <th>...</th>\n",
       "      <td>...</td>\n",
       "      <td>...</td>\n",
       "      <td>...</td>\n",
       "    </tr>\n",
       "    <tr>\n",
       "      <th>9995</th>\n",
       "      <td>68381.0</td>\n",
       "      <td>14400.0</td>\n",
       "      <td>542.0</td>\n",
       "    </tr>\n",
       "    <tr>\n",
       "      <th>9996</th>\n",
       "      <td>68434.0</td>\n",
       "      <td>14400.0</td>\n",
       "      <td>542.0</td>\n",
       "    </tr>\n",
       "    <tr>\n",
       "      <th>9997</th>\n",
       "      <td>68488.0</td>\n",
       "      <td>14400.0</td>\n",
       "      <td>542.0</td>\n",
       "    </tr>\n",
       "    <tr>\n",
       "      <th>9998</th>\n",
       "      <td>68541.0</td>\n",
       "      <td>14400.0</td>\n",
       "      <td>542.0</td>\n",
       "    </tr>\n",
       "    <tr>\n",
       "      <th>9999</th>\n",
       "      <td>68595.0</td>\n",
       "      <td>14400.0</td>\n",
       "      <td>542.0</td>\n",
       "    </tr>\n",
       "  </tbody>\n",
       "</table>\n",
       "<p>10000 rows × 3 columns</p>\n",
       "</div>"
      ],
      "text/plain": [
       "            0        1      2\n",
       "0     78000.0   1600.0  862.0\n",
       "1     78076.0   1600.0  862.0\n",
       "2     78153.0   1600.0  862.0\n",
       "3     78229.0   1600.0  862.0\n",
       "4     78306.0   1600.0  862.0\n",
       "...       ...      ...    ...\n",
       "9995  68381.0  14400.0  542.0\n",
       "9996  68434.0  14400.0  542.0\n",
       "9997  68488.0  14400.0  542.0\n",
       "9998  68541.0  14400.0  542.0\n",
       "9999  68595.0  14400.0  542.0\n",
       "\n",
       "[10000 rows x 3 columns]"
      ]
     },
     "execution_count": 113,
     "metadata": {},
     "output_type": "execute_result"
    }
   ],
   "source": [
    "important = pd.DataFrame(np.array([np.array(eastings).flatten(), np.array(northings).flatten(), (np.array(oilPerPoint)*100).repeat(len(eastings))]).transpose())\n",
    "important"
   ]
  },
  {
   "cell_type": "code",
   "execution_count": 114,
   "metadata": {},
   "outputs": [],
   "source": [
    "important = important.iloc[::25]"
   ]
  },
  {
   "cell_type": "code",
   "execution_count": 10,
   "metadata": {},
   "outputs": [
    {
     "data": {
      "text/plain": [
       "array([[0.        , 0.        ],\n",
       "       [0.11111111, 0.11111111],\n",
       "       [0.22222222, 0.22222222],\n",
       "       [0.33333333, 0.33333333],\n",
       "       [0.44444444, 0.44444444],\n",
       "       [0.55555556, 0.55555556],\n",
       "       [0.66666667, 0.66666667],\n",
       "       [0.77777778, 0.77777778],\n",
       "       [0.88888889, 0.88888889],\n",
       "       [1.        , 1.        ]])"
      ]
     },
     "execution_count": 10,
     "metadata": {},
     "output_type": "execute_result"
    }
   ],
   "source": [
    "np.linspace([0,0],[1,1], 10)"
   ]
  },
  {
   "cell_type": "code",
   "execution_count": 128,
   "metadata": {},
   "outputs": [],
   "source": [
    "X = np.array(important.iloc[:,0:2])\n",
    "y = np.array(important.iloc[:,2])\n",
    "#reg = LinearRegression().fit(X,y)"
   ]
  },
  {
   "cell_type": "code",
   "execution_count": 14,
   "metadata": {},
   "outputs": [
    {
     "data": {
      "text/plain": [
       "400"
      ]
     },
     "execution_count": 14,
     "metadata": {},
     "output_type": "execute_result"
    }
   ],
   "source": [
    "from sklearn.svm import SVR, SVC\n",
    "from sklearn.model_selection import train_test_split\n",
    "from sklearn.model_selection import GridSearchCV \n",
    "len(important)"
   ]
  },
  {
   "cell_type": "code",
   "execution_count": 444,
   "metadata": {},
   "outputs": [],
   "source": [
    "svr = SVR(kernel='rbf', C=1, gamma=\"scale\")"
   ]
  },
  {
   "cell_type": "code",
   "execution_count": 445,
   "metadata": {},
   "outputs": [
    {
     "data": {
      "text/plain": [
       "SVR(C=1, cache_size=200, coef0=0.0, degree=3, epsilon=0.1, gamma='scale',\n",
       "    kernel='rbf', max_iter=-1, shrinking=True, tol=0.001, verbose=False)"
      ]
     },
     "execution_count": 445,
     "metadata": {},
     "output_type": "execute_result"
    }
   ],
   "source": [
    "svr.fit(X_train,y_train)"
   ]
  },
  {
   "cell_type": "code",
   "execution_count": 446,
   "metadata": {},
   "outputs": [
    {
     "data": {
      "text/plain": [
       "0.7677389294386247"
      ]
     },
     "execution_count": 446,
     "metadata": {},
     "output_type": "execute_result"
    }
   ],
   "source": [
    "svr.score(X_test, y_test)"
   ]
  },
  {
   "cell_type": "code",
   "execution_count": 447,
   "metadata": {},
   "outputs": [
    {
     "name": "stdout",
     "output_type": "stream",
     "text": [
      "{'C': 1, 'epsilon': 0.1, 'gamma': 'scale'}\n"
     ]
    },
    {
     "data": {
      "text/plain": [
       "0.4367757356480907"
      ]
     },
     "execution_count": 447,
     "metadata": {},
     "output_type": "execute_result"
    }
   ],
   "source": [
    "X_train, X_test, y_train, y_test = train_test_split(X, y, test_size=0.10)\n",
    "gsc = GridSearchCV(\n",
    "        estimator=SVR(kernel='rbf'),\n",
    "        param_grid={\n",
    "            'C': [.001, 0.01, 0.1, 1, 100, 1000],\n",
    "            'epsilon': [.00001, 0.0001, 0.0005, 0.001, 0.005, 0.01, 0.05, 0.1, 0.5, 1, 5, 10],\n",
    "            'gamma': [.0001, 0.001, 0.005, 0.1, 1, 3, 5, \"scale\", \"auto\"]\n",
    "        },\n",
    "        cv=5, \n",
    "    scoring='r2',\n",
    "    verbose=0, n_jobs=-1)\n",
    "  \n",
    "# fitting the model for grid search \n",
    "gsc.fit(X_train, y_train)\n",
    "print(gsc.best_params_)\n",
    "svr = gsc\n",
    "gsc.score(X_test, y_test)"
   ]
  },
  {
   "cell_type": "code",
   "execution_count": 15,
   "metadata": {},
   "outputs": [
    {
     "name": "stderr",
     "output_type": "stream",
     "text": [
      "Using TensorFlow backend.\n",
      "/u/mgiordan/anaconda3/envs/energyanalytics/lib/python3.6/site-packages/tensorflow/python/framework/dtypes.py:526: FutureWarning: Passing (type, 1) or '1type' as a synonym of type is deprecated; in a future version of numpy, it will be understood as (type, (1,)) / '(1,)type'.\n",
      "  _np_qint8 = np.dtype([(\"qint8\", np.int8, 1)])\n",
      "/u/mgiordan/anaconda3/envs/energyanalytics/lib/python3.6/site-packages/tensorflow/python/framework/dtypes.py:527: FutureWarning: Passing (type, 1) or '1type' as a synonym of type is deprecated; in a future version of numpy, it will be understood as (type, (1,)) / '(1,)type'.\n",
      "  _np_quint8 = np.dtype([(\"quint8\", np.uint8, 1)])\n",
      "/u/mgiordan/anaconda3/envs/energyanalytics/lib/python3.6/site-packages/tensorflow/python/framework/dtypes.py:528: FutureWarning: Passing (type, 1) or '1type' as a synonym of type is deprecated; in a future version of numpy, it will be understood as (type, (1,)) / '(1,)type'.\n",
      "  _np_qint16 = np.dtype([(\"qint16\", np.int16, 1)])\n",
      "/u/mgiordan/anaconda3/envs/energyanalytics/lib/python3.6/site-packages/tensorflow/python/framework/dtypes.py:529: FutureWarning: Passing (type, 1) or '1type' as a synonym of type is deprecated; in a future version of numpy, it will be understood as (type, (1,)) / '(1,)type'.\n",
      "  _np_quint16 = np.dtype([(\"quint16\", np.uint16, 1)])\n",
      "/u/mgiordan/anaconda3/envs/energyanalytics/lib/python3.6/site-packages/tensorflow/python/framework/dtypes.py:530: FutureWarning: Passing (type, 1) or '1type' as a synonym of type is deprecated; in a future version of numpy, it will be understood as (type, (1,)) / '(1,)type'.\n",
      "  _np_qint32 = np.dtype([(\"qint32\", np.int32, 1)])\n",
      "/u/mgiordan/anaconda3/envs/energyanalytics/lib/python3.6/site-packages/tensorflow/python/framework/dtypes.py:535: FutureWarning: Passing (type, 1) or '1type' as a synonym of type is deprecated; in a future version of numpy, it will be understood as (type, (1,)) / '(1,)type'.\n",
      "  np_resource = np.dtype([(\"resource\", np.ubyte, 1)])\n"
     ]
    },
    {
     "ename": "KeyboardInterrupt",
     "evalue": "",
     "output_type": "error",
     "traceback": [
      "\u001b[0;31m---------------------------------------------------------------------------\u001b[0m",
      "\u001b[0;31mKeyboardInterrupt\u001b[0m                         Traceback (most recent call last)",
      "\u001b[0;32m<ipython-input-15-8c06e03c6160>\u001b[0m in \u001b[0;36m<module>\u001b[0;34m\u001b[0m\n\u001b[0;32m----> 1\u001b[0;31m \u001b[0;32mimport\u001b[0m \u001b[0mkeras\u001b[0m\u001b[0;34m\u001b[0m\u001b[0;34m\u001b[0m\u001b[0m\n\u001b[0m\u001b[1;32m      2\u001b[0m \u001b[0;32mfrom\u001b[0m \u001b[0mkeras\u001b[0m\u001b[0;34m.\u001b[0m\u001b[0mlayers\u001b[0m \u001b[0;32mimport\u001b[0m \u001b[0mDense\u001b[0m\u001b[0;34m\u001b[0m\u001b[0;34m\u001b[0m\u001b[0m\n\u001b[1;32m      3\u001b[0m \u001b[0mmodel\u001b[0m \u001b[0;34m=\u001b[0m \u001b[0mkeras\u001b[0m\u001b[0;34m.\u001b[0m\u001b[0mSequential\u001b[0m\u001b[0;34m(\u001b[0m\u001b[0;34m)\u001b[0m\u001b[0;34m\u001b[0m\u001b[0;34m\u001b[0m\u001b[0m\n\u001b[1;32m      4\u001b[0m \u001b[0mmodel\u001b[0m\u001b[0;34m.\u001b[0m\u001b[0madd\u001b[0m\u001b[0;34m(\u001b[0m\u001b[0mDense\u001b[0m\u001b[0;34m(\u001b[0m\u001b[0;36m4\u001b[0m\u001b[0;34m,\u001b[0m \u001b[0minput_dim\u001b[0m\u001b[0;34m=\u001b[0m\u001b[0;36m2\u001b[0m\u001b[0;34m,\u001b[0m \u001b[0mactivation\u001b[0m\u001b[0;34m=\u001b[0m\u001b[0;34m'relu'\u001b[0m\u001b[0;34m)\u001b[0m\u001b[0;34m)\u001b[0m\u001b[0;34m\u001b[0m\u001b[0;34m\u001b[0m\u001b[0m\n\u001b[1;32m      5\u001b[0m \u001b[0mmodel\u001b[0m\u001b[0;34m.\u001b[0m\u001b[0madd\u001b[0m\u001b[0;34m(\u001b[0m\u001b[0mDense\u001b[0m\u001b[0;34m(\u001b[0m\u001b[0;36m4\u001b[0m\u001b[0;34m,\u001b[0m \u001b[0mactivation\u001b[0m\u001b[0;34m=\u001b[0m\u001b[0;34m'relu'\u001b[0m\u001b[0;34m)\u001b[0m\u001b[0;34m)\u001b[0m\u001b[0;34m\u001b[0m\u001b[0;34m\u001b[0m\u001b[0m\n",
      "\u001b[0;32m~/anaconda3/envs/energyanalytics/lib/python3.6/site-packages/keras/__init__.py\u001b[0m in \u001b[0;36m<module>\u001b[0;34m\u001b[0m\n\u001b[1;32m      1\u001b[0m \u001b[0;32mfrom\u001b[0m \u001b[0m__future__\u001b[0m \u001b[0;32mimport\u001b[0m \u001b[0mabsolute_import\u001b[0m\u001b[0;34m\u001b[0m\u001b[0;34m\u001b[0m\u001b[0m\n\u001b[1;32m      2\u001b[0m \u001b[0;34m\u001b[0m\u001b[0m\n\u001b[0;32m----> 3\u001b[0;31m \u001b[0;32mfrom\u001b[0m \u001b[0;34m.\u001b[0m \u001b[0;32mimport\u001b[0m \u001b[0mutils\u001b[0m\u001b[0;34m\u001b[0m\u001b[0;34m\u001b[0m\u001b[0m\n\u001b[0m\u001b[1;32m      4\u001b[0m \u001b[0;32mfrom\u001b[0m \u001b[0;34m.\u001b[0m \u001b[0;32mimport\u001b[0m \u001b[0mactivations\u001b[0m\u001b[0;34m\u001b[0m\u001b[0;34m\u001b[0m\u001b[0m\n\u001b[1;32m      5\u001b[0m \u001b[0;32mfrom\u001b[0m \u001b[0;34m.\u001b[0m \u001b[0;32mimport\u001b[0m \u001b[0mapplications\u001b[0m\u001b[0;34m\u001b[0m\u001b[0;34m\u001b[0m\u001b[0m\n",
      "\u001b[0;32m~/anaconda3/envs/energyanalytics/lib/python3.6/site-packages/keras/utils/__init__.py\u001b[0m in \u001b[0;36m<module>\u001b[0;34m\u001b[0m\n\u001b[1;32m      4\u001b[0m \u001b[0;32mfrom\u001b[0m \u001b[0;34m.\u001b[0m \u001b[0;32mimport\u001b[0m \u001b[0mdata_utils\u001b[0m\u001b[0;34m\u001b[0m\u001b[0;34m\u001b[0m\u001b[0m\n\u001b[1;32m      5\u001b[0m \u001b[0;32mfrom\u001b[0m \u001b[0;34m.\u001b[0m \u001b[0;32mimport\u001b[0m \u001b[0mio_utils\u001b[0m\u001b[0;34m\u001b[0m\u001b[0;34m\u001b[0m\u001b[0m\n\u001b[0;32m----> 6\u001b[0;31m \u001b[0;32mfrom\u001b[0m \u001b[0;34m.\u001b[0m \u001b[0;32mimport\u001b[0m \u001b[0mconv_utils\u001b[0m\u001b[0;34m\u001b[0m\u001b[0;34m\u001b[0m\u001b[0m\n\u001b[0m\u001b[1;32m      7\u001b[0m \u001b[0;32mfrom\u001b[0m \u001b[0;34m.\u001b[0m \u001b[0;32mimport\u001b[0m \u001b[0mlosses_utils\u001b[0m\u001b[0;34m\u001b[0m\u001b[0;34m\u001b[0m\u001b[0m\n\u001b[1;32m      8\u001b[0m \u001b[0;32mfrom\u001b[0m \u001b[0;34m.\u001b[0m \u001b[0;32mimport\u001b[0m \u001b[0mmetrics_utils\u001b[0m\u001b[0;34m\u001b[0m\u001b[0;34m\u001b[0m\u001b[0m\n",
      "\u001b[0;32m~/anaconda3/envs/energyanalytics/lib/python3.6/site-packages/keras/utils/conv_utils.py\u001b[0m in \u001b[0;36m<module>\u001b[0;34m\u001b[0m\n\u001b[1;32m      7\u001b[0m \u001b[0;32mfrom\u001b[0m \u001b[0msix\u001b[0m\u001b[0;34m.\u001b[0m\u001b[0mmoves\u001b[0m \u001b[0;32mimport\u001b[0m \u001b[0mrange\u001b[0m\u001b[0;34m\u001b[0m\u001b[0;34m\u001b[0m\u001b[0m\n\u001b[1;32m      8\u001b[0m \u001b[0;32mimport\u001b[0m \u001b[0mnumpy\u001b[0m \u001b[0;32mas\u001b[0m \u001b[0mnp\u001b[0m\u001b[0;34m\u001b[0m\u001b[0;34m\u001b[0m\u001b[0m\n\u001b[0;32m----> 9\u001b[0;31m \u001b[0;32mfrom\u001b[0m \u001b[0;34m.\u001b[0m\u001b[0;34m.\u001b[0m \u001b[0;32mimport\u001b[0m \u001b[0mbackend\u001b[0m \u001b[0;32mas\u001b[0m \u001b[0mK\u001b[0m\u001b[0;34m\u001b[0m\u001b[0;34m\u001b[0m\u001b[0m\n\u001b[0m\u001b[1;32m     10\u001b[0m \u001b[0;34m\u001b[0m\u001b[0m\n\u001b[1;32m     11\u001b[0m \u001b[0;34m\u001b[0m\u001b[0m\n",
      "\u001b[0;32m~/anaconda3/envs/energyanalytics/lib/python3.6/site-packages/keras/backend/__init__.py\u001b[0m in \u001b[0;36m<module>\u001b[0;34m\u001b[0m\n\u001b[0;32m----> 1\u001b[0;31m \u001b[0;32mfrom\u001b[0m \u001b[0;34m.\u001b[0m\u001b[0mload_backend\u001b[0m \u001b[0;32mimport\u001b[0m \u001b[0mepsilon\u001b[0m\u001b[0;34m\u001b[0m\u001b[0;34m\u001b[0m\u001b[0m\n\u001b[0m\u001b[1;32m      2\u001b[0m \u001b[0;32mfrom\u001b[0m \u001b[0;34m.\u001b[0m\u001b[0mload_backend\u001b[0m \u001b[0;32mimport\u001b[0m \u001b[0mset_epsilon\u001b[0m\u001b[0;34m\u001b[0m\u001b[0;34m\u001b[0m\u001b[0m\n\u001b[1;32m      3\u001b[0m \u001b[0;32mfrom\u001b[0m \u001b[0;34m.\u001b[0m\u001b[0mload_backend\u001b[0m \u001b[0;32mimport\u001b[0m \u001b[0mfloatx\u001b[0m\u001b[0;34m\u001b[0m\u001b[0;34m\u001b[0m\u001b[0m\n\u001b[1;32m      4\u001b[0m \u001b[0;32mfrom\u001b[0m \u001b[0;34m.\u001b[0m\u001b[0mload_backend\u001b[0m \u001b[0;32mimport\u001b[0m \u001b[0mset_floatx\u001b[0m\u001b[0;34m\u001b[0m\u001b[0;34m\u001b[0m\u001b[0m\n\u001b[1;32m      5\u001b[0m \u001b[0;32mfrom\u001b[0m \u001b[0;34m.\u001b[0m\u001b[0mload_backend\u001b[0m \u001b[0;32mimport\u001b[0m \u001b[0mcast_to_floatx\u001b[0m\u001b[0;34m\u001b[0m\u001b[0;34m\u001b[0m\u001b[0m\n",
      "\u001b[0;32m~/anaconda3/envs/energyanalytics/lib/python3.6/site-packages/keras/backend/load_backend.py\u001b[0m in \u001b[0;36m<module>\u001b[0;34m\u001b[0m\n\u001b[1;32m     88\u001b[0m \u001b[0;32melif\u001b[0m \u001b[0m_BACKEND\u001b[0m \u001b[0;34m==\u001b[0m \u001b[0;34m'tensorflow'\u001b[0m\u001b[0;34m:\u001b[0m\u001b[0;34m\u001b[0m\u001b[0;34m\u001b[0m\u001b[0m\n\u001b[1;32m     89\u001b[0m     \u001b[0msys\u001b[0m\u001b[0;34m.\u001b[0m\u001b[0mstderr\u001b[0m\u001b[0;34m.\u001b[0m\u001b[0mwrite\u001b[0m\u001b[0;34m(\u001b[0m\u001b[0;34m'Using TensorFlow backend.\\n'\u001b[0m\u001b[0;34m)\u001b[0m\u001b[0;34m\u001b[0m\u001b[0;34m\u001b[0m\u001b[0m\n\u001b[0;32m---> 90\u001b[0;31m     \u001b[0;32mfrom\u001b[0m \u001b[0;34m.\u001b[0m\u001b[0mtensorflow_backend\u001b[0m \u001b[0;32mimport\u001b[0m \u001b[0;34m*\u001b[0m\u001b[0;34m\u001b[0m\u001b[0;34m\u001b[0m\u001b[0m\n\u001b[0m\u001b[1;32m     91\u001b[0m \u001b[0;32melse\u001b[0m\u001b[0;34m:\u001b[0m\u001b[0;34m\u001b[0m\u001b[0;34m\u001b[0m\u001b[0m\n\u001b[1;32m     92\u001b[0m     \u001b[0;31m# Try and load external backend.\u001b[0m\u001b[0;34m\u001b[0m\u001b[0;34m\u001b[0m\u001b[0;34m\u001b[0m\u001b[0m\n",
      "\u001b[0;32m~/anaconda3/envs/energyanalytics/lib/python3.6/site-packages/keras/backend/tensorflow_backend.py\u001b[0m in \u001b[0;36m<module>\u001b[0;34m\u001b[0m\n\u001b[1;32m      3\u001b[0m \u001b[0;32mfrom\u001b[0m \u001b[0m__future__\u001b[0m \u001b[0;32mimport\u001b[0m \u001b[0mprint_function\u001b[0m\u001b[0;34m\u001b[0m\u001b[0;34m\u001b[0m\u001b[0m\n\u001b[1;32m      4\u001b[0m \u001b[0;34m\u001b[0m\u001b[0m\n\u001b[0;32m----> 5\u001b[0;31m \u001b[0;32mimport\u001b[0m \u001b[0mtensorflow\u001b[0m \u001b[0;32mas\u001b[0m \u001b[0mtf\u001b[0m\u001b[0;34m\u001b[0m\u001b[0;34m\u001b[0m\u001b[0m\n\u001b[0m\u001b[1;32m      6\u001b[0m \u001b[0;32mfrom\u001b[0m \u001b[0mtensorflow\u001b[0m\u001b[0;34m.\u001b[0m\u001b[0mpython\u001b[0m\u001b[0;34m.\u001b[0m\u001b[0meager\u001b[0m \u001b[0;32mimport\u001b[0m \u001b[0mcontext\u001b[0m\u001b[0;34m\u001b[0m\u001b[0;34m\u001b[0m\u001b[0m\n\u001b[1;32m      7\u001b[0m \u001b[0;32mfrom\u001b[0m \u001b[0mtensorflow\u001b[0m\u001b[0;34m.\u001b[0m\u001b[0mpython\u001b[0m\u001b[0;34m.\u001b[0m\u001b[0mframework\u001b[0m \u001b[0;32mimport\u001b[0m \u001b[0mdevice\u001b[0m \u001b[0;32mas\u001b[0m \u001b[0mtfdev\u001b[0m\u001b[0;34m\u001b[0m\u001b[0;34m\u001b[0m\u001b[0m\n",
      "\u001b[0;32m~/anaconda3/envs/energyanalytics/lib/python3.6/site-packages/tensorflow/__init__.py\u001b[0m in \u001b[0;36m<module>\u001b[0;34m\u001b[0m\n\u001b[1;32m     22\u001b[0m \u001b[0;34m\u001b[0m\u001b[0m\n\u001b[1;32m     23\u001b[0m \u001b[0;31m# pylint: disable=g-bad-import-order\u001b[0m\u001b[0;34m\u001b[0m\u001b[0;34m\u001b[0m\u001b[0;34m\u001b[0m\u001b[0m\n\u001b[0;32m---> 24\u001b[0;31m \u001b[0;32mfrom\u001b[0m \u001b[0mtensorflow\u001b[0m\u001b[0;34m.\u001b[0m\u001b[0mpython\u001b[0m \u001b[0;32mimport\u001b[0m \u001b[0mpywrap_tensorflow\u001b[0m  \u001b[0;31m# pylint: disable=unused-import\u001b[0m\u001b[0;34m\u001b[0m\u001b[0;34m\u001b[0m\u001b[0m\n\u001b[0m\u001b[1;32m     25\u001b[0m \u001b[0;34m\u001b[0m\u001b[0m\n\u001b[1;32m     26\u001b[0m \u001b[0;32mfrom\u001b[0m \u001b[0mtensorflow\u001b[0m\u001b[0;34m.\u001b[0m\u001b[0m_api\u001b[0m\u001b[0;34m.\u001b[0m\u001b[0mv1\u001b[0m \u001b[0;32mimport\u001b[0m \u001b[0mapp\u001b[0m\u001b[0;34m\u001b[0m\u001b[0;34m\u001b[0m\u001b[0m\n",
      "\u001b[0;32m~/anaconda3/envs/energyanalytics/lib/python3.6/site-packages/tensorflow/python/__init__.py\u001b[0m in \u001b[0;36m<module>\u001b[0;34m\u001b[0m\n\u001b[1;32m     80\u001b[0m \u001b[0;32mfrom\u001b[0m \u001b[0mtensorflow\u001b[0m\u001b[0;34m.\u001b[0m\u001b[0mpython\u001b[0m \u001b[0;32mimport\u001b[0m \u001b[0mdata\u001b[0m\u001b[0;34m\u001b[0m\u001b[0;34m\u001b[0m\u001b[0m\n\u001b[1;32m     81\u001b[0m \u001b[0;32mfrom\u001b[0m \u001b[0mtensorflow\u001b[0m\u001b[0;34m.\u001b[0m\u001b[0mpython\u001b[0m \u001b[0;32mimport\u001b[0m \u001b[0mdistribute\u001b[0m\u001b[0;34m\u001b[0m\u001b[0;34m\u001b[0m\u001b[0m\n\u001b[0;32m---> 82\u001b[0;31m \u001b[0;32mfrom\u001b[0m \u001b[0mtensorflow\u001b[0m\u001b[0;34m.\u001b[0m\u001b[0mpython\u001b[0m \u001b[0;32mimport\u001b[0m \u001b[0mkeras\u001b[0m\u001b[0;34m\u001b[0m\u001b[0;34m\u001b[0m\u001b[0m\n\u001b[0m\u001b[1;32m     83\u001b[0m \u001b[0;32mfrom\u001b[0m \u001b[0mtensorflow\u001b[0m\u001b[0;34m.\u001b[0m\u001b[0mpython\u001b[0m\u001b[0;34m.\u001b[0m\u001b[0mfeature_column\u001b[0m \u001b[0;32mimport\u001b[0m \u001b[0mfeature_column_lib\u001b[0m \u001b[0;32mas\u001b[0m \u001b[0mfeature_column\u001b[0m\u001b[0;34m\u001b[0m\u001b[0;34m\u001b[0m\u001b[0m\n\u001b[1;32m     84\u001b[0m \u001b[0;32mfrom\u001b[0m \u001b[0mtensorflow\u001b[0m\u001b[0;34m.\u001b[0m\u001b[0mpython\u001b[0m\u001b[0;34m.\u001b[0m\u001b[0mlayers\u001b[0m \u001b[0;32mimport\u001b[0m \u001b[0mlayers\u001b[0m\u001b[0;34m\u001b[0m\u001b[0;34m\u001b[0m\u001b[0m\n",
      "\u001b[0;32m~/anaconda3/envs/energyanalytics/lib/python3.6/site-packages/tensorflow/python/keras/__init__.py\u001b[0m in \u001b[0;36m<module>\u001b[0;34m\u001b[0m\n\u001b[1;32m     22\u001b[0m \u001b[0;32mfrom\u001b[0m \u001b[0m__future__\u001b[0m \u001b[0;32mimport\u001b[0m \u001b[0mprint_function\u001b[0m\u001b[0;34m\u001b[0m\u001b[0;34m\u001b[0m\u001b[0m\n\u001b[1;32m     23\u001b[0m \u001b[0;34m\u001b[0m\u001b[0m\n\u001b[0;32m---> 24\u001b[0;31m \u001b[0;32mfrom\u001b[0m \u001b[0mtensorflow\u001b[0m\u001b[0;34m.\u001b[0m\u001b[0mpython\u001b[0m\u001b[0;34m.\u001b[0m\u001b[0mkeras\u001b[0m \u001b[0;32mimport\u001b[0m \u001b[0mactivations\u001b[0m\u001b[0;34m\u001b[0m\u001b[0;34m\u001b[0m\u001b[0m\n\u001b[0m\u001b[1;32m     25\u001b[0m \u001b[0;32mfrom\u001b[0m \u001b[0mtensorflow\u001b[0m\u001b[0;34m.\u001b[0m\u001b[0mpython\u001b[0m\u001b[0;34m.\u001b[0m\u001b[0mkeras\u001b[0m \u001b[0;32mimport\u001b[0m \u001b[0mapplications\u001b[0m\u001b[0;34m\u001b[0m\u001b[0;34m\u001b[0m\u001b[0m\n\u001b[1;32m     26\u001b[0m \u001b[0;32mfrom\u001b[0m \u001b[0mtensorflow\u001b[0m\u001b[0;34m.\u001b[0m\u001b[0mpython\u001b[0m\u001b[0;34m.\u001b[0m\u001b[0mkeras\u001b[0m \u001b[0;32mimport\u001b[0m \u001b[0mbackend\u001b[0m\u001b[0;34m\u001b[0m\u001b[0;34m\u001b[0m\u001b[0m\n",
      "\u001b[0;32m~/anaconda3/envs/energyanalytics/lib/python3.6/site-packages/tensorflow/python/keras/activations.py\u001b[0m in \u001b[0;36m<module>\u001b[0;34m\u001b[0m\n\u001b[1;32m     22\u001b[0m \u001b[0;34m\u001b[0m\u001b[0m\n\u001b[1;32m     23\u001b[0m \u001b[0;32mfrom\u001b[0m \u001b[0mtensorflow\u001b[0m\u001b[0;34m.\u001b[0m\u001b[0mpython\u001b[0m\u001b[0;34m.\u001b[0m\u001b[0mkeras\u001b[0m \u001b[0;32mimport\u001b[0m \u001b[0mbackend\u001b[0m \u001b[0;32mas\u001b[0m \u001b[0mK\u001b[0m\u001b[0;34m\u001b[0m\u001b[0;34m\u001b[0m\u001b[0m\n\u001b[0;32m---> 24\u001b[0;31m \u001b[0;32mfrom\u001b[0m \u001b[0mtensorflow\u001b[0m\u001b[0;34m.\u001b[0m\u001b[0mpython\u001b[0m\u001b[0;34m.\u001b[0m\u001b[0mkeras\u001b[0m\u001b[0;34m.\u001b[0m\u001b[0mutils\u001b[0m\u001b[0;34m.\u001b[0m\u001b[0mgeneric_utils\u001b[0m \u001b[0;32mimport\u001b[0m \u001b[0mdeserialize_keras_object\u001b[0m\u001b[0;34m\u001b[0m\u001b[0;34m\u001b[0m\u001b[0m\n\u001b[0m\u001b[1;32m     25\u001b[0m \u001b[0;32mfrom\u001b[0m \u001b[0mtensorflow\u001b[0m\u001b[0;34m.\u001b[0m\u001b[0mpython\u001b[0m\u001b[0;34m.\u001b[0m\u001b[0mops\u001b[0m \u001b[0;32mimport\u001b[0m \u001b[0mmath_ops\u001b[0m\u001b[0;34m\u001b[0m\u001b[0;34m\u001b[0m\u001b[0m\n\u001b[1;32m     26\u001b[0m \u001b[0;32mfrom\u001b[0m \u001b[0mtensorflow\u001b[0m\u001b[0;34m.\u001b[0m\u001b[0mpython\u001b[0m\u001b[0;34m.\u001b[0m\u001b[0mops\u001b[0m \u001b[0;32mimport\u001b[0m \u001b[0mnn\u001b[0m\u001b[0;34m\u001b[0m\u001b[0;34m\u001b[0m\u001b[0m\n",
      "\u001b[0;32m~/anaconda3/envs/energyanalytics/lib/python3.6/site-packages/tensorflow/python/keras/utils/__init__.py\u001b[0m in \u001b[0;36m<module>\u001b[0;34m\u001b[0m\n\u001b[1;32m     39\u001b[0m \u001b[0;32mfrom\u001b[0m \u001b[0mtensorflow\u001b[0m\u001b[0;34m.\u001b[0m\u001b[0mpython\u001b[0m\u001b[0;34m.\u001b[0m\u001b[0mkeras\u001b[0m\u001b[0;34m.\u001b[0m\u001b[0mutils\u001b[0m\u001b[0;34m.\u001b[0m\u001b[0mnp_utils\u001b[0m \u001b[0;32mimport\u001b[0m \u001b[0mnormalize\u001b[0m\u001b[0;34m\u001b[0m\u001b[0;34m\u001b[0m\u001b[0m\n\u001b[1;32m     40\u001b[0m \u001b[0;32mfrom\u001b[0m \u001b[0mtensorflow\u001b[0m\u001b[0;34m.\u001b[0m\u001b[0mpython\u001b[0m\u001b[0;34m.\u001b[0m\u001b[0mkeras\u001b[0m\u001b[0;34m.\u001b[0m\u001b[0mutils\u001b[0m\u001b[0;34m.\u001b[0m\u001b[0mnp_utils\u001b[0m \u001b[0;32mimport\u001b[0m \u001b[0mto_categorical\u001b[0m\u001b[0;34m\u001b[0m\u001b[0;34m\u001b[0m\u001b[0m\n\u001b[0;32m---> 41\u001b[0;31m \u001b[0;32mfrom\u001b[0m \u001b[0mtensorflow\u001b[0m\u001b[0;34m.\u001b[0m\u001b[0mpython\u001b[0m\u001b[0;34m.\u001b[0m\u001b[0mkeras\u001b[0m\u001b[0;34m.\u001b[0m\u001b[0mutils\u001b[0m\u001b[0;34m.\u001b[0m\u001b[0mvis_utils\u001b[0m \u001b[0;32mimport\u001b[0m \u001b[0mplot_model\u001b[0m\u001b[0;34m\u001b[0m\u001b[0;34m\u001b[0m\u001b[0m\n\u001b[0m\u001b[1;32m     42\u001b[0m \u001b[0;34m\u001b[0m\u001b[0m\n\u001b[1;32m     43\u001b[0m \u001b[0;32mdel\u001b[0m \u001b[0mabsolute_import\u001b[0m\u001b[0;34m\u001b[0m\u001b[0;34m\u001b[0m\u001b[0m\n",
      "\u001b[0;32m~/anaconda3/envs/energyanalytics/lib/python3.6/importlib/_bootstrap.py\u001b[0m in \u001b[0;36m_find_and_load\u001b[0;34m(name, import_)\u001b[0m\n",
      "\u001b[0;32m~/anaconda3/envs/energyanalytics/lib/python3.6/importlib/_bootstrap.py\u001b[0m in \u001b[0;36m_find_and_load_unlocked\u001b[0;34m(name, import_)\u001b[0m\n",
      "\u001b[0;32m~/anaconda3/envs/energyanalytics/lib/python3.6/importlib/_bootstrap.py\u001b[0m in \u001b[0;36m_load_unlocked\u001b[0;34m(spec)\u001b[0m\n",
      "\u001b[0;32m~/anaconda3/envs/energyanalytics/lib/python3.6/importlib/_bootstrap_external.py\u001b[0m in \u001b[0;36mexec_module\u001b[0;34m(self, module)\u001b[0m\n",
      "\u001b[0;32m~/anaconda3/envs/energyanalytics/lib/python3.6/importlib/_bootstrap_external.py\u001b[0m in \u001b[0;36mget_code\u001b[0;34m(self, fullname)\u001b[0m\n",
      "\u001b[0;32m~/anaconda3/envs/energyanalytics/lib/python3.6/importlib/_bootstrap_external.py\u001b[0m in \u001b[0;36mget_data\u001b[0;34m(self, path)\u001b[0m\n",
      "\u001b[0;31mKeyboardInterrupt\u001b[0m: "
     ]
    }
   ],
   "source": [
    "import keras\n",
    "from keras.layers import Dense\n",
    "model = keras.Sequential()\n",
    "model.add(Dense(4, input_dim=2, activation='relu'))\n",
    "model.add(Dense(4, activation='relu'))\n",
    "model.add(Dense(1, activation='softmax'))\n",
    "optimizer = keras.optimizers.RMSprop(lr=1e-6)\n",
    "model.compile(optimizer=optimizer, loss = \"mean_squared_error\")"
   ]
  },
  {
   "cell_type": "code",
   "execution_count": 589,
   "metadata": {
    "scrolled": true
   },
   "outputs": [
    {
     "name": "stdout",
     "output_type": "stream",
     "text": [
      "Epoch 1/500\n",
      "10000/10000 [==============================] - 5s 547us/step - loss: 3198574818.9184\n",
      "Epoch 2/500\n",
      "10000/10000 [==============================] - 1s 67us/step - loss: 3174082825.4208\n",
      "Epoch 3/500\n",
      "10000/10000 [==============================] - 1s 63us/step - loss: 3149702116.5568\n",
      "Epoch 4/500\n",
      "10000/10000 [==============================] - 1s 65us/step - loss: 3125458744.9344\n",
      "Epoch 5/500\n",
      "10000/10000 [==============================] - 1s 67us/step - loss: 3101344026.2144\n",
      "Epoch 6/500\n",
      "10000/10000 [==============================] - 1s 64us/step - loss: 3077346161.0496\n",
      "Epoch 7/500\n",
      "10000/10000 [==============================] - 1s 67us/step - loss: 3053375852.5440\n",
      "Epoch 8/500\n",
      "10000/10000 [==============================] - 1s 61us/step - loss: 3029663260.2624\n",
      "Epoch 9/500\n",
      "10000/10000 [==============================] - 1s 64us/step - loss: 3006070007.8080\n",
      "Epoch 10/500\n",
      "10000/10000 [==============================] - 1s 93us/step - loss: 2982431875.4816\n",
      "Epoch 11/500\n",
      "10000/10000 [==============================] - 1s 96us/step - loss: 2958965945.1392\n",
      "Epoch 12/500\n",
      "10000/10000 [==============================] - 1s 65us/step - loss: 2935606318.2848\n",
      "Epoch 13/500\n",
      "10000/10000 [==============================] - 1s 79us/step - loss: 2912439784.2432\n",
      "Epoch 14/500\n",
      "10000/10000 [==============================] - 1s 84us/step - loss: 2889330364.4160\n",
      "Epoch 15/500\n",
      "10000/10000 [==============================] - 1s 95us/step - loss: 2866358078.6688\n",
      "Epoch 16/500\n",
      "10000/10000 [==============================] - 1s 89us/step - loss: 2843466896.9984\n",
      "Epoch 17/500\n",
      "10000/10000 [==============================] - 1s 79us/step - loss: 2820785048.7808\n",
      "Epoch 18/500\n",
      "10000/10000 [==============================] - 1s 76us/step - loss: 2798162823.9872 \n",
      "Epoch 19/500\n",
      "10000/10000 [==============================] - 1s 92us/step - loss: 2775600837.4272\n",
      "Epoch 20/500\n",
      "10000/10000 [==============================] - 1s 79us/step - loss: 2753232035.4304\n",
      "Epoch 21/500\n",
      "10000/10000 [==============================] - 1s 67us/step - loss: 2730966313.5744\n",
      "Epoch 22/500\n",
      "10000/10000 [==============================] - 1s 77us/step - loss: 2708729335.8080\n",
      "Epoch 23/500\n",
      "10000/10000 [==============================] - 1s 97us/step - loss: 2686711779.9424\n",
      "Epoch 24/500\n",
      "10000/10000 [==============================] - 1s 93us/step - loss: 2664750014.4640\n",
      "Epoch 25/500\n",
      "10000/10000 [==============================] - 1s 81us/step - loss: 2642946022.1952\n",
      "Epoch 26/500\n",
      "10000/10000 [==============================] - 1s 74us/step - loss: 2621182167.8592\n",
      "Epoch 27/500\n",
      "10000/10000 [==============================] - 1s 86us/step - loss: 2599552090.9312\n",
      "Epoch 28/500\n",
      "10000/10000 [==============================] - 1s 75us/step - loss: 2577973747.7120\n",
      "Epoch 29/500\n",
      "  576/10000 [>.............................] - ETA: 0s - loss: 2535676999.1111"
     ]
    },
    {
     "ename": "KeyboardInterrupt",
     "evalue": "",
     "output_type": "error",
     "traceback": [
      "\u001b[1;31m---------------------------------------------------------------------------\u001b[0m",
      "\u001b[1;31mKeyboardInterrupt\u001b[0m                         Traceback (most recent call last)",
      "\u001b[1;32m<ipython-input-589-460ce7307ef5>\u001b[0m in \u001b[0;36m<module>\u001b[1;34m\u001b[0m\n\u001b[1;32m----> 1\u001b[1;33m \u001b[0mmodel\u001b[0m\u001b[1;33m.\u001b[0m\u001b[0mfit\u001b[0m\u001b[1;33m(\u001b[0m\u001b[0mX\u001b[0m\u001b[1;33m,\u001b[0m \u001b[0my\u001b[0m\u001b[1;33m,\u001b[0m \u001b[0mepochs\u001b[0m\u001b[1;33m=\u001b[0m\u001b[1;36m500\u001b[0m\u001b[1;33m)\u001b[0m\u001b[1;33m\u001b[0m\u001b[1;33m\u001b[0m\u001b[0m\n\u001b[0m",
      "\u001b[1;32m~\\Anaconda3\\envs\\energyanalytics\\lib\\site-packages\\keras\\engine\\training.py\u001b[0m in \u001b[0;36mfit\u001b[1;34m(self, x, y, batch_size, epochs, verbose, callbacks, validation_split, validation_data, shuffle, class_weight, sample_weight, initial_epoch, steps_per_epoch, validation_steps, **kwargs)\u001b[0m\n\u001b[0;32m   1037\u001b[0m                                         \u001b[0minitial_epoch\u001b[0m\u001b[1;33m=\u001b[0m\u001b[0minitial_epoch\u001b[0m\u001b[1;33m,\u001b[0m\u001b[1;33m\u001b[0m\u001b[1;33m\u001b[0m\u001b[0m\n\u001b[0;32m   1038\u001b[0m                                         \u001b[0msteps_per_epoch\u001b[0m\u001b[1;33m=\u001b[0m\u001b[0msteps_per_epoch\u001b[0m\u001b[1;33m,\u001b[0m\u001b[1;33m\u001b[0m\u001b[1;33m\u001b[0m\u001b[0m\n\u001b[1;32m-> 1039\u001b[1;33m                                         validation_steps=validation_steps)\n\u001b[0m\u001b[0;32m   1040\u001b[0m \u001b[1;33m\u001b[0m\u001b[0m\n\u001b[0;32m   1041\u001b[0m     def evaluate(self, x=None, y=None,\n",
      "\u001b[1;32m~\\Anaconda3\\envs\\energyanalytics\\lib\\site-packages\\keras\\engine\\training_arrays.py\u001b[0m in \u001b[0;36mfit_loop\u001b[1;34m(model, f, ins, out_labels, batch_size, epochs, verbose, callbacks, val_f, val_ins, shuffle, callback_metrics, initial_epoch, steps_per_epoch, validation_steps)\u001b[0m\n\u001b[0;32m    197\u001b[0m                     \u001b[0mins_batch\u001b[0m\u001b[1;33m[\u001b[0m\u001b[0mi\u001b[0m\u001b[1;33m]\u001b[0m \u001b[1;33m=\u001b[0m \u001b[0mins_batch\u001b[0m\u001b[1;33m[\u001b[0m\u001b[0mi\u001b[0m\u001b[1;33m]\u001b[0m\u001b[1;33m.\u001b[0m\u001b[0mtoarray\u001b[0m\u001b[1;33m(\u001b[0m\u001b[1;33m)\u001b[0m\u001b[1;33m\u001b[0m\u001b[1;33m\u001b[0m\u001b[0m\n\u001b[0;32m    198\u001b[0m \u001b[1;33m\u001b[0m\u001b[0m\n\u001b[1;32m--> 199\u001b[1;33m                 \u001b[0mouts\u001b[0m \u001b[1;33m=\u001b[0m \u001b[0mf\u001b[0m\u001b[1;33m(\u001b[0m\u001b[0mins_batch\u001b[0m\u001b[1;33m)\u001b[0m\u001b[1;33m\u001b[0m\u001b[1;33m\u001b[0m\u001b[0m\n\u001b[0m\u001b[0;32m    200\u001b[0m                 \u001b[0mouts\u001b[0m \u001b[1;33m=\u001b[0m \u001b[0mto_list\u001b[0m\u001b[1;33m(\u001b[0m\u001b[0mouts\u001b[0m\u001b[1;33m)\u001b[0m\u001b[1;33m\u001b[0m\u001b[1;33m\u001b[0m\u001b[0m\n\u001b[0;32m    201\u001b[0m                 \u001b[1;32mfor\u001b[0m \u001b[0ml\u001b[0m\u001b[1;33m,\u001b[0m \u001b[0mo\u001b[0m \u001b[1;32min\u001b[0m \u001b[0mzip\u001b[0m\u001b[1;33m(\u001b[0m\u001b[0mout_labels\u001b[0m\u001b[1;33m,\u001b[0m \u001b[0mouts\u001b[0m\u001b[1;33m)\u001b[0m\u001b[1;33m:\u001b[0m\u001b[1;33m\u001b[0m\u001b[1;33m\u001b[0m\u001b[0m\n",
      "\u001b[1;32m~\\Anaconda3\\envs\\energyanalytics\\lib\\site-packages\\keras\\backend\\tensorflow_backend.py\u001b[0m in \u001b[0;36m__call__\u001b[1;34m(self, inputs)\u001b[0m\n\u001b[0;32m   2713\u001b[0m                 \u001b[1;32mreturn\u001b[0m \u001b[0mself\u001b[0m\u001b[1;33m.\u001b[0m\u001b[0m_legacy_call\u001b[0m\u001b[1;33m(\u001b[0m\u001b[0minputs\u001b[0m\u001b[1;33m)\u001b[0m\u001b[1;33m\u001b[0m\u001b[1;33m\u001b[0m\u001b[0m\n\u001b[0;32m   2714\u001b[0m \u001b[1;33m\u001b[0m\u001b[0m\n\u001b[1;32m-> 2715\u001b[1;33m             \u001b[1;32mreturn\u001b[0m \u001b[0mself\u001b[0m\u001b[1;33m.\u001b[0m\u001b[0m_call\u001b[0m\u001b[1;33m(\u001b[0m\u001b[0minputs\u001b[0m\u001b[1;33m)\u001b[0m\u001b[1;33m\u001b[0m\u001b[1;33m\u001b[0m\u001b[0m\n\u001b[0m\u001b[0;32m   2716\u001b[0m         \u001b[1;32melse\u001b[0m\u001b[1;33m:\u001b[0m\u001b[1;33m\u001b[0m\u001b[1;33m\u001b[0m\u001b[0m\n\u001b[0;32m   2717\u001b[0m             \u001b[1;32mif\u001b[0m \u001b[0mpy_any\u001b[0m\u001b[1;33m(\u001b[0m\u001b[0mis_tensor\u001b[0m\u001b[1;33m(\u001b[0m\u001b[0mx\u001b[0m\u001b[1;33m)\u001b[0m \u001b[1;32mfor\u001b[0m \u001b[0mx\u001b[0m \u001b[1;32min\u001b[0m \u001b[0minputs\u001b[0m\u001b[1;33m)\u001b[0m\u001b[1;33m:\u001b[0m\u001b[1;33m\u001b[0m\u001b[1;33m\u001b[0m\u001b[0m\n",
      "\u001b[1;32m~\\Anaconda3\\envs\\energyanalytics\\lib\\site-packages\\keras\\backend\\tensorflow_backend.py\u001b[0m in \u001b[0;36m_call\u001b[1;34m(self, inputs)\u001b[0m\n\u001b[0;32m   2673\u001b[0m             \u001b[0mfetched\u001b[0m \u001b[1;33m=\u001b[0m \u001b[0mself\u001b[0m\u001b[1;33m.\u001b[0m\u001b[0m_callable_fn\u001b[0m\u001b[1;33m(\u001b[0m\u001b[1;33m*\u001b[0m\u001b[0marray_vals\u001b[0m\u001b[1;33m,\u001b[0m \u001b[0mrun_metadata\u001b[0m\u001b[1;33m=\u001b[0m\u001b[0mself\u001b[0m\u001b[1;33m.\u001b[0m\u001b[0mrun_metadata\u001b[0m\u001b[1;33m)\u001b[0m\u001b[1;33m\u001b[0m\u001b[1;33m\u001b[0m\u001b[0m\n\u001b[0;32m   2674\u001b[0m         \u001b[1;32melse\u001b[0m\u001b[1;33m:\u001b[0m\u001b[1;33m\u001b[0m\u001b[1;33m\u001b[0m\u001b[0m\n\u001b[1;32m-> 2675\u001b[1;33m             \u001b[0mfetched\u001b[0m \u001b[1;33m=\u001b[0m \u001b[0mself\u001b[0m\u001b[1;33m.\u001b[0m\u001b[0m_callable_fn\u001b[0m\u001b[1;33m(\u001b[0m\u001b[1;33m*\u001b[0m\u001b[0marray_vals\u001b[0m\u001b[1;33m)\u001b[0m\u001b[1;33m\u001b[0m\u001b[1;33m\u001b[0m\u001b[0m\n\u001b[0m\u001b[0;32m   2676\u001b[0m         \u001b[1;32mreturn\u001b[0m \u001b[0mfetched\u001b[0m\u001b[1;33m[\u001b[0m\u001b[1;33m:\u001b[0m\u001b[0mlen\u001b[0m\u001b[1;33m(\u001b[0m\u001b[0mself\u001b[0m\u001b[1;33m.\u001b[0m\u001b[0moutputs\u001b[0m\u001b[1;33m)\u001b[0m\u001b[1;33m]\u001b[0m\u001b[1;33m\u001b[0m\u001b[1;33m\u001b[0m\u001b[0m\n\u001b[0;32m   2677\u001b[0m \u001b[1;33m\u001b[0m\u001b[0m\n",
      "\u001b[1;32m~\\Anaconda3\\envs\\energyanalytics\\lib\\site-packages\\tensorflow\\python\\client\\session.py\u001b[0m in \u001b[0;36m__call__\u001b[1;34m(self, *args, **kwargs)\u001b[0m\n\u001b[0;32m   1437\u001b[0m           ret = tf_session.TF_SessionRunCallable(\n\u001b[0;32m   1438\u001b[0m               \u001b[0mself\u001b[0m\u001b[1;33m.\u001b[0m\u001b[0m_session\u001b[0m\u001b[1;33m.\u001b[0m\u001b[0m_session\u001b[0m\u001b[1;33m,\u001b[0m \u001b[0mself\u001b[0m\u001b[1;33m.\u001b[0m\u001b[0m_handle\u001b[0m\u001b[1;33m,\u001b[0m \u001b[0margs\u001b[0m\u001b[1;33m,\u001b[0m \u001b[0mstatus\u001b[0m\u001b[1;33m,\u001b[0m\u001b[1;33m\u001b[0m\u001b[1;33m\u001b[0m\u001b[0m\n\u001b[1;32m-> 1439\u001b[1;33m               run_metadata_ptr)\n\u001b[0m\u001b[0;32m   1440\u001b[0m         \u001b[1;32mif\u001b[0m \u001b[0mrun_metadata\u001b[0m\u001b[1;33m:\u001b[0m\u001b[1;33m\u001b[0m\u001b[1;33m\u001b[0m\u001b[0m\n\u001b[0;32m   1441\u001b[0m           \u001b[0mproto_data\u001b[0m \u001b[1;33m=\u001b[0m \u001b[0mtf_session\u001b[0m\u001b[1;33m.\u001b[0m\u001b[0mTF_GetBuffer\u001b[0m\u001b[1;33m(\u001b[0m\u001b[0mrun_metadata_ptr\u001b[0m\u001b[1;33m)\u001b[0m\u001b[1;33m\u001b[0m\u001b[1;33m\u001b[0m\u001b[0m\n",
      "\u001b[1;31mKeyboardInterrupt\u001b[0m: "
     ]
    }
   ],
   "source": [
    "model.fit(X, y, epochs=500)"
   ]
  },
  {
   "cell_type": "code",
   "execution_count": 12,
   "metadata": {},
   "outputs": [
    {
     "data": {
      "text/plain": [
       "<matplotlib.collections.PathCollection at 0x7f63bbb90a58>"
      ]
     },
     "execution_count": 12,
     "metadata": {},
     "output_type": "execute_result"
    },
    {
     "data": {
      "image/png": "[encoded data removed]",
      "text/plain": [
       "<Figure size 432x288 with 1 Axes>"
      ]
     },
     "metadata": {
      "needs_background": "light"
     },
     "output_type": "display_data"
    }
   ],
   "source": [
    "plt.scatter(X[:,0],X[:,1], c=y)"
   ]
  },
  {
   "cell_type": "code",
   "execution_count": 116,
   "metadata": {},
   "outputs": [
    {
     "name": "stdout",
     "output_type": "stream",
     "text": [
      "Train on 360 samples, validate on 40 samples\n",
      "Epoch 1/400\n",
      "360/360 [==============================] - 0s 521us/step - loss: 0.0377 - mean_squared_error: 0.0377 - val_loss: 0.1948 - val_mean_squared_error: 0.1948\n",
      "Epoch 2/400\n",
      "360/360 [==============================] - 0s 16us/step - loss: 0.0340 - mean_squared_error: 0.0340 - val_loss: 0.1853 - val_mean_squared_error: 0.1853\n",
      "Epoch 3/400\n",
      "360/360 [==============================] - 0s 18us/step - loss: 0.0309 - mean_squared_error: 0.0309 - val_loss: 0.1764 - val_mean_squared_error: 0.1764\n",
      "Epoch 4/400\n",
      "360/360 [==============================] - 0s 18us/step - loss: 0.0284 - mean_squared_error: 0.0284 - val_loss: 0.1681 - val_mean_squared_error: 0.1681\n",
      "Epoch 5/400\n",
      "360/360 [==============================] - 0s 22us/step - loss: 0.0267 - mean_squared_error: 0.0267 - val_loss: 0.1603 - val_mean_squared_error: 0.1603\n",
      "Epoch 6/400\n",
      "360/360 [==============================] - 0s 16us/step - loss: 0.0253 - mean_squared_error: 0.0253 - val_loss: 0.1532 - val_mean_squared_error: 0.1532\n",
      "Epoch 7/400\n",
      "360/360 [==============================] - 0s 22us/step - loss: 0.0240 - mean_squared_error: 0.0240 - val_loss: 0.1474 - val_mean_squared_error: 0.1474\n",
      "Epoch 8/400\n",
      "360/360 [==============================] - 0s 19us/step - loss: 0.0234 - mean_squared_error: 0.0234 - val_loss: 0.1421 - val_mean_squared_error: 0.1421\n",
      "Epoch 9/400\n",
      "360/360 [==============================] - 0s 19us/step - loss: 0.0228 - mean_squared_error: 0.0228 - val_loss: 0.1377 - val_mean_squared_error: 0.1377\n",
      "Epoch 10/400\n",
      "360/360 [==============================] - 0s 16us/step - loss: 0.0225 - mean_squared_error: 0.0225 - val_loss: 0.1336 - val_mean_squared_error: 0.1336\n",
      "Epoch 11/400\n",
      "360/360 [==============================] - 0s 16us/step - loss: 0.0221 - mean_squared_error: 0.0221 - val_loss: 0.1300 - val_mean_squared_error: 0.1300\n",
      "Epoch 12/400\n",
      "360/360 [==============================] - 0s 16us/step - loss: 0.0217 - mean_squared_error: 0.0217 - val_loss: 0.1269 - val_mean_squared_error: 0.1269\n",
      "Epoch 13/400\n",
      "360/360 [==============================] - 0s 17us/step - loss: 0.0213 - mean_squared_error: 0.0213 - val_loss: 0.1246 - val_mean_squared_error: 0.1246\n",
      "Epoch 14/400\n",
      "360/360 [==============================] - 0s 17us/step - loss: 0.0209 - mean_squared_error: 0.0209 - val_loss: 0.1234 - val_mean_squared_error: 0.1234\n",
      "Epoch 15/400\n",
      "360/360 [==============================] - 0s 17us/step - loss: 0.0206 - mean_squared_error: 0.0206 - val_loss: 0.1228 - val_mean_squared_error: 0.1228\n",
      "Epoch 16/400\n",
      "360/360 [==============================] - 0s 20us/step - loss: 0.0202 - mean_squared_error: 0.0202 - val_loss: 0.1225 - val_mean_squared_error: 0.1225\n",
      "Epoch 17/400\n",
      "360/360 [==============================] - 0s 17us/step - loss: 0.0199 - mean_squared_error: 0.0199 - val_loss: 0.1227 - val_mean_squared_error: 0.1227\n",
      "Epoch 18/400\n",
      "360/360 [==============================] - 0s 21us/step - loss: 0.0196 - mean_squared_error: 0.0196 - val_loss: 0.1232 - val_mean_squared_error: 0.1232\n",
      "Epoch 19/400\n",
      "360/360 [==============================] - 0s 19us/step - loss: 0.0194 - mean_squared_error: 0.0194 - val_loss: 0.1236 - val_mean_squared_error: 0.1236\n",
      "Epoch 20/400\n",
      "360/360 [==============================] - 0s 16us/step - loss: 0.0192 - mean_squared_error: 0.0192 - val_loss: 0.1240 - val_mean_squared_error: 0.1240\n",
      "Epoch 21/400\n",
      "360/360 [==============================] - 0s 20us/step - loss: 0.0191 - mean_squared_error: 0.0191 - val_loss: 0.1242 - val_mean_squared_error: 0.1242\n",
      "Epoch 22/400\n",
      "360/360 [==============================] - 0s 20us/step - loss: 0.0190 - mean_squared_error: 0.0190 - val_loss: 0.1238 - val_mean_squared_error: 0.1238\n",
      "Epoch 23/400\n",
      "360/360 [==============================] - 0s 16us/step - loss: 0.0188 - mean_squared_error: 0.0188 - val_loss: 0.1232 - val_mean_squared_error: 0.1232\n",
      "Epoch 24/400\n",
      "360/360 [==============================] - 0s 16us/step - loss: 0.0187 - mean_squared_error: 0.0187 - val_loss: 0.1225 - val_mean_squared_error: 0.1225\n",
      "Epoch 25/400\n",
      "360/360 [==============================] - 0s 17us/step - loss: 0.0186 - mean_squared_error: 0.0186 - val_loss: 0.1218 - val_mean_squared_error: 0.1218\n",
      "Epoch 26/400\n",
      "360/360 [==============================] - 0s 23us/step - loss: 0.0184 - mean_squared_error: 0.0184 - val_loss: 0.1211 - val_mean_squared_error: 0.1211\n",
      "Epoch 27/400\n",
      "360/360 [==============================] - 0s 20us/step - loss: 0.0183 - mean_squared_error: 0.0183 - val_loss: 0.1205 - val_mean_squared_error: 0.1205\n",
      "Epoch 28/400\n",
      "360/360 [==============================] - 0s 21us/step - loss: 0.0182 - mean_squared_error: 0.0182 - val_loss: 0.1200 - val_mean_squared_error: 0.1200\n",
      "Epoch 29/400\n",
      "360/360 [==============================] - 0s 21us/step - loss: 0.0181 - mean_squared_error: 0.0181 - val_loss: 0.1197 - val_mean_squared_error: 0.1197\n",
      "Epoch 30/400\n",
      "360/360 [==============================] - 0s 19us/step - loss: 0.0180 - mean_squared_error: 0.0180 - val_loss: 0.1194 - val_mean_squared_error: 0.1194\n",
      "Epoch 31/400\n",
      "360/360 [==============================] - 0s 17us/step - loss: 0.0179 - mean_squared_error: 0.0179 - val_loss: 0.1190 - val_mean_squared_error: 0.1190\n",
      "Epoch 32/400\n",
      "360/360 [==============================] - 0s 17us/step - loss: 0.0178 - mean_squared_error: 0.0178 - val_loss: 0.1186 - val_mean_squared_error: 0.1186\n",
      "Epoch 33/400\n",
      "360/360 [==============================] - 0s 16us/step - loss: 0.0177 - mean_squared_error: 0.0177 - val_loss: 0.1179 - val_mean_squared_error: 0.1179\n",
      "Epoch 34/400\n",
      "360/360 [==============================] - 0s 16us/step - loss: 0.0176 - mean_squared_error: 0.0176 - val_loss: 0.1169 - val_mean_squared_error: 0.1169\n",
      "Epoch 35/400\n",
      "360/360 [==============================] - 0s 18us/step - loss: 0.0175 - mean_squared_error: 0.0175 - val_loss: 0.1159 - val_mean_squared_error: 0.1159\n",
      "Epoch 36/400\n",
      "360/360 [==============================] - 0s 18us/step - loss: 0.0174 - mean_squared_error: 0.0174 - val_loss: 0.1153 - val_mean_squared_error: 0.1153\n",
      "Epoch 37/400\n",
      "360/360 [==============================] - 0s 17us/step - loss: 0.0174 - mean_squared_error: 0.0174 - val_loss: 0.1153 - val_mean_squared_error: 0.1153\n",
      "Epoch 38/400\n",
      "360/360 [==============================] - 0s 19us/step - loss: 0.0173 - mean_squared_error: 0.0173 - val_loss: 0.1150 - val_mean_squared_error: 0.1150\n",
      "Epoch 39/400\n",
      "360/360 [==============================] - 0s 17us/step - loss: 0.0172 - mean_squared_error: 0.0172 - val_loss: 0.1148 - val_mean_squared_error: 0.1148\n",
      "Epoch 40/400\n",
      "360/360 [==============================] - 0s 21us/step - loss: 0.0172 - mean_squared_error: 0.0172 - val_loss: 0.1145 - val_mean_squared_error: 0.1145\n",
      "Epoch 41/400\n",
      "360/360 [==============================] - 0s 22us/step - loss: 0.0171 - mean_squared_error: 0.0171 - val_loss: 0.1144 - val_mean_squared_error: 0.1144\n",
      "Epoch 42/400\n",
      "360/360 [==============================] - 0s 16us/step - loss: 0.0170 - mean_squared_error: 0.0170 - val_loss: 0.1142 - val_mean_squared_error: 0.1142\n",
      "Epoch 43/400\n",
      "360/360 [==============================] - 0s 22us/step - loss: 0.0170 - mean_squared_error: 0.0170 - val_loss: 0.1138 - val_mean_squared_error: 0.1138\n",
      "Epoch 44/400\n",
      "360/360 [==============================] - 0s 23us/step - loss: 0.0169 - mean_squared_error: 0.0169 - val_loss: 0.1135 - val_mean_squared_error: 0.1135\n",
      "Epoch 45/400\n",
      "360/360 [==============================] - 0s 22us/step - loss: 0.0168 - mean_squared_error: 0.0168 - val_loss: 0.1133 - val_mean_squared_error: 0.1133\n",
      "Epoch 46/400\n",
      "360/360 [==============================] - 0s 17us/step - loss: 0.0167 - mean_squared_error: 0.0167 - val_loss: 0.1129 - val_mean_squared_error: 0.1129\n",
      "Epoch 47/400\n",
      "360/360 [==============================] - 0s 17us/step - loss: 0.0167 - mean_squared_error: 0.0167 - val_loss: 0.1124 - val_mean_squared_error: 0.1124\n",
      "Epoch 48/400\n",
      "360/360 [==============================] - 0s 18us/step - loss: 0.0166 - mean_squared_error: 0.0166 - val_loss: 0.1123 - val_mean_squared_error: 0.1123\n",
      "Epoch 49/400\n",
      "360/360 [==============================] - 0s 17us/step - loss: 0.0166 - mean_squared_error: 0.0166 - val_loss: 0.1121 - val_mean_squared_error: 0.1121\n",
      "Epoch 50/400\n"
     ]
    },
    {
     "name": "stdout",
     "output_type": "stream",
     "text": [
      "360/360 [==============================] - 0s 20us/step - loss: 0.0165 - mean_squared_error: 0.0165 - val_loss: 0.1118 - val_mean_squared_error: 0.1118\n",
      "Epoch 51/400\n",
      "360/360 [==============================] - 0s 19us/step - loss: 0.0165 - mean_squared_error: 0.0165 - val_loss: 0.1117 - val_mean_squared_error: 0.1117\n",
      "Epoch 52/400\n",
      "360/360 [==============================] - 0s 16us/step - loss: 0.0164 - mean_squared_error: 0.0164 - val_loss: 0.1117 - val_mean_squared_error: 0.1117\n",
      "Epoch 53/400\n",
      "360/360 [==============================] - 0s 19us/step - loss: 0.0164 - mean_squared_error: 0.0164 - val_loss: 0.1112 - val_mean_squared_error: 0.1112\n",
      "Epoch 54/400\n",
      "360/360 [==============================] - 0s 21us/step - loss: 0.0163 - mean_squared_error: 0.0163 - val_loss: 0.1110 - val_mean_squared_error: 0.1110\n",
      "Epoch 55/400\n",
      "360/360 [==============================] - 0s 22us/step - loss: 0.0162 - mean_squared_error: 0.0162 - val_loss: 0.1109 - val_mean_squared_error: 0.1109\n",
      "Epoch 56/400\n",
      "360/360 [==============================] - 0s 15us/step - loss: 0.0162 - mean_squared_error: 0.0162 - val_loss: 0.1106 - val_mean_squared_error: 0.1106\n",
      "Epoch 57/400\n",
      "360/360 [==============================] - 0s 16us/step - loss: 0.0161 - mean_squared_error: 0.0161 - val_loss: 0.1100 - val_mean_squared_error: 0.1100\n",
      "Epoch 58/400\n",
      "360/360 [==============================] - 0s 16us/step - loss: 0.0161 - mean_squared_error: 0.0161 - val_loss: 0.1102 - val_mean_squared_error: 0.1102\n",
      "Epoch 59/400\n",
      "360/360 [==============================] - 0s 15us/step - loss: 0.0160 - mean_squared_error: 0.0160 - val_loss: 0.1101 - val_mean_squared_error: 0.1101\n",
      "Epoch 60/400\n",
      "360/360 [==============================] - 0s 17us/step - loss: 0.0159 - mean_squared_error: 0.0159 - val_loss: 0.1101 - val_mean_squared_error: 0.1101\n",
      "Epoch 61/400\n",
      "360/360 [==============================] - 0s 16us/step - loss: 0.0159 - mean_squared_error: 0.0159 - val_loss: 0.1110 - val_mean_squared_error: 0.1110\n",
      "Epoch 62/400\n",
      "360/360 [==============================] - 0s 16us/step - loss: 0.0158 - mean_squared_error: 0.0158 - val_loss: 0.1111 - val_mean_squared_error: 0.1111\n",
      "Epoch 63/400\n",
      "360/360 [==============================] - 0s 18us/step - loss: 0.0157 - mean_squared_error: 0.0157 - val_loss: 0.1106 - val_mean_squared_error: 0.1106\n",
      "Epoch 64/400\n",
      "360/360 [==============================] - 0s 19us/step - loss: 0.0156 - mean_squared_error: 0.0156 - val_loss: 0.1095 - val_mean_squared_error: 0.1095\n",
      "Epoch 65/400\n",
      "360/360 [==============================] - 0s 18us/step - loss: 0.0156 - mean_squared_error: 0.0156 - val_loss: 0.1085 - val_mean_squared_error: 0.1085\n",
      "Epoch 66/400\n",
      "360/360 [==============================] - 0s 19us/step - loss: 0.0155 - mean_squared_error: 0.0155 - val_loss: 0.1078 - val_mean_squared_error: 0.1078\n",
      "Epoch 67/400\n",
      "360/360 [==============================] - 0s 21us/step - loss: 0.0154 - mean_squared_error: 0.0154 - val_loss: 0.1085 - val_mean_squared_error: 0.1085\n",
      "Epoch 68/400\n",
      "360/360 [==============================] - 0s 17us/step - loss: 0.0153 - mean_squared_error: 0.0153 - val_loss: 0.1089 - val_mean_squared_error: 0.1089\n",
      "Epoch 69/400\n",
      "360/360 [==============================] - 0s 17us/step - loss: 0.0152 - mean_squared_error: 0.0152 - val_loss: 0.1086 - val_mean_squared_error: 0.1086\n",
      "Epoch 70/400\n",
      "360/360 [==============================] - 0s 17us/step - loss: 0.0151 - mean_squared_error: 0.0151 - val_loss: 0.1085 - val_mean_squared_error: 0.1085\n",
      "Epoch 71/400\n",
      "360/360 [==============================] - 0s 20us/step - loss: 0.0150 - mean_squared_error: 0.0150 - val_loss: 0.1088 - val_mean_squared_error: 0.1088\n",
      "Epoch 72/400\n",
      "360/360 [==============================] - 0s 19us/step - loss: 0.0150 - mean_squared_error: 0.0150 - val_loss: 0.1083 - val_mean_squared_error: 0.1083\n",
      "Epoch 73/400\n",
      "360/360 [==============================] - 0s 17us/step - loss: 0.0149 - mean_squared_error: 0.0149 - val_loss: 0.1077 - val_mean_squared_error: 0.1077\n",
      "Epoch 74/400\n",
      "360/360 [==============================] - 0s 23us/step - loss: 0.0148 - mean_squared_error: 0.0148 - val_loss: 0.1072 - val_mean_squared_error: 0.1072\n",
      "Epoch 75/400\n",
      "360/360 [==============================] - 0s 23us/step - loss: 0.0147 - mean_squared_error: 0.0147 - val_loss: 0.1068 - val_mean_squared_error: 0.1068\n",
      "Epoch 76/400\n",
      "360/360 [==============================] - 0s 19us/step - loss: 0.0146 - mean_squared_error: 0.0146 - val_loss: 0.1061 - val_mean_squared_error: 0.1061\n",
      "Epoch 77/400\n",
      "360/360 [==============================] - 0s 23us/step - loss: 0.0145 - mean_squared_error: 0.0145 - val_loss: 0.1060 - val_mean_squared_error: 0.1060\n",
      "Epoch 78/400\n",
      "360/360 [==============================] - 0s 24us/step - loss: 0.0145 - mean_squared_error: 0.0145 - val_loss: 0.1061 - val_mean_squared_error: 0.1061\n",
      "Epoch 79/400\n",
      "360/360 [==============================] - 0s 22us/step - loss: 0.0144 - mean_squared_error: 0.0144 - val_loss: 0.1056 - val_mean_squared_error: 0.1056\n",
      "Epoch 80/400\n",
      "360/360 [==============================] - 0s 19us/step - loss: 0.0143 - mean_squared_error: 0.0143 - val_loss: 0.1051 - val_mean_squared_error: 0.1051\n",
      "Epoch 81/400\n",
      "360/360 [==============================] - 0s 15us/step - loss: 0.0142 - mean_squared_error: 0.0142 - val_loss: 0.1047 - val_mean_squared_error: 0.1047\n",
      "Epoch 82/400\n",
      "360/360 [==============================] - 0s 17us/step - loss: 0.0141 - mean_squared_error: 0.0141 - val_loss: 0.1046 - val_mean_squared_error: 0.1046\n",
      "Epoch 83/400\n",
      "360/360 [==============================] - 0s 23us/step - loss: 0.0141 - mean_squared_error: 0.0141 - val_loss: 0.1044 - val_mean_squared_error: 0.1044\n",
      "Epoch 84/400\n",
      "360/360 [==============================] - 0s 16us/step - loss: 0.0140 - mean_squared_error: 0.0140 - val_loss: 0.1048 - val_mean_squared_error: 0.1048\n",
      "Epoch 85/400\n",
      "360/360 [==============================] - 0s 16us/step - loss: 0.0139 - mean_squared_error: 0.0139 - val_loss: 0.1047 - val_mean_squared_error: 0.1047\n",
      "Epoch 86/400\n",
      "360/360 [==============================] - 0s 17us/step - loss: 0.0138 - mean_squared_error: 0.0138 - val_loss: 0.1035 - val_mean_squared_error: 0.1035\n",
      "Epoch 87/400\n",
      "360/360 [==============================] - 0s 22us/step - loss: 0.0137 - mean_squared_error: 0.0137 - val_loss: 0.1030 - val_mean_squared_error: 0.1030\n",
      "Epoch 88/400\n",
      "360/360 [==============================] - 0s 24us/step - loss: 0.0136 - mean_squared_error: 0.0136 - val_loss: 0.1027 - val_mean_squared_error: 0.1027\n",
      "Epoch 89/400\n",
      "360/360 [==============================] - 0s 23us/step - loss: 0.0136 - mean_squared_error: 0.0136 - val_loss: 0.1023 - val_mean_squared_error: 0.1023\n",
      "Epoch 90/400\n",
      "360/360 [==============================] - 0s 19us/step - loss: 0.0135 - mean_squared_error: 0.0135 - val_loss: 0.1018 - val_mean_squared_error: 0.1018\n",
      "Epoch 91/400\n",
      "360/360 [==============================] - 0s 17us/step - loss: 0.0134 - mean_squared_error: 0.0134 - val_loss: 0.1015 - val_mean_squared_error: 0.1015\n",
      "Epoch 92/400\n",
      "360/360 [==============================] - 0s 23us/step - loss: 0.0133 - mean_squared_error: 0.0133 - val_loss: 0.1014 - val_mean_squared_error: 0.1014\n",
      "Epoch 93/400\n",
      "360/360 [==============================] - 0s 16us/step - loss: 0.0132 - mean_squared_error: 0.0132 - val_loss: 0.1011 - val_mean_squared_error: 0.1011\n",
      "Epoch 94/400\n",
      "360/360 [==============================] - 0s 16us/step - loss: 0.0132 - mean_squared_error: 0.0132 - val_loss: 0.1010 - val_mean_squared_error: 0.1010\n",
      "Epoch 95/400\n",
      "360/360 [==============================] - 0s 23us/step - loss: 0.0131 - mean_squared_error: 0.0131 - val_loss: 0.0999 - val_mean_squared_error: 0.0999\n",
      "Epoch 96/400\n",
      "360/360 [==============================] - 0s 22us/step - loss: 0.0130 - mean_squared_error: 0.0130 - val_loss: 0.0994 - val_mean_squared_error: 0.0994\n",
      "Epoch 97/400\n",
      "360/360 [==============================] - 0s 16us/step - loss: 0.0129 - mean_squared_error: 0.0129 - val_loss: 0.0992 - val_mean_squared_error: 0.0992\n",
      "Epoch 98/400\n",
      "360/360 [==============================] - 0s 18us/step - loss: 0.0129 - mean_squared_error: 0.0129 - val_loss: 0.0984 - val_mean_squared_error: 0.0984\n",
      "Epoch 99/400\n",
      "360/360 [==============================] - 0s 16us/step - loss: 0.0128 - mean_squared_error: 0.0128 - val_loss: 0.0983 - val_mean_squared_error: 0.0983\n"
     ]
    },
    {
     "name": "stdout",
     "output_type": "stream",
     "text": [
      "Epoch 100/400\n",
      "360/360 [==============================] - 0s 19us/step - loss: 0.0127 - mean_squared_error: 0.0127 - val_loss: 0.0985 - val_mean_squared_error: 0.0985\n",
      "Epoch 101/400\n",
      "360/360 [==============================] - 0s 18us/step - loss: 0.0127 - mean_squared_error: 0.0127 - val_loss: 0.0977 - val_mean_squared_error: 0.0977\n",
      "Epoch 102/400\n",
      "360/360 [==============================] - 0s 23us/step - loss: 0.0126 - mean_squared_error: 0.0126 - val_loss: 0.0972 - val_mean_squared_error: 0.0972\n",
      "Epoch 103/400\n",
      "360/360 [==============================] - 0s 16us/step - loss: 0.0126 - mean_squared_error: 0.0126 - val_loss: 0.0973 - val_mean_squared_error: 0.0973\n",
      "Epoch 104/400\n",
      "360/360 [==============================] - 0s 16us/step - loss: 0.0125 - mean_squared_error: 0.0125 - val_loss: 0.0975 - val_mean_squared_error: 0.0975\n",
      "Epoch 105/400\n",
      "360/360 [==============================] - 0s 17us/step - loss: 0.0124 - mean_squared_error: 0.0124 - val_loss: 0.0976 - val_mean_squared_error: 0.0976\n",
      "Epoch 106/400\n",
      "360/360 [==============================] - 0s 17us/step - loss: 0.0124 - mean_squared_error: 0.0124 - val_loss: 0.0963 - val_mean_squared_error: 0.0963\n",
      "Epoch 107/400\n",
      "360/360 [==============================] - 0s 15us/step - loss: 0.0123 - mean_squared_error: 0.0123 - val_loss: 0.0957 - val_mean_squared_error: 0.0957\n",
      "Epoch 108/400\n",
      "360/360 [==============================] - 0s 16us/step - loss: 0.0122 - mean_squared_error: 0.0122 - val_loss: 0.0951 - val_mean_squared_error: 0.0951\n",
      "Epoch 109/400\n",
      "360/360 [==============================] - 0s 22us/step - loss: 0.0122 - mean_squared_error: 0.0122 - val_loss: 0.0950 - val_mean_squared_error: 0.0950\n",
      "Epoch 110/400\n",
      "360/360 [==============================] - 0s 19us/step - loss: 0.0122 - mean_squared_error: 0.0122 - val_loss: 0.0939 - val_mean_squared_error: 0.0939\n",
      "Epoch 111/400\n",
      "360/360 [==============================] - 0s 22us/step - loss: 0.0121 - mean_squared_error: 0.0121 - val_loss: 0.0948 - val_mean_squared_error: 0.0948\n",
      "Epoch 112/400\n",
      "360/360 [==============================] - 0s 19us/step - loss: 0.0120 - mean_squared_error: 0.0120 - val_loss: 0.0955 - val_mean_squared_error: 0.0955\n",
      "Epoch 113/400\n",
      "360/360 [==============================] - 0s 24us/step - loss: 0.0120 - mean_squared_error: 0.0120 - val_loss: 0.0950 - val_mean_squared_error: 0.0950\n",
      "Epoch 114/400\n",
      "360/360 [==============================] - 0s 23us/step - loss: 0.0119 - mean_squared_error: 0.0119 - val_loss: 0.0936 - val_mean_squared_error: 0.0936\n",
      "Epoch 115/400\n",
      "360/360 [==============================] - 0s 21us/step - loss: 0.0119 - mean_squared_error: 0.0119 - val_loss: 0.0930 - val_mean_squared_error: 0.0930\n",
      "Epoch 116/400\n",
      "360/360 [==============================] - 0s 23us/step - loss: 0.0118 - mean_squared_error: 0.0118 - val_loss: 0.0927 - val_mean_squared_error: 0.0927\n",
      "Epoch 117/400\n",
      "360/360 [==============================] - 0s 20us/step - loss: 0.0118 - mean_squared_error: 0.0118 - val_loss: 0.0934 - val_mean_squared_error: 0.0934\n",
      "Epoch 118/400\n",
      "360/360 [==============================] - 0s 17us/step - loss: 0.0118 - mean_squared_error: 0.0118 - val_loss: 0.0937 - val_mean_squared_error: 0.0937\n",
      "Epoch 119/400\n",
      "360/360 [==============================] - 0s 16us/step - loss: 0.0117 - mean_squared_error: 0.0117 - val_loss: 0.0921 - val_mean_squared_error: 0.0921\n",
      "Epoch 120/400\n",
      "360/360 [==============================] - 0s 16us/step - loss: 0.0117 - mean_squared_error: 0.0117 - val_loss: 0.0906 - val_mean_squared_error: 0.0906\n",
      "Epoch 121/400\n",
      "360/360 [==============================] - 0s 17us/step - loss: 0.0117 - mean_squared_error: 0.0117 - val_loss: 0.0915 - val_mean_squared_error: 0.0915\n",
      "Epoch 122/400\n",
      "360/360 [==============================] - 0s 16us/step - loss: 0.0115 - mean_squared_error: 0.0115 - val_loss: 0.0917 - val_mean_squared_error: 0.0917\n",
      "Epoch 123/400\n",
      "360/360 [==============================] - 0s 15us/step - loss: 0.0115 - mean_squared_error: 0.0115 - val_loss: 0.0917 - val_mean_squared_error: 0.0917\n",
      "Epoch 124/400\n",
      "360/360 [==============================] - 0s 16us/step - loss: 0.0115 - mean_squared_error: 0.0115 - val_loss: 0.0914 - val_mean_squared_error: 0.0914\n",
      "Epoch 125/400\n",
      "360/360 [==============================] - 0s 16us/step - loss: 0.0114 - mean_squared_error: 0.0114 - val_loss: 0.0904 - val_mean_squared_error: 0.0904\n",
      "Epoch 126/400\n",
      "360/360 [==============================] - 0s 21us/step - loss: 0.0113 - mean_squared_error: 0.0113 - val_loss: 0.0894 - val_mean_squared_error: 0.0894\n",
      "Epoch 127/400\n",
      "360/360 [==============================] - 0s 20us/step - loss: 0.0113 - mean_squared_error: 0.0113 - val_loss: 0.0892 - val_mean_squared_error: 0.0892\n",
      "Epoch 128/400\n",
      "360/360 [==============================] - 0s 17us/step - loss: 0.0113 - mean_squared_error: 0.0113 - val_loss: 0.0895 - val_mean_squared_error: 0.0895\n",
      "Epoch 129/400\n",
      "360/360 [==============================] - 0s 17us/step - loss: 0.0112 - mean_squared_error: 0.0112 - val_loss: 0.0895 - val_mean_squared_error: 0.0895\n",
      "Epoch 130/400\n",
      "360/360 [==============================] - 0s 19us/step - loss: 0.0112 - mean_squared_error: 0.0112 - val_loss: 0.0894 - val_mean_squared_error: 0.0894\n",
      "Epoch 131/400\n",
      "360/360 [==============================] - 0s 18us/step - loss: 0.0112 - mean_squared_error: 0.0112 - val_loss: 0.0880 - val_mean_squared_error: 0.0880\n",
      "Epoch 132/400\n",
      "360/360 [==============================] - 0s 22us/step - loss: 0.0111 - mean_squared_error: 0.0111 - val_loss: 0.0884 - val_mean_squared_error: 0.0884\n",
      "Epoch 133/400\n",
      "360/360 [==============================] - 0s 23us/step - loss: 0.0111 - mean_squared_error: 0.0111 - val_loss: 0.0881 - val_mean_squared_error: 0.0881\n",
      "Epoch 134/400\n",
      "360/360 [==============================] - 0s 23us/step - loss: 0.0110 - mean_squared_error: 0.0110 - val_loss: 0.0871 - val_mean_squared_error: 0.0871\n",
      "Epoch 135/400\n",
      "360/360 [==============================] - 0s 18us/step - loss: 0.0110 - mean_squared_error: 0.0110 - val_loss: 0.0875 - val_mean_squared_error: 0.0875\n",
      "Epoch 136/400\n",
      "360/360 [==============================] - 0s 23us/step - loss: 0.0109 - mean_squared_error: 0.0109 - val_loss: 0.0881 - val_mean_squared_error: 0.0881\n",
      "Epoch 137/400\n",
      "360/360 [==============================] - 0s 16us/step - loss: 0.0109 - mean_squared_error: 0.0109 - val_loss: 0.0881 - val_mean_squared_error: 0.0881\n",
      "Epoch 138/400\n",
      "360/360 [==============================] - 0s 16us/step - loss: 0.0108 - mean_squared_error: 0.0108 - val_loss: 0.0864 - val_mean_squared_error: 0.0864\n",
      "Epoch 139/400\n",
      "360/360 [==============================] - 0s 17us/step - loss: 0.0108 - mean_squared_error: 0.0108 - val_loss: 0.0859 - val_mean_squared_error: 0.0859\n",
      "Epoch 140/400\n",
      "360/360 [==============================] - 0s 16us/step - loss: 0.0108 - mean_squared_error: 0.0108 - val_loss: 0.0863 - val_mean_squared_error: 0.0863\n",
      "Epoch 141/400\n",
      "360/360 [==============================] - 0s 16us/step - loss: 0.0107 - mean_squared_error: 0.0107 - val_loss: 0.0864 - val_mean_squared_error: 0.0864\n",
      "Epoch 142/400\n",
      "360/360 [==============================] - 0s 22us/step - loss: 0.0107 - mean_squared_error: 0.0107 - val_loss: 0.0850 - val_mean_squared_error: 0.0850\n",
      "Epoch 143/400\n",
      "360/360 [==============================] - 0s 20us/step - loss: 0.0107 - mean_squared_error: 0.0107 - val_loss: 0.0829 - val_mean_squared_error: 0.0829\n",
      "Epoch 144/400\n",
      "360/360 [==============================] - 0s 16us/step - loss: 0.0106 - mean_squared_error: 0.0106 - val_loss: 0.0837 - val_mean_squared_error: 0.0837\n",
      "Epoch 145/400\n",
      "360/360 [==============================] - 0s 17us/step - loss: 0.0106 - mean_squared_error: 0.0106 - val_loss: 0.0850 - val_mean_squared_error: 0.0850\n",
      "Epoch 146/400\n",
      "360/360 [==============================] - 0s 18us/step - loss: 0.0105 - mean_squared_error: 0.0105 - val_loss: 0.0844 - val_mean_squared_error: 0.0844\n",
      "Epoch 147/400\n",
      "360/360 [==============================] - 0s 23us/step - loss: 0.0105 - mean_squared_error: 0.0105 - val_loss: 0.0830 - val_mean_squared_error: 0.0830\n",
      "Epoch 148/400\n",
      "360/360 [==============================] - 0s 24us/step - loss: 0.0105 - mean_squared_error: 0.0105 - val_loss: 0.0820 - val_mean_squared_error: 0.0820\n",
      "Epoch 149/400\n"
     ]
    },
    {
     "name": "stdout",
     "output_type": "stream",
     "text": [
      "360/360 [==============================] - 0s 21us/step - loss: 0.0104 - mean_squared_error: 0.0104 - val_loss: 0.0816 - val_mean_squared_error: 0.0816\n",
      "Epoch 150/400\n",
      "360/360 [==============================] - 0s 16us/step - loss: 0.0104 - mean_squared_error: 0.0104 - val_loss: 0.0820 - val_mean_squared_error: 0.0820\n",
      "Epoch 151/400\n",
      "360/360 [==============================] - 0s 19us/step - loss: 0.0104 - mean_squared_error: 0.0104 - val_loss: 0.0829 - val_mean_squared_error: 0.0829\n",
      "Epoch 152/400\n",
      "360/360 [==============================] - 0s 22us/step - loss: 0.0103 - mean_squared_error: 0.0103 - val_loss: 0.0811 - val_mean_squared_error: 0.0811\n",
      "Epoch 153/400\n",
      "360/360 [==============================] - 0s 15us/step - loss: 0.0103 - mean_squared_error: 0.0103 - val_loss: 0.0810 - val_mean_squared_error: 0.0810\n",
      "Epoch 154/400\n",
      "360/360 [==============================] - 0s 17us/step - loss: 0.0102 - mean_squared_error: 0.0102 - val_loss: 0.0815 - val_mean_squared_error: 0.0815\n",
      "Epoch 155/400\n",
      "360/360 [==============================] - 0s 17us/step - loss: 0.0103 - mean_squared_error: 0.0103 - val_loss: 0.0815 - val_mean_squared_error: 0.0815\n",
      "Epoch 156/400\n",
      "360/360 [==============================] - 0s 17us/step - loss: 0.0102 - mean_squared_error: 0.0102 - val_loss: 0.0792 - val_mean_squared_error: 0.0792\n",
      "Epoch 157/400\n",
      "360/360 [==============================] - 0s 16us/step - loss: 0.0101 - mean_squared_error: 0.0101 - val_loss: 0.0778 - val_mean_squared_error: 0.0778\n",
      "Epoch 158/400\n",
      "360/360 [==============================] - 0s 15us/step - loss: 0.0102 - mean_squared_error: 0.0102 - val_loss: 0.0790 - val_mean_squared_error: 0.0790\n",
      "Epoch 159/400\n",
      "360/360 [==============================] - 0s 16us/step - loss: 0.0101 - mean_squared_error: 0.0101 - val_loss: 0.0810 - val_mean_squared_error: 0.0810\n",
      "Epoch 160/400\n",
      "360/360 [==============================] - 0s 18us/step - loss: 0.0101 - mean_squared_error: 0.0101 - val_loss: 0.0788 - val_mean_squared_error: 0.0788\n",
      "Epoch 161/400\n",
      "360/360 [==============================] - 0s 16us/step - loss: 0.0100 - mean_squared_error: 0.0100 - val_loss: 0.0780 - val_mean_squared_error: 0.0780\n",
      "Epoch 162/400\n",
      "360/360 [==============================] - 0s 18us/step - loss: 0.0100 - mean_squared_error: 0.0100 - val_loss: 0.0771 - val_mean_squared_error: 0.0771\n",
      "Epoch 163/400\n",
      "360/360 [==============================] - 0s 17us/step - loss: 0.0099 - mean_squared_error: 0.0099 - val_loss: 0.0773 - val_mean_squared_error: 0.0773\n",
      "Epoch 164/400\n",
      "360/360 [==============================] - 0s 16us/step - loss: 0.0099 - mean_squared_error: 0.0099 - val_loss: 0.0781 - val_mean_squared_error: 0.0781\n",
      "Epoch 165/400\n",
      "360/360 [==============================] - 0s 17us/step - loss: 0.0099 - mean_squared_error: 0.0099 - val_loss: 0.0772 - val_mean_squared_error: 0.0772\n",
      "Epoch 166/400\n",
      "360/360 [==============================] - 0s 24us/step - loss: 0.0098 - mean_squared_error: 0.0098 - val_loss: 0.0752 - val_mean_squared_error: 0.0752\n",
      "Epoch 167/400\n",
      "360/360 [==============================] - 0s 26us/step - loss: 0.0098 - mean_squared_error: 0.0098 - val_loss: 0.0759 - val_mean_squared_error: 0.0759\n",
      "Epoch 168/400\n",
      "360/360 [==============================] - 0s 19us/step - loss: 0.0098 - mean_squared_error: 0.0098 - val_loss: 0.0766 - val_mean_squared_error: 0.0766\n",
      "Epoch 169/400\n",
      "360/360 [==============================] - 0s 17us/step - loss: 0.0097 - mean_squared_error: 0.0097 - val_loss: 0.0761 - val_mean_squared_error: 0.0761\n",
      "Epoch 170/400\n",
      "360/360 [==============================] - 0s 18us/step - loss: 0.0097 - mean_squared_error: 0.0097 - val_loss: 0.0733 - val_mean_squared_error: 0.0733\n",
      "Epoch 171/400\n",
      "360/360 [==============================] - 0s 16us/step - loss: 0.0097 - mean_squared_error: 0.0097 - val_loss: 0.0730 - val_mean_squared_error: 0.0730\n",
      "Epoch 172/400\n",
      "360/360 [==============================] - 0s 22us/step - loss: 0.0096 - mean_squared_error: 0.0096 - val_loss: 0.0748 - val_mean_squared_error: 0.0748\n",
      "Epoch 173/400\n",
      "360/360 [==============================] - 0s 22us/step - loss: 0.0096 - mean_squared_error: 0.0096 - val_loss: 0.0761 - val_mean_squared_error: 0.0761\n",
      "Epoch 174/400\n",
      "360/360 [==============================] - 0s 22us/step - loss: 0.0096 - mean_squared_error: 0.0096 - val_loss: 0.0746 - val_mean_squared_error: 0.0746\n",
      "Epoch 175/400\n",
      "360/360 [==============================] - 0s 24us/step - loss: 0.0095 - mean_squared_error: 0.0095 - val_loss: 0.0725 - val_mean_squared_error: 0.0725\n",
      "Epoch 176/400\n",
      "360/360 [==============================] - 0s 17us/step - loss: 0.0095 - mean_squared_error: 0.0095 - val_loss: 0.0710 - val_mean_squared_error: 0.0710\n",
      "Epoch 177/400\n",
      "360/360 [==============================] - 0s 24us/step - loss: 0.0095 - mean_squared_error: 0.0095 - val_loss: 0.0734 - val_mean_squared_error: 0.0734\n",
      "Epoch 178/400\n",
      "360/360 [==============================] - 0s 15us/step - loss: 0.0095 - mean_squared_error: 0.0095 - val_loss: 0.0725 - val_mean_squared_error: 0.0725\n",
      "Epoch 179/400\n",
      "360/360 [==============================] - 0s 20us/step - loss: 0.0094 - mean_squared_error: 0.0094 - val_loss: 0.0711 - val_mean_squared_error: 0.0711\n",
      "Epoch 180/400\n",
      "360/360 [==============================] - 0s 21us/step - loss: 0.0094 - mean_squared_error: 0.0094 - val_loss: 0.0718 - val_mean_squared_error: 0.0718\n",
      "Epoch 181/400\n",
      "360/360 [==============================] - 0s 19us/step - loss: 0.0094 - mean_squared_error: 0.0094 - val_loss: 0.0740 - val_mean_squared_error: 0.0740\n",
      "Epoch 182/400\n",
      "360/360 [==============================] - 0s 21us/step - loss: 0.0093 - mean_squared_error: 0.0093 - val_loss: 0.0725 - val_mean_squared_error: 0.0725\n",
      "Epoch 183/400\n",
      "360/360 [==============================] - 0s 15us/step - loss: 0.0093 - mean_squared_error: 0.0093 - val_loss: 0.0697 - val_mean_squared_error: 0.0697\n",
      "Epoch 184/400\n",
      "360/360 [==============================] - 0s 22us/step - loss: 0.0092 - mean_squared_error: 0.0092 - val_loss: 0.0697 - val_mean_squared_error: 0.0697\n",
      "Epoch 185/400\n",
      "360/360 [==============================] - 0s 24us/step - loss: 0.0092 - mean_squared_error: 0.0092 - val_loss: 0.0700 - val_mean_squared_error: 0.0700\n",
      "Epoch 186/400\n",
      "360/360 [==============================] - 0s 22us/step - loss: 0.0091 - mean_squared_error: 0.0091 - val_loss: 0.0696 - val_mean_squared_error: 0.0696\n",
      "Epoch 187/400\n",
      "360/360 [==============================] - 0s 15us/step - loss: 0.0091 - mean_squared_error: 0.0091 - val_loss: 0.0703 - val_mean_squared_error: 0.0703\n",
      "Epoch 188/400\n",
      "360/360 [==============================] - 0s 16us/step - loss: 0.0091 - mean_squared_error: 0.0091 - val_loss: 0.0709 - val_mean_squared_error: 0.0709\n",
      "Epoch 189/400\n",
      "360/360 [==============================] - 0s 16us/step - loss: 0.0091 - mean_squared_error: 0.0091 - val_loss: 0.0696 - val_mean_squared_error: 0.0696\n",
      "Epoch 190/400\n",
      "360/360 [==============================] - 0s 19us/step - loss: 0.0090 - mean_squared_error: 0.0090 - val_loss: 0.0666 - val_mean_squared_error: 0.0666\n",
      "Epoch 191/400\n",
      "360/360 [==============================] - 0s 17us/step - loss: 0.0091 - mean_squared_error: 0.0091 - val_loss: 0.0667 - val_mean_squared_error: 0.0667\n",
      "Epoch 192/400\n",
      "360/360 [==============================] - 0s 17us/step - loss: 0.0089 - mean_squared_error: 0.0089 - val_loss: 0.0693 - val_mean_squared_error: 0.0693\n",
      "Epoch 193/400\n",
      "360/360 [==============================] - 0s 19us/step - loss: 0.0090 - mean_squared_error: 0.0090 - val_loss: 0.0700 - val_mean_squared_error: 0.0700\n",
      "Epoch 194/400\n",
      "360/360 [==============================] - 0s 17us/step - loss: 0.0090 - mean_squared_error: 0.0090 - val_loss: 0.0669 - val_mean_squared_error: 0.0669\n",
      "Epoch 195/400\n",
      "360/360 [==============================] - 0s 16us/step - loss: 0.0089 - mean_squared_error: 0.0089 - val_loss: 0.0663 - val_mean_squared_error: 0.0663\n",
      "Epoch 196/400\n",
      "360/360 [==============================] - 0s 22us/step - loss: 0.0089 - mean_squared_error: 0.0089 - val_loss: 0.0680 - val_mean_squared_error: 0.0680\n",
      "Epoch 197/400\n",
      "360/360 [==============================] - 0s 17us/step - loss: 0.0088 - mean_squared_error: 0.0088 - val_loss: 0.0685 - val_mean_squared_error: 0.0685\n",
      "Epoch 198/400\n"
     ]
    },
    {
     "name": "stdout",
     "output_type": "stream",
     "text": [
      "360/360 [==============================] - 0s 17us/step - loss: 0.0088 - mean_squared_error: 0.0088 - val_loss: 0.0659 - val_mean_squared_error: 0.0659\n",
      "Epoch 199/400\n",
      "360/360 [==============================] - 0s 17us/step - loss: 0.0088 - mean_squared_error: 0.0088 - val_loss: 0.0640 - val_mean_squared_error: 0.0640\n",
      "Epoch 200/400\n",
      "360/360 [==============================] - 0s 26us/step - loss: 0.0088 - mean_squared_error: 0.0088 - val_loss: 0.0643 - val_mean_squared_error: 0.0643\n",
      "Epoch 201/400\n",
      "360/360 [==============================] - 0s 20us/step - loss: 0.0087 - mean_squared_error: 0.0087 - val_loss: 0.0661 - val_mean_squared_error: 0.0661\n",
      "Epoch 202/400\n",
      "360/360 [==============================] - 0s 18us/step - loss: 0.0087 - mean_squared_error: 0.0087 - val_loss: 0.0656 - val_mean_squared_error: 0.0656\n",
      "Epoch 203/400\n",
      "360/360 [==============================] - 0s 18us/step - loss: 0.0087 - mean_squared_error: 0.0087 - val_loss: 0.0650 - val_mean_squared_error: 0.0650\n",
      "Epoch 204/400\n",
      "360/360 [==============================] - 0s 19us/step - loss: 0.0086 - mean_squared_error: 0.0086 - val_loss: 0.0640 - val_mean_squared_error: 0.0640\n",
      "Epoch 205/400\n",
      "360/360 [==============================] - 0s 23us/step - loss: 0.0086 - mean_squared_error: 0.0086 - val_loss: 0.0628 - val_mean_squared_error: 0.0628\n",
      "Epoch 206/400\n",
      "360/360 [==============================] - 0s 23us/step - loss: 0.0086 - mean_squared_error: 0.0086 - val_loss: 0.0634 - val_mean_squared_error: 0.0634\n",
      "Epoch 207/400\n",
      "360/360 [==============================] - 0s 21us/step - loss: 0.0085 - mean_squared_error: 0.0085 - val_loss: 0.0636 - val_mean_squared_error: 0.0636\n",
      "Epoch 208/400\n",
      "360/360 [==============================] - 0s 22us/step - loss: 0.0085 - mean_squared_error: 0.0085 - val_loss: 0.0632 - val_mean_squared_error: 0.0632\n",
      "Epoch 209/400\n",
      "360/360 [==============================] - 0s 23us/step - loss: 0.0086 - mean_squared_error: 0.0086 - val_loss: 0.0627 - val_mean_squared_error: 0.0627\n",
      "Epoch 210/400\n",
      "360/360 [==============================] - 0s 16us/step - loss: 0.0086 - mean_squared_error: 0.0086 - val_loss: 0.0600 - val_mean_squared_error: 0.0600\n",
      "Epoch 211/400\n",
      "360/360 [==============================] - 0s 21us/step - loss: 0.0085 - mean_squared_error: 0.0085 - val_loss: 0.0620 - val_mean_squared_error: 0.0620\n",
      "Epoch 212/400\n",
      "360/360 [==============================] - 0s 21us/step - loss: 0.0085 - mean_squared_error: 0.0085 - val_loss: 0.0632 - val_mean_squared_error: 0.0632\n",
      "Epoch 213/400\n",
      "360/360 [==============================] - 0s 21us/step - loss: 0.0084 - mean_squared_error: 0.0084 - val_loss: 0.0613 - val_mean_squared_error: 0.0613\n",
      "Epoch 214/400\n",
      "360/360 [==============================] - 0s 18us/step - loss: 0.0084 - mean_squared_error: 0.0084 - val_loss: 0.0597 - val_mean_squared_error: 0.0597\n",
      "Epoch 215/400\n",
      "360/360 [==============================] - 0s 17us/step - loss: 0.0083 - mean_squared_error: 0.0083 - val_loss: 0.0600 - val_mean_squared_error: 0.0600\n",
      "Epoch 216/400\n",
      "360/360 [==============================] - 0s 18us/step - loss: 0.0083 - mean_squared_error: 0.0083 - val_loss: 0.0599 - val_mean_squared_error: 0.0599\n",
      "Epoch 217/400\n",
      "360/360 [==============================] - 0s 23us/step - loss: 0.0083 - mean_squared_error: 0.0083 - val_loss: 0.0598 - val_mean_squared_error: 0.0598\n",
      "Epoch 218/400\n",
      "360/360 [==============================] - 0s 20us/step - loss: 0.0083 - mean_squared_error: 0.0083 - val_loss: 0.0589 - val_mean_squared_error: 0.0589\n",
      "Epoch 219/400\n",
      "360/360 [==============================] - 0s 16us/step - loss: 0.0082 - mean_squared_error: 0.0082 - val_loss: 0.0598 - val_mean_squared_error: 0.0598\n",
      "Epoch 220/400\n",
      "360/360 [==============================] - 0s 16us/step - loss: 0.0082 - mean_squared_error: 0.0082 - val_loss: 0.0594 - val_mean_squared_error: 0.0594\n",
      "Epoch 221/400\n",
      "360/360 [==============================] - 0s 17us/step - loss: 0.0081 - mean_squared_error: 0.0081 - val_loss: 0.0577 - val_mean_squared_error: 0.0577\n",
      "Epoch 222/400\n",
      "360/360 [==============================] - 0s 17us/step - loss: 0.0081 - mean_squared_error: 0.0081 - val_loss: 0.0576 - val_mean_squared_error: 0.0576\n",
      "Epoch 223/400\n",
      "360/360 [==============================] - 0s 16us/step - loss: 0.0081 - mean_squared_error: 0.0081 - val_loss: 0.0580 - val_mean_squared_error: 0.0580\n",
      "Epoch 224/400\n",
      "360/360 [==============================] - 0s 24us/step - loss: 0.0081 - mean_squared_error: 0.0081 - val_loss: 0.0569 - val_mean_squared_error: 0.0569\n",
      "Epoch 225/400\n",
      "360/360 [==============================] - 0s 24us/step - loss: 0.0081 - mean_squared_error: 0.0081 - val_loss: 0.0554 - val_mean_squared_error: 0.0554\n",
      "Epoch 226/400\n",
      "360/360 [==============================] - 0s 19us/step - loss: 0.0081 - mean_squared_error: 0.0081 - val_loss: 0.0564 - val_mean_squared_error: 0.0564\n",
      "Epoch 227/400\n",
      "360/360 [==============================] - 0s 23us/step - loss: 0.0080 - mean_squared_error: 0.0080 - val_loss: 0.0598 - val_mean_squared_error: 0.0598\n",
      "Epoch 228/400\n",
      "360/360 [==============================] - 0s 18us/step - loss: 0.0081 - mean_squared_error: 0.0081 - val_loss: 0.0571 - val_mean_squared_error: 0.0571\n",
      "Epoch 229/400\n",
      "360/360 [==============================] - 0s 16us/step - loss: 0.0080 - mean_squared_error: 0.0080 - val_loss: 0.0551 - val_mean_squared_error: 0.0551\n",
      "Epoch 230/400\n",
      "360/360 [==============================] - 0s 16us/step - loss: 0.0079 - mean_squared_error: 0.0079 - val_loss: 0.0554 - val_mean_squared_error: 0.0554\n",
      "Epoch 231/400\n",
      "360/360 [==============================] - 0s 23us/step - loss: 0.0079 - mean_squared_error: 0.0079 - val_loss: 0.0548 - val_mean_squared_error: 0.0548\n",
      "Epoch 232/400\n",
      "360/360 [==============================] - 0s 24us/step - loss: 0.0079 - mean_squared_error: 0.0079 - val_loss: 0.0541 - val_mean_squared_error: 0.0541\n",
      "Epoch 233/400\n",
      "360/360 [==============================] - 0s 16us/step - loss: 0.0079 - mean_squared_error: 0.0079 - val_loss: 0.0524 - val_mean_squared_error: 0.0524\n",
      "Epoch 234/400\n",
      "360/360 [==============================] - 0s 17us/step - loss: 0.0078 - mean_squared_error: 0.0078 - val_loss: 0.0545 - val_mean_squared_error: 0.0545\n",
      "Epoch 235/400\n",
      "360/360 [==============================] - 0s 16us/step - loss: 0.0079 - mean_squared_error: 0.0079 - val_loss: 0.0543 - val_mean_squared_error: 0.0543\n",
      "Epoch 236/400\n",
      "360/360 [==============================] - 0s 17us/step - loss: 0.0078 - mean_squared_error: 0.0078 - val_loss: 0.0505 - val_mean_squared_error: 0.0505\n",
      "Epoch 237/400\n",
      "360/360 [==============================] - 0s 20us/step - loss: 0.0078 - mean_squared_error: 0.0078 - val_loss: 0.0516 - val_mean_squared_error: 0.0516\n",
      "Epoch 238/400\n",
      "360/360 [==============================] - 0s 24us/step - loss: 0.0078 - mean_squared_error: 0.0078 - val_loss: 0.0551 - val_mean_squared_error: 0.0551\n",
      "Epoch 239/400\n",
      "360/360 [==============================] - 0s 16us/step - loss: 0.0077 - mean_squared_error: 0.0077 - val_loss: 0.0524 - val_mean_squared_error: 0.0524\n",
      "Epoch 240/400\n",
      "360/360 [==============================] - 0s 22us/step - loss: 0.0076 - mean_squared_error: 0.0076 - val_loss: 0.0503 - val_mean_squared_error: 0.0503\n",
      "Epoch 241/400\n",
      "360/360 [==============================] - 0s 17us/step - loss: 0.0077 - mean_squared_error: 0.0077 - val_loss: 0.0502 - val_mean_squared_error: 0.0502\n",
      "Epoch 242/400\n",
      "360/360 [==============================] - 0s 19us/step - loss: 0.0076 - mean_squared_error: 0.0076 - val_loss: 0.0521 - val_mean_squared_error: 0.0521\n",
      "Epoch 243/400\n",
      "360/360 [==============================] - 0s 21us/step - loss: 0.0076 - mean_squared_error: 0.0076 - val_loss: 0.0508 - val_mean_squared_error: 0.0508\n",
      "Epoch 244/400\n",
      "360/360 [==============================] - 0s 22us/step - loss: 0.0077 - mean_squared_error: 0.0077 - val_loss: 0.0487 - val_mean_squared_error: 0.0487\n",
      "Epoch 245/400\n",
      "360/360 [==============================] - 0s 25us/step - loss: 0.0075 - mean_squared_error: 0.0075 - val_loss: 0.0512 - val_mean_squared_error: 0.0512\n",
      "Epoch 246/400\n",
      "360/360 [==============================] - 0s 18us/step - loss: 0.0075 - mean_squared_error: 0.0075 - val_loss: 0.0530 - val_mean_squared_error: 0.0530\n",
      "Epoch 247/400\n"
     ]
    },
    {
     "name": "stdout",
     "output_type": "stream",
     "text": [
      "360/360 [==============================] - 0s 16us/step - loss: 0.0076 - mean_squared_error: 0.0076 - val_loss: 0.0517 - val_mean_squared_error: 0.0517\n",
      "Epoch 248/400\n",
      "360/360 [==============================] - 0s 18us/step - loss: 0.0075 - mean_squared_error: 0.0075 - val_loss: 0.0483 - val_mean_squared_error: 0.0483\n",
      "Epoch 249/400\n",
      "360/360 [==============================] - 0s 18us/step - loss: 0.0075 - mean_squared_error: 0.0075 - val_loss: 0.0462 - val_mean_squared_error: 0.0462\n",
      "Epoch 250/400\n",
      "360/360 [==============================] - 0s 17us/step - loss: 0.0075 - mean_squared_error: 0.0075 - val_loss: 0.0479 - val_mean_squared_error: 0.0479\n",
      "Epoch 251/400\n",
      "360/360 [==============================] - 0s 19us/step - loss: 0.0077 - mean_squared_error: 0.0077 - val_loss: 0.0509 - val_mean_squared_error: 0.0509\n",
      "Epoch 252/400\n",
      "360/360 [==============================] - 0s 17us/step - loss: 0.0074 - mean_squared_error: 0.0074 - val_loss: 0.0477 - val_mean_squared_error: 0.0477\n",
      "Epoch 253/400\n",
      "360/360 [==============================] - 0s 23us/step - loss: 0.0075 - mean_squared_error: 0.0075 - val_loss: 0.0477 - val_mean_squared_error: 0.0477\n",
      "Epoch 254/400\n",
      "360/360 [==============================] - 0s 22us/step - loss: 0.0074 - mean_squared_error: 0.0074 - val_loss: 0.0494 - val_mean_squared_error: 0.0494\n",
      "Epoch 255/400\n",
      "360/360 [==============================] - 0s 20us/step - loss: 0.0073 - mean_squared_error: 0.0073 - val_loss: 0.0495 - val_mean_squared_error: 0.0495\n",
      "Epoch 256/400\n",
      "360/360 [==============================] - 0s 22us/step - loss: 0.0074 - mean_squared_error: 0.0074 - val_loss: 0.0455 - val_mean_squared_error: 0.0455\n",
      "Epoch 257/400\n",
      "360/360 [==============================] - 0s 22us/step - loss: 0.0075 - mean_squared_error: 0.0075 - val_loss: 0.0441 - val_mean_squared_error: 0.0441\n",
      "Epoch 258/400\n",
      "360/360 [==============================] - 0s 17us/step - loss: 0.0073 - mean_squared_error: 0.0073 - val_loss: 0.0483 - val_mean_squared_error: 0.0483\n",
      "Epoch 259/400\n",
      "360/360 [==============================] - 0s 16us/step - loss: 0.0072 - mean_squared_error: 0.0072 - val_loss: 0.0496 - val_mean_squared_error: 0.0496\n",
      "Epoch 260/400\n",
      "360/360 [==============================] - 0s 17us/step - loss: 0.0072 - mean_squared_error: 0.0072 - val_loss: 0.0468 - val_mean_squared_error: 0.0468\n",
      "Epoch 261/400\n",
      "360/360 [==============================] - 0s 21us/step - loss: 0.0072 - mean_squared_error: 0.0072 - val_loss: 0.0442 - val_mean_squared_error: 0.0442\n",
      "Epoch 262/400\n",
      "360/360 [==============================] - 0s 19us/step - loss: 0.0073 - mean_squared_error: 0.0073 - val_loss: 0.0449 - val_mean_squared_error: 0.0449\n",
      "Epoch 263/400\n",
      "360/360 [==============================] - 0s 22us/step - loss: 0.0072 - mean_squared_error: 0.0072 - val_loss: 0.0434 - val_mean_squared_error: 0.0434\n",
      "Epoch 264/400\n",
      "360/360 [==============================] - 0s 16us/step - loss: 0.0072 - mean_squared_error: 0.0072 - val_loss: 0.0443 - val_mean_squared_error: 0.0443\n",
      "Epoch 265/400\n",
      "360/360 [==============================] - 0s 16us/step - loss: 0.0072 - mean_squared_error: 0.0072 - val_loss: 0.0433 - val_mean_squared_error: 0.0433\n",
      "Epoch 266/400\n",
      "360/360 [==============================] - 0s 18us/step - loss: 0.0071 - mean_squared_error: 0.0071 - val_loss: 0.0455 - val_mean_squared_error: 0.0455\n",
      "Epoch 267/400\n",
      "360/360 [==============================] - 0s 17us/step - loss: 0.0071 - mean_squared_error: 0.0071 - val_loss: 0.0455 - val_mean_squared_error: 0.0455\n",
      "Epoch 268/400\n",
      "360/360 [==============================] - 0s 16us/step - loss: 0.0070 - mean_squared_error: 0.0070 - val_loss: 0.0429 - val_mean_squared_error: 0.0429\n",
      "Epoch 269/400\n",
      "360/360 [==============================] - 0s 19us/step - loss: 0.0070 - mean_squared_error: 0.0070 - val_loss: 0.0426 - val_mean_squared_error: 0.0426\n",
      "Epoch 270/400\n",
      "360/360 [==============================] - 0s 18us/step - loss: 0.0070 - mean_squared_error: 0.0070 - val_loss: 0.0433 - val_mean_squared_error: 0.0433\n",
      "Epoch 271/400\n",
      "360/360 [==============================] - 0s 19us/step - loss: 0.0070 - mean_squared_error: 0.0070 - val_loss: 0.0440 - val_mean_squared_error: 0.0440\n",
      "Epoch 272/400\n",
      "360/360 [==============================] - 0s 17us/step - loss: 0.0069 - mean_squared_error: 0.0069 - val_loss: 0.0438 - val_mean_squared_error: 0.0438\n",
      "Epoch 273/400\n",
      "360/360 [==============================] - 0s 18us/step - loss: 0.0069 - mean_squared_error: 0.0069 - val_loss: 0.0424 - val_mean_squared_error: 0.0424\n",
      "Epoch 274/400\n",
      "360/360 [==============================] - 0s 18us/step - loss: 0.0070 - mean_squared_error: 0.0070 - val_loss: 0.0422 - val_mean_squared_error: 0.0422\n",
      "Epoch 275/400\n",
      "360/360 [==============================] - 0s 16us/step - loss: 0.0069 - mean_squared_error: 0.0069 - val_loss: 0.0410 - val_mean_squared_error: 0.0410\n",
      "Epoch 276/400\n",
      "360/360 [==============================] - 0s 22us/step - loss: 0.0068 - mean_squared_error: 0.0068 - val_loss: 0.0414 - val_mean_squared_error: 0.0414\n",
      "Epoch 277/400\n",
      "360/360 [==============================] - 0s 17us/step - loss: 0.0068 - mean_squared_error: 0.0068 - val_loss: 0.0413 - val_mean_squared_error: 0.0413\n",
      "Epoch 278/400\n",
      "360/360 [==============================] - 0s 16us/step - loss: 0.0068 - mean_squared_error: 0.0068 - val_loss: 0.0414 - val_mean_squared_error: 0.0414\n",
      "Epoch 279/400\n",
      "360/360 [==============================] - 0s 15us/step - loss: 0.0068 - mean_squared_error: 0.0068 - val_loss: 0.0405 - val_mean_squared_error: 0.0405\n",
      "Epoch 280/400\n",
      "360/360 [==============================] - 0s 17us/step - loss: 0.0067 - mean_squared_error: 0.0067 - val_loss: 0.0417 - val_mean_squared_error: 0.0417\n",
      "Epoch 281/400\n",
      "360/360 [==============================] - 0s 21us/step - loss: 0.0068 - mean_squared_error: 0.0068 - val_loss: 0.0416 - val_mean_squared_error: 0.0416\n",
      "Epoch 282/400\n",
      "360/360 [==============================] - 0s 24us/step - loss: 0.0067 - mean_squared_error: 0.0067 - val_loss: 0.0391 - val_mean_squared_error: 0.0391\n",
      "Epoch 283/400\n",
      "360/360 [==============================] - 0s 23us/step - loss: 0.0068 - mean_squared_error: 0.0068 - val_loss: 0.0392 - val_mean_squared_error: 0.0392\n",
      "Epoch 284/400\n",
      "360/360 [==============================] - 0s 23us/step - loss: 0.0067 - mean_squared_error: 0.0067 - val_loss: 0.0411 - val_mean_squared_error: 0.0411\n",
      "Epoch 285/400\n",
      "360/360 [==============================] - 0s 17us/step - loss: 0.0067 - mean_squared_error: 0.0067 - val_loss: 0.0402 - val_mean_squared_error: 0.0402\n",
      "Epoch 286/400\n",
      "360/360 [==============================] - 0s 24us/step - loss: 0.0066 - mean_squared_error: 0.0066 - val_loss: 0.0378 - val_mean_squared_error: 0.0378\n",
      "Epoch 287/400\n",
      "360/360 [==============================] - 0s 18us/step - loss: 0.0066 - mean_squared_error: 0.0066 - val_loss: 0.0381 - val_mean_squared_error: 0.0381\n",
      "Epoch 288/400\n",
      "360/360 [==============================] - 0s 16us/step - loss: 0.0066 - mean_squared_error: 0.0066 - val_loss: 0.0393 - val_mean_squared_error: 0.0393\n",
      "Epoch 289/400\n",
      "360/360 [==============================] - 0s 17us/step - loss: 0.0066 - mean_squared_error: 0.0066 - val_loss: 0.0397 - val_mean_squared_error: 0.0397\n",
      "Epoch 290/400\n",
      "360/360 [==============================] - 0s 20us/step - loss: 0.0065 - mean_squared_error: 0.0065 - val_loss: 0.0379 - val_mean_squared_error: 0.0379\n",
      "Epoch 291/400\n",
      "360/360 [==============================] - 0s 19us/step - loss: 0.0066 - mean_squared_error: 0.0066 - val_loss: 0.0378 - val_mean_squared_error: 0.0378\n",
      "Epoch 292/400\n",
      "360/360 [==============================] - 0s 18us/step - loss: 0.0065 - mean_squared_error: 0.0065 - val_loss: 0.0373 - val_mean_squared_error: 0.0373\n",
      "Epoch 293/400\n",
      "360/360 [==============================] - 0s 16us/step - loss: 0.0065 - mean_squared_error: 0.0065 - val_loss: 0.0383 - val_mean_squared_error: 0.0383\n",
      "Epoch 294/400\n",
      "360/360 [==============================] - 0s 15us/step - loss: 0.0065 - mean_squared_error: 0.0065 - val_loss: 0.0381 - val_mean_squared_error: 0.0381\n",
      "Epoch 295/400\n",
      "360/360 [==============================] - 0s 25us/step - loss: 0.0065 - mean_squared_error: 0.0065 - val_loss: 0.0383 - val_mean_squared_error: 0.0383\n",
      "Epoch 296/400\n"
     ]
    },
    {
     "name": "stdout",
     "output_type": "stream",
     "text": [
      "360/360 [==============================] - 0s 23us/step - loss: 0.0065 - mean_squared_error: 0.0065 - val_loss: 0.0374 - val_mean_squared_error: 0.0374\n",
      "Epoch 297/400\n",
      "360/360 [==============================] - 0s 25us/step - loss: 0.0065 - mean_squared_error: 0.0065 - val_loss: 0.0366 - val_mean_squared_error: 0.0366\n",
      "Epoch 298/400\n",
      "360/360 [==============================] - 0s 22us/step - loss: 0.0065 - mean_squared_error: 0.0065 - val_loss: 0.0348 - val_mean_squared_error: 0.0348\n",
      "Epoch 299/400\n",
      "360/360 [==============================] - 0s 23us/step - loss: 0.0064 - mean_squared_error: 0.0064 - val_loss: 0.0358 - val_mean_squared_error: 0.0358\n",
      "Epoch 300/400\n",
      "360/360 [==============================] - 0s 23us/step - loss: 0.0064 - mean_squared_error: 0.0064 - val_loss: 0.0367 - val_mean_squared_error: 0.0367\n",
      "Epoch 301/400\n",
      "360/360 [==============================] - 0s 25us/step - loss: 0.0064 - mean_squared_error: 0.0064 - val_loss: 0.0374 - val_mean_squared_error: 0.0374\n",
      "Epoch 302/400\n",
      "360/360 [==============================] - 0s 22us/step - loss: 0.0063 - mean_squared_error: 0.0063 - val_loss: 0.0356 - val_mean_squared_error: 0.0356\n",
      "Epoch 303/400\n",
      "360/360 [==============================] - 0s 18us/step - loss: 0.0063 - mean_squared_error: 0.0063 - val_loss: 0.0346 - val_mean_squared_error: 0.0346\n",
      "Epoch 304/400\n",
      "360/360 [==============================] - 0s 15us/step - loss: 0.0063 - mean_squared_error: 0.0063 - val_loss: 0.0344 - val_mean_squared_error: 0.0344\n",
      "Epoch 305/400\n",
      "360/360 [==============================] - 0s 24us/step - loss: 0.0063 - mean_squared_error: 0.0063 - val_loss: 0.0355 - val_mean_squared_error: 0.0355\n",
      "Epoch 306/400\n",
      "360/360 [==============================] - 0s 21us/step - loss: 0.0063 - mean_squared_error: 0.0063 - val_loss: 0.0364 - val_mean_squared_error: 0.0364\n",
      "Epoch 307/400\n",
      "360/360 [==============================] - 0s 18us/step - loss: 0.0062 - mean_squared_error: 0.0062 - val_loss: 0.0362 - val_mean_squared_error: 0.0362\n",
      "Epoch 308/400\n",
      "360/360 [==============================] - 0s 17us/step - loss: 0.0063 - mean_squared_error: 0.0063 - val_loss: 0.0348 - val_mean_squared_error: 0.0348\n",
      "Epoch 309/400\n",
      "360/360 [==============================] - 0s 20us/step - loss: 0.0062 - mean_squared_error: 0.0062 - val_loss: 0.0326 - val_mean_squared_error: 0.0326\n",
      "Epoch 310/400\n",
      "360/360 [==============================] - 0s 17us/step - loss: 0.0063 - mean_squared_error: 0.0063 - val_loss: 0.0337 - val_mean_squared_error: 0.0337\n",
      "Epoch 311/400\n",
      "360/360 [==============================] - 0s 18us/step - loss: 0.0063 - mean_squared_error: 0.0063 - val_loss: 0.0365 - val_mean_squared_error: 0.0365\n",
      "Epoch 312/400\n",
      "360/360 [==============================] - 0s 19us/step - loss: 0.0062 - mean_squared_error: 0.0062 - val_loss: 0.0331 - val_mean_squared_error: 0.0331\n",
      "Epoch 313/400\n",
      "360/360 [==============================] - 0s 18us/step - loss: 0.0063 - mean_squared_error: 0.0063 - val_loss: 0.0325 - val_mean_squared_error: 0.0325\n",
      "Epoch 314/400\n",
      "360/360 [==============================] - 0s 19us/step - loss: 0.0061 - mean_squared_error: 0.0061 - val_loss: 0.0346 - val_mean_squared_error: 0.0346\n",
      "Epoch 315/400\n",
      "360/360 [==============================] - 0s 25us/step - loss: 0.0061 - mean_squared_error: 0.0061 - val_loss: 0.0342 - val_mean_squared_error: 0.0342\n",
      "Epoch 316/400\n",
      "360/360 [==============================] - 0s 18us/step - loss: 0.0061 - mean_squared_error: 0.0061 - val_loss: 0.0325 - val_mean_squared_error: 0.0325\n",
      "Epoch 317/400\n",
      "360/360 [==============================] - 0s 22us/step - loss: 0.0062 - mean_squared_error: 0.0062 - val_loss: 0.0331 - val_mean_squared_error: 0.0331\n",
      "Epoch 318/400\n",
      "360/360 [==============================] - 0s 15us/step - loss: 0.0061 - mean_squared_error: 0.0061 - val_loss: 0.0320 - val_mean_squared_error: 0.0320\n",
      "Epoch 319/400\n",
      "360/360 [==============================] - 0s 17us/step - loss: 0.0061 - mean_squared_error: 0.0061 - val_loss: 0.0329 - val_mean_squared_error: 0.0329\n",
      "Epoch 320/400\n",
      "360/360 [==============================] - 0s 18us/step - loss: 0.0061 - mean_squared_error: 0.0061 - val_loss: 0.0308 - val_mean_squared_error: 0.0308\n",
      "Epoch 321/400\n",
      "360/360 [==============================] - 0s 18us/step - loss: 0.0060 - mean_squared_error: 0.0060 - val_loss: 0.0318 - val_mean_squared_error: 0.0318\n",
      "Epoch 322/400\n",
      "360/360 [==============================] - 0s 19us/step - loss: 0.0060 - mean_squared_error: 0.0060 - val_loss: 0.0319 - val_mean_squared_error: 0.0319\n",
      "Epoch 323/400\n",
      "360/360 [==============================] - 0s 19us/step - loss: 0.0060 - mean_squared_error: 0.0060 - val_loss: 0.0319 - val_mean_squared_error: 0.0319\n",
      "Epoch 324/400\n",
      "360/360 [==============================] - 0s 18us/step - loss: 0.0059 - mean_squared_error: 0.0059 - val_loss: 0.0307 - val_mean_squared_error: 0.0307\n",
      "Epoch 325/400\n",
      "360/360 [==============================] - 0s 20us/step - loss: 0.0059 - mean_squared_error: 0.0059 - val_loss: 0.0305 - val_mean_squared_error: 0.0305\n",
      "Epoch 326/400\n",
      "360/360 [==============================] - 0s 20us/step - loss: 0.0059 - mean_squared_error: 0.0059 - val_loss: 0.0310 - val_mean_squared_error: 0.0310\n",
      "Epoch 327/400\n",
      "360/360 [==============================] - 0s 18us/step - loss: 0.0060 - mean_squared_error: 0.0060 - val_loss: 0.0317 - val_mean_squared_error: 0.0317\n",
      "Epoch 328/400\n",
      "360/360 [==============================] - 0s 20us/step - loss: 0.0059 - mean_squared_error: 0.0059 - val_loss: 0.0308 - val_mean_squared_error: 0.0308\n",
      "Epoch 329/400\n",
      "360/360 [==============================] - 0s 18us/step - loss: 0.0059 - mean_squared_error: 0.0059 - val_loss: 0.0314 - val_mean_squared_error: 0.0314\n",
      "Epoch 330/400\n",
      "360/360 [==============================] - 0s 18us/step - loss: 0.0059 - mean_squared_error: 0.0059 - val_loss: 0.0304 - val_mean_squared_error: 0.0304\n",
      "Epoch 331/400\n",
      "360/360 [==============================] - 0s 23us/step - loss: 0.0059 - mean_squared_error: 0.0059 - val_loss: 0.0305 - val_mean_squared_error: 0.0305\n",
      "Epoch 332/400\n",
      "360/360 [==============================] - 0s 21us/step - loss: 0.0058 - mean_squared_error: 0.0058 - val_loss: 0.0305 - val_mean_squared_error: 0.0305\n",
      "Epoch 333/400\n",
      "360/360 [==============================] - 0s 20us/step - loss: 0.0059 - mean_squared_error: 0.0059 - val_loss: 0.0304 - val_mean_squared_error: 0.0304\n",
      "Epoch 334/400\n",
      "360/360 [==============================] - 0s 18us/step - loss: 0.0058 - mean_squared_error: 0.0058 - val_loss: 0.0285 - val_mean_squared_error: 0.0285\n",
      "Epoch 335/400\n",
      "360/360 [==============================] - 0s 17us/step - loss: 0.0058 - mean_squared_error: 0.0058 - val_loss: 0.0288 - val_mean_squared_error: 0.0288\n",
      "Epoch 336/400\n",
      "360/360 [==============================] - 0s 23us/step - loss: 0.0059 - mean_squared_error: 0.0059 - val_loss: 0.0297 - val_mean_squared_error: 0.0297\n",
      "Epoch 337/400\n",
      "360/360 [==============================] - 0s 21us/step - loss: 0.0058 - mean_squared_error: 0.0058 - val_loss: 0.0301 - val_mean_squared_error: 0.0301\n",
      "Epoch 338/400\n",
      "360/360 [==============================] - 0s 15us/step - loss: 0.0058 - mean_squared_error: 0.0058 - val_loss: 0.0304 - val_mean_squared_error: 0.0304\n",
      "Epoch 339/400\n",
      "360/360 [==============================] - 0s 22us/step - loss: 0.0058 - mean_squared_error: 0.0058 - val_loss: 0.0297 - val_mean_squared_error: 0.0297\n",
      "Epoch 340/400\n",
      "360/360 [==============================] - 0s 22us/step - loss: 0.0058 - mean_squared_error: 0.0058 - val_loss: 0.0302 - val_mean_squared_error: 0.0302\n",
      "Epoch 341/400\n",
      "360/360 [==============================] - 0s 17us/step - loss: 0.0057 - mean_squared_error: 0.0057 - val_loss: 0.0266 - val_mean_squared_error: 0.0266\n",
      "Epoch 342/400\n",
      "360/360 [==============================] - 0s 23us/step - loss: 0.0058 - mean_squared_error: 0.0058 - val_loss: 0.0259 - val_mean_squared_error: 0.0259\n",
      "Epoch 343/400\n",
      "360/360 [==============================] - 0s 20us/step - loss: 0.0058 - mean_squared_error: 0.0058 - val_loss: 0.0290 - val_mean_squared_error: 0.0290\n",
      "Epoch 344/400\n",
      "360/360 [==============================] - 0s 15us/step - loss: 0.0058 - mean_squared_error: 0.0058 - val_loss: 0.0280 - val_mean_squared_error: 0.0280\n",
      "Epoch 345/400\n"
     ]
    },
    {
     "name": "stdout",
     "output_type": "stream",
     "text": [
      "360/360 [==============================] - 0s 18us/step - loss: 0.0056 - mean_squared_error: 0.0056 - val_loss: 0.0267 - val_mean_squared_error: 0.0267\n",
      "Epoch 346/400\n",
      "360/360 [==============================] - 0s 19us/step - loss: 0.0057 - mean_squared_error: 0.0057 - val_loss: 0.0274 - val_mean_squared_error: 0.0274\n",
      "Epoch 347/400\n",
      "360/360 [==============================] - 0s 22us/step - loss: 0.0057 - mean_squared_error: 0.0057 - val_loss: 0.0296 - val_mean_squared_error: 0.0296\n",
      "Epoch 348/400\n",
      "360/360 [==============================] - 0s 20us/step - loss: 0.0057 - mean_squared_error: 0.0057 - val_loss: 0.0276 - val_mean_squared_error: 0.0276\n",
      "Epoch 349/400\n",
      "360/360 [==============================] - 0s 27us/step - loss: 0.0056 - mean_squared_error: 0.0056 - val_loss: 0.0272 - val_mean_squared_error: 0.0272\n",
      "Epoch 350/400\n",
      "360/360 [==============================] - 0s 15us/step - loss: 0.0056 - mean_squared_error: 0.0056 - val_loss: 0.0282 - val_mean_squared_error: 0.0282\n",
      "Epoch 351/400\n",
      "360/360 [==============================] - 0s 20us/step - loss: 0.0056 - mean_squared_error: 0.0056 - val_loss: 0.0271 - val_mean_squared_error: 0.0271\n",
      "Epoch 352/400\n",
      "360/360 [==============================] - 0s 21us/step - loss: 0.0056 - mean_squared_error: 0.0056 - val_loss: 0.0265 - val_mean_squared_error: 0.0265\n",
      "Epoch 353/400\n",
      "360/360 [==============================] - 0s 19us/step - loss: 0.0056 - mean_squared_error: 0.0056 - val_loss: 0.0263 - val_mean_squared_error: 0.0263\n",
      "Epoch 354/400\n",
      "360/360 [==============================] - 0s 20us/step - loss: 0.0055 - mean_squared_error: 0.0055 - val_loss: 0.0275 - val_mean_squared_error: 0.0275\n",
      "Epoch 355/400\n",
      "360/360 [==============================] - 0s 20us/step - loss: 0.0055 - mean_squared_error: 0.0055 - val_loss: 0.0272 - val_mean_squared_error: 0.0272\n",
      "Epoch 356/400\n",
      "360/360 [==============================] - 0s 16us/step - loss: 0.0055 - mean_squared_error: 0.0055 - val_loss: 0.0260 - val_mean_squared_error: 0.0260\n",
      "Epoch 357/400\n",
      "360/360 [==============================] - 0s 20us/step - loss: 0.0056 - mean_squared_error: 0.0056 - val_loss: 0.0252 - val_mean_squared_error: 0.0252\n",
      "Epoch 358/400\n",
      "360/360 [==============================] - 0s 23us/step - loss: 0.0055 - mean_squared_error: 0.0055 - val_loss: 0.0273 - val_mean_squared_error: 0.0273\n",
      "Epoch 359/400\n",
      "360/360 [==============================] - 0s 22us/step - loss: 0.0056 - mean_squared_error: 0.0056 - val_loss: 0.0261 - val_mean_squared_error: 0.0261\n",
      "Epoch 360/400\n",
      "360/360 [==============================] - 0s 20us/step - loss: 0.0055 - mean_squared_error: 0.0055 - val_loss: 0.0253 - val_mean_squared_error: 0.0253\n",
      "Epoch 361/400\n",
      "360/360 [==============================] - 0s 15us/step - loss: 0.0055 - mean_squared_error: 0.0055 - val_loss: 0.0265 - val_mean_squared_error: 0.0265\n",
      "Epoch 362/400\n",
      "360/360 [==============================] - 0s 19us/step - loss: 0.0055 - mean_squared_error: 0.0055 - val_loss: 0.0266 - val_mean_squared_error: 0.0266\n",
      "Epoch 363/400\n",
      "360/360 [==============================] - 0s 17us/step - loss: 0.0055 - mean_squared_error: 0.0055 - val_loss: 0.0246 - val_mean_squared_error: 0.0246\n",
      "Epoch 364/400\n",
      "360/360 [==============================] - 0s 17us/step - loss: 0.0055 - mean_squared_error: 0.0055 - val_loss: 0.0244 - val_mean_squared_error: 0.0244\n",
      "Epoch 365/400\n",
      "360/360 [==============================] - 0s 15us/step - loss: 0.0054 - mean_squared_error: 0.0054 - val_loss: 0.0270 - val_mean_squared_error: 0.0270\n",
      "Epoch 366/400\n",
      "360/360 [==============================] - 0s 17us/step - loss: 0.0054 - mean_squared_error: 0.0054 - val_loss: 0.0262 - val_mean_squared_error: 0.0262\n",
      "Epoch 367/400\n",
      "360/360 [==============================] - 0s 21us/step - loss: 0.0054 - mean_squared_error: 0.0054 - val_loss: 0.0235 - val_mean_squared_error: 0.0235\n",
      "Epoch 368/400\n",
      "360/360 [==============================] - 0s 17us/step - loss: 0.0054 - mean_squared_error: 0.0054 - val_loss: 0.0241 - val_mean_squared_error: 0.0241\n",
      "Epoch 369/400\n",
      "360/360 [==============================] - 0s 15us/step - loss: 0.0054 - mean_squared_error: 0.0054 - val_loss: 0.0255 - val_mean_squared_error: 0.0255\n",
      "Epoch 370/400\n",
      "360/360 [==============================] - 0s 17us/step - loss: 0.0054 - mean_squared_error: 0.0054 - val_loss: 0.0241 - val_mean_squared_error: 0.0241\n",
      "Epoch 371/400\n",
      "360/360 [==============================] - 0s 16us/step - loss: 0.0054 - mean_squared_error: 0.0054 - val_loss: 0.0246 - val_mean_squared_error: 0.0246\n",
      "Epoch 372/400\n",
      "360/360 [==============================] - 0s 22us/step - loss: 0.0053 - mean_squared_error: 0.0053 - val_loss: 0.0248 - val_mean_squared_error: 0.0248\n",
      "Epoch 373/400\n",
      "360/360 [==============================] - 0s 19us/step - loss: 0.0053 - mean_squared_error: 0.0053 - val_loss: 0.0242 - val_mean_squared_error: 0.0242\n",
      "Epoch 374/400\n",
      "360/360 [==============================] - 0s 14us/step - loss: 0.0053 - mean_squared_error: 0.0053 - val_loss: 0.0239 - val_mean_squared_error: 0.0239\n",
      "Epoch 375/400\n",
      "360/360 [==============================] - 0s 16us/step - loss: 0.0053 - mean_squared_error: 0.0053 - val_loss: 0.0242 - val_mean_squared_error: 0.0242\n",
      "Epoch 376/400\n",
      "360/360 [==============================] - 0s 16us/step - loss: 0.0053 - mean_squared_error: 0.0053 - val_loss: 0.0240 - val_mean_squared_error: 0.0240\n",
      "Epoch 377/400\n",
      "360/360 [==============================] - 0s 19us/step - loss: 0.0053 - mean_squared_error: 0.0053 - val_loss: 0.0231 - val_mean_squared_error: 0.0231\n",
      "Epoch 378/400\n",
      "360/360 [==============================] - 0s 21us/step - loss: 0.0053 - mean_squared_error: 0.0053 - val_loss: 0.0238 - val_mean_squared_error: 0.0238\n",
      "Epoch 379/400\n",
      "360/360 [==============================] - 0s 15us/step - loss: 0.0053 - mean_squared_error: 0.0053 - val_loss: 0.0239 - val_mean_squared_error: 0.0239\n",
      "Epoch 380/400\n",
      "360/360 [==============================] - 0s 16us/step - loss: 0.0052 - mean_squared_error: 0.0052 - val_loss: 0.0241 - val_mean_squared_error: 0.0241\n",
      "Epoch 381/400\n",
      "360/360 [==============================] - 0s 16us/step - loss: 0.0053 - mean_squared_error: 0.0053 - val_loss: 0.0238 - val_mean_squared_error: 0.0238\n",
      "Epoch 382/400\n",
      "360/360 [==============================] - 0s 17us/step - loss: 0.0052 - mean_squared_error: 0.0052 - val_loss: 0.0228 - val_mean_squared_error: 0.0228\n",
      "Epoch 383/400\n",
      "360/360 [==============================] - 0s 17us/step - loss: 0.0052 - mean_squared_error: 0.0052 - val_loss: 0.0231 - val_mean_squared_error: 0.0231\n",
      "Epoch 384/400\n",
      "360/360 [==============================] - 0s 22us/step - loss: 0.0052 - mean_squared_error: 0.0052 - val_loss: 0.0228 - val_mean_squared_error: 0.0228\n",
      "Epoch 385/400\n",
      "360/360 [==============================] - 0s 18us/step - loss: 0.0052 - mean_squared_error: 0.0052 - val_loss: 0.0226 - val_mean_squared_error: 0.0226\n",
      "Epoch 386/400\n",
      "360/360 [==============================] - 0s 20us/step - loss: 0.0052 - mean_squared_error: 0.0052 - val_loss: 0.0232 - val_mean_squared_error: 0.0232\n",
      "Epoch 387/400\n",
      "360/360 [==============================] - 0s 19us/step - loss: 0.0052 - mean_squared_error: 0.0052 - val_loss: 0.0229 - val_mean_squared_error: 0.0229\n",
      "Epoch 388/400\n",
      "360/360 [==============================] - 0s 18us/step - loss: 0.0052 - mean_squared_error: 0.0052 - val_loss: 0.0231 - val_mean_squared_error: 0.0231\n",
      "Epoch 389/400\n",
      "360/360 [==============================] - 0s 19us/step - loss: 0.0052 - mean_squared_error: 0.0052 - val_loss: 0.0228 - val_mean_squared_error: 0.0228\n",
      "Epoch 390/400\n",
      "360/360 [==============================] - 0s 17us/step - loss: 0.0051 - mean_squared_error: 0.0051 - val_loss: 0.0229 - val_mean_squared_error: 0.0229\n",
      "Epoch 391/400\n",
      "360/360 [==============================] - 0s 17us/step - loss: 0.0052 - mean_squared_error: 0.0052 - val_loss: 0.0234 - val_mean_squared_error: 0.0234\n",
      "Epoch 392/400\n",
      "360/360 [==============================] - 0s 18us/step - loss: 0.0052 - mean_squared_error: 0.0052 - val_loss: 0.0228 - val_mean_squared_error: 0.0228\n",
      "Epoch 393/400\n",
      "360/360 [==============================] - 0s 16us/step - loss: 0.0051 - mean_squared_error: 0.0051 - val_loss: 0.0229 - val_mean_squared_error: 0.0229\n",
      "Epoch 394/400\n"
     ]
    },
    {
     "name": "stdout",
     "output_type": "stream",
     "text": [
      "360/360 [==============================] - 0s 21us/step - loss: 0.0051 - mean_squared_error: 0.0051 - val_loss: 0.0226 - val_mean_squared_error: 0.0226\n",
      "Epoch 395/400\n",
      "360/360 [==============================] - 0s 27us/step - loss: 0.0051 - mean_squared_error: 0.0051 - val_loss: 0.0217 - val_mean_squared_error: 0.0217\n",
      "Epoch 396/400\n",
      "360/360 [==============================] - 0s 17us/step - loss: 0.0051 - mean_squared_error: 0.0051 - val_loss: 0.0215 - val_mean_squared_error: 0.0215\n",
      "Epoch 397/400\n",
      "360/360 [==============================] - 0s 17us/step - loss: 0.0051 - mean_squared_error: 0.0051 - val_loss: 0.0227 - val_mean_squared_error: 0.0227\n",
      "Epoch 398/400\n",
      "360/360 [==============================] - 0s 22us/step - loss: 0.0051 - mean_squared_error: 0.0051 - val_loss: 0.0229 - val_mean_squared_error: 0.0229\n",
      "Epoch 399/400\n",
      "360/360 [==============================] - 0s 23us/step - loss: 0.0051 - mean_squared_error: 0.0051 - val_loss: 0.0218 - val_mean_squared_error: 0.0218\n",
      "Epoch 400/400\n",
      "360/360 [==============================] - 0s 24us/step - loss: 0.0052 - mean_squared_error: 0.0052 - val_loss: 0.0197 - val_mean_squared_error: 0.0197\n"
     ]
    },
    {
     "data": {
      "text/plain": [
       "<keras.callbacks.callbacks.History at 0x7f63a417d9b0>"
      ]
     },
     "execution_count": 116,
     "metadata": {},
     "output_type": "execute_result"
    },
    {
     "data": {
      "image/png": "[encoded data removed]",
      "text/plain": [
       "<Figure size 432x288 with 1 Axes>"
      ]
     },
     "metadata": {
      "needs_background": "light"
     },
     "output_type": "display_data"
    }
   ],
   "source": [
    "from sklearn.datasets.samples_generator import make_blobs\n",
    "from sklearn.preprocessing import MinMaxScaler\n",
    "import keras\n",
    "from keras.layers import Dense\n",
    "plt.scatter(X[:,0],X[:,1], c=y)\n",
    "\n",
    "scalar2 = MinMaxScaler()\n",
    "scalar2.fit(X)\n",
    "Xfit = scalar2.transform(X)\n",
    "scalar = MinMaxScaler()\n",
    "scalar.fit(y.reshape(-1,1))\n",
    "yfit = scalar.transform(y.reshape(-1,1)).reshape(-1)\n",
    "\n",
    "X = Xfit\n",
    "y = yfit\n",
    "\n",
    "# Definition of our model\n",
    "model = keras.Sequential() # as first layer in a sequential model:\n",
    "# let's define our first model (there is still room from creativity here)\n",
    "model.add( keras.layers.Dense( units=30, input_shape=(2,), activation=\"relu\" ) )\n",
    "#model.add( keras.layers.Dropout(rate=0.2),)\n",
    "model.add( keras.layers.Dense( units=15, input_shape=(30,), activation=\"relu\" ) )\n",
    "model.add( keras.layers.Dense( units=15, input_shape=(15,), activation=\"relu\" ) )\n",
    "model.add( keras.layers.Dense( units=1, input_shape=(15,), activation=\"linear\" ) )\n",
    "optimizer = keras.optimizers.Adam()#lr=1e-6) rmsprop\n",
    "model.compile(optimizer=optimizer, loss='mean_squared_error', metrics=['mean_squared_error'])\n",
    "model.fit(X, y, epochs=400, verbose=1, batch_size=200, validation_split = 0.1)"
   ]
  },
  {
   "cell_type": "code",
   "execution_count": 130,
   "metadata": {},
   "outputs": [
    {
     "data": {
      "text/plain": [
       "array([[  9.871253 ,   7.8420014,   2.3074515, ..., 892.0079   ,\n",
       "        908.71716  , 925.4266   ],\n",
       "       [ 46.982986 ,  41.119217 ,  40.412865 , ..., 838.5068   ,\n",
       "        855.21594  , 871.9253   ],\n",
       "       [ 66.54529  ,  69.25562  ,  77.649574 , ..., 781.5928   ,\n",
       "        799.0488   , 816.505    ],\n",
       "       ...,\n",
       "       [ 13.982078 ,   4.404346 ,  -5.173197 , ...,  78.780594 ,\n",
       "         76.146286 ,  73.51198  ],\n",
       "       [  7.8557634,  -1.7220799, -11.29963  , ...,  81.201515 ,\n",
       "         78.5672   ,  75.932915 ],\n",
       "       [  1.7293338,  -7.8483047, -17.42594  , ...,  83.622406 ,\n",
       "         80.98813  ,  78.35383  ]], dtype=float32)"
      ]
     },
     "execution_count": 130,
     "metadata": {},
     "output_type": "execute_result"
    }
   ],
   "source": [
    "scalar.inverse_transform(cost)"
   ]
  },
  {
   "cell_type": "code",
   "execution_count": 1,
   "metadata": {},
   "outputs": [
    {
     "ename": "NameError",
     "evalue": "name 'model' is not defined",
     "output_type": "error",
     "traceback": [
      "\u001b[0;31m---------------------------------------------------------------------------\u001b[0m",
      "\u001b[0;31mNameError\u001b[0m                                 Traceback (most recent call last)",
      "\u001b[0;32m<ipython-input-1-e0494cb359b7>\u001b[0m in \u001b[0;36m<module>\u001b[0;34m\u001b[0m\n\u001b[0;32m----> 1\u001b[0;31m \u001b[0mmodel\u001b[0m\u001b[0;34m.\u001b[0m\u001b[0mpredict\u001b[0m\u001b[0;34m(\u001b[0m\u001b[0mX\u001b[0m\u001b[0;34m)\u001b[0m\u001b[0;34m.\u001b[0m\u001b[0mreshape\u001b[0m\u001b[0;34m(\u001b[0m\u001b[0;34m-\u001b[0m\u001b[0;36m1\u001b[0m\u001b[0;34m)\u001b[0m\u001b[0;34m-\u001b[0m\u001b[0my\u001b[0m\u001b[0;34m\u001b[0m\u001b[0;34m\u001b[0m\u001b[0m\n\u001b[0m",
      "\u001b[0;31mNameError\u001b[0m: name 'model' is not defined"
     ]
    }
   ],
   "source": [
    "model.predict(X).reshape(-1)-y"
   ]
  },
  {
   "cell_type": "code",
   "execution_count": 611,
   "metadata": {},
   "outputs": [
    {
     "data": {
      "text/plain": [
       "array([[2.5982442]], dtype=float32)"
      ]
     },
     "execution_count": 611,
     "metadata": {},
     "output_type": "execute_result"
    }
   ],
   "source": [
    "model.predict(X[0:1])"
   ]
  },
  {
   "cell_type": "code",
   "execution_count": null,
   "metadata": {},
   "outputs": [],
   "source": [
    "#allX = np.array([np.arange(min(X[:,i]),max(X[:,i]), 1000) for i in range(len(X[0]))])"
   ]
  },
  {
   "cell_type": "code",
   "execution_count": null,
   "metadata": {},
   "outputs": [],
   "source": [
    "#cool = np.array(np.meshgrid(allX[0], allX[1])).transpose().reshape(-1, 2);"
   ]
  },
  {
   "cell_type": "code",
   "execution_count": null,
   "metadata": {},
   "outputs": [],
   "source": [
    "#yPred = reg.predict(cool)"
   ]
  },
  {
   "cell_type": "code",
   "execution_count": 118,
   "metadata": {},
   "outputs": [],
   "source": [
    "testX0 = np.linspace(min(X[:,0]), max(X[:,0]), 50)\n",
    "testX1 = np.linspace(min(X[:,1]), max(X[:,1]), 50)\n",
    "grid0, grid1 = np.meshgrid(testX0, testX1)\n",
    "cost = np.array([model.predict(np.array([grid0[i], grid1[i]]).transpose()).reshape(-1) for i in range(len(grid0))])"
   ]
  },
  {
   "cell_type": "code",
   "execution_count": 119,
   "metadata": {},
   "outputs": [],
   "source": [
    "#np.array([testX0, testX1]).transpose()\n",
    "reset = scalar2.inverse_transform(np.array([testX0, testX1]).transpose())\n",
    "testX00 = reset[:,0]\n",
    "testX01 = reset[:,1]"
   ]
  },
  {
   "cell_type": "code",
   "execution_count": 60,
   "metadata": {},
   "outputs": [
    {
     "data": {
      "image/png": "[encoded data removed]",
      "text/plain": [
       "<Figure size 432x288 with 2 Axes>"
      ]
     },
     "metadata": {
      "needs_background": "light"
     },
     "output_type": "display_data"
    }
   ],
   "source": [
    "plt.pcolormesh(grid0,grid1,cost, norm=colors.SymLogNorm(linthresh=10, linscale=1,\n",
    "                                              vmin=cost.min(), vmax=cost.max()))\n",
    "cbar = plt.colorbar()"
   ]
  },
  {
   "cell_type": "code",
   "execution_count": 131,
   "metadata": {},
   "outputs": [
    {
     "data": {
      "text/plain": [
       "[<matplotlib.lines.Line2D at 0x7f62fc651438>]"
      ]
     },
     "execution_count": 131,
     "metadata": {},
     "output_type": "execute_result"
    },
    {
     "data": {
      "image/png": "[encoded data removed]",
      "text/plain": [
       "<Figure size 432x288 with 1 Axes>"
      ]
     },
     "metadata": {
      "needs_background": "light"
     },
     "output_type": "display_data"
    }
   ],
   "source": [
    "ls = np.linspace(min(X[:,1]), max(X[:,1]), 1000)\n",
    "plt.plot(ls, model.predict(np.array([np.array(80000).repeat(len(ls)), ls]).transpose()).reshape(-1))"
   ]
  },
  {
   "cell_type": "code",
   "execution_count": 120,
   "metadata": {},
   "outputs": [
    {
     "data": {
      "text/plain": [
       "<matplotlib.colorbar.Colorbar at 0x7f62fc6d1eb8>"
      ]
     },
     "execution_count": 120,
     "metadata": {},
     "output_type": "execute_result"
    },
    {
     "data": {
      "image/png": "[encoded data removed]",
      "text/plain": [
       "<Figure size 432x288 with 2 Axes>"
      ]
     },
     "metadata": {
      "needs_background": "light"
     },
     "output_type": "display_data"
    }
   ],
   "source": [
    "plt.pcolormesh(grid0,grid1,cost, norm=colors.SymLogNorm(linthresh=10, linscale=1,\n",
    "                                              vmin=cost.min(), vmax=cost.max()))\n",
    "plt.scatter(X[:,0], X[:,1], c = y)\n",
    "plt.colorbar()"
   ]
  },
  {
   "cell_type": "code",
   "execution_count": 656,
   "metadata": {},
   "outputs": [
    {
     "ename": "ValueError",
     "evalue": "Error when checking input: expected dense_235_input to have shape (2,) but got array with shape (1,)",
     "output_type": "error",
     "traceback": [
      "\u001b[1;31m---------------------------------------------------------------------------\u001b[0m",
      "\u001b[1;31mValueError\u001b[0m                                Traceback (most recent call last)",
      "\u001b[1;32m<ipython-input-656-87fbbf67b5a2>\u001b[0m in \u001b[0;36m<module>\u001b[1;34m\u001b[0m\n\u001b[0;32m      1\u001b[0m \u001b[0mbiggest\u001b[0m \u001b[1;33m=\u001b[0m \u001b[0mimportant\u001b[0m\u001b[1;33m.\u001b[0m\u001b[0mloc\u001b[0m\u001b[1;33m[\u001b[0m\u001b[0mimportant\u001b[0m\u001b[1;33m.\u001b[0m\u001b[0miloc\u001b[0m\u001b[1;33m[\u001b[0m\u001b[1;33m:\u001b[0m\u001b[1;33m,\u001b[0m\u001b[1;36m2\u001b[0m\u001b[1;33m]\u001b[0m \u001b[1;33m>\u001b[0m \u001b[1;36m10\u001b[0m\u001b[1;33m]\u001b[0m\u001b[1;33m\u001b[0m\u001b[1;33m\u001b[0m\u001b[0m\n\u001b[0;32m      2\u001b[0m \u001b[0mnp\u001b[0m\u001b[1;33m.\u001b[0m\u001b[0marray\u001b[0m\u001b[1;33m(\u001b[0m\u001b[0mbiggest\u001b[0m\u001b[1;33m.\u001b[0m\u001b[0miloc\u001b[0m\u001b[1;33m[\u001b[0m\u001b[1;33m:\u001b[0m\u001b[1;33m,\u001b[0m\u001b[1;36m0\u001b[0m\u001b[1;33m]\u001b[0m\u001b[1;33m)\u001b[0m\u001b[1;33m[\u001b[0m\u001b[1;36m0\u001b[0m\u001b[1;33m]\u001b[0m\u001b[1;33m\u001b[0m\u001b[1;33m\u001b[0m\u001b[0m\n\u001b[1;32m----> 3\u001b[1;33m \u001b[0msvr\u001b[0m\u001b[1;33m.\u001b[0m\u001b[0mpredict\u001b[0m\u001b[1;33m(\u001b[0m\u001b[1;33m[\u001b[0m\u001b[1;33m[\u001b[0m\u001b[0mnp\u001b[0m\u001b[1;33m.\u001b[0m\u001b[0marray\u001b[0m\u001b[1;33m(\u001b[0m\u001b[0mbiggest\u001b[0m\u001b[1;33m.\u001b[0m\u001b[0miloc\u001b[0m\u001b[1;33m[\u001b[0m\u001b[1;33m:\u001b[0m\u001b[1;33m,\u001b[0m\u001b[1;36m0\u001b[0m\u001b[1;33m]\u001b[0m\u001b[1;33m)\u001b[0m\u001b[1;33m[\u001b[0m\u001b[1;36m0\u001b[0m\u001b[1;33m]\u001b[0m\u001b[1;33m,\u001b[0m \u001b[0mnp\u001b[0m\u001b[1;33m.\u001b[0m\u001b[0marray\u001b[0m\u001b[1;33m(\u001b[0m\u001b[0mbiggest\u001b[0m\u001b[1;33m.\u001b[0m\u001b[0miloc\u001b[0m\u001b[1;33m[\u001b[0m\u001b[1;33m:\u001b[0m\u001b[1;33m,\u001b[0m\u001b[1;36m1\u001b[0m\u001b[1;33m]\u001b[0m\u001b[1;33m)\u001b[0m\u001b[1;33m[\u001b[0m\u001b[1;36m0\u001b[0m\u001b[1;33m]\u001b[0m\u001b[1;33m]\u001b[0m\u001b[1;33m]\u001b[0m\u001b[1;33m)\u001b[0m\u001b[1;33m[\u001b[0m\u001b[1;36m0\u001b[0m\u001b[1;33m]\u001b[0m\u001b[1;33m\u001b[0m\u001b[1;33m\u001b[0m\u001b[0m\n\u001b[0m",
      "\u001b[1;32m<ipython-input-533-dabd597a2f85>\u001b[0m in \u001b[0;36m<lambda>\u001b[1;34m(xxx)\u001b[0m\n\u001b[0;32m      1\u001b[0m \u001b[0mmodel\u001b[0m\u001b[1;33m.\u001b[0m\u001b[0mpredict\u001b[0m\u001b[1;33m(\u001b[0m\u001b[0mXfit\u001b[0m\u001b[1;33m)\u001b[0m\u001b[1;33m.\u001b[0m\u001b[0mreshape\u001b[0m\u001b[1;33m(\u001b[0m\u001b[1;33m-\u001b[0m\u001b[1;36m1\u001b[0m\u001b[1;33m)\u001b[0m\u001b[1;33m-\u001b[0m\u001b[0my\u001b[0m\u001b[1;33m\u001b[0m\u001b[1;33m\u001b[0m\u001b[0m\n\u001b[1;32m----> 2\u001b[1;33m \u001b[0msvr\u001b[0m\u001b[1;33m.\u001b[0m\u001b[0mpredict\u001b[0m \u001b[1;33m=\u001b[0m \u001b[1;32mlambda\u001b[0m \u001b[0mxxx\u001b[0m\u001b[1;33m:\u001b[0m \u001b[0mmodel\u001b[0m\u001b[1;33m.\u001b[0m\u001b[0mpredict\u001b[0m\u001b[1;33m(\u001b[0m\u001b[0mxxx\u001b[0m\u001b[1;33m)\u001b[0m\u001b[1;33m.\u001b[0m\u001b[0mreshape\u001b[0m\u001b[1;33m(\u001b[0m\u001b[1;33m-\u001b[0m\u001b[1;36m1\u001b[0m\u001b[1;33m)\u001b[0m\u001b[1;33m\u001b[0m\u001b[1;33m\u001b[0m\u001b[0m\n\u001b[0m",
      "\u001b[1;32m~\\Anaconda3\\envs\\energyanalytics\\lib\\site-packages\\keras\\engine\\training.py\u001b[0m in \u001b[0;36mpredict\u001b[1;34m(self, x, batch_size, verbose, steps)\u001b[0m\n\u001b[0;32m   1147\u001b[0m                              'argument.')\n\u001b[0;32m   1148\u001b[0m         \u001b[1;31m# Validate user data.\u001b[0m\u001b[1;33m\u001b[0m\u001b[1;33m\u001b[0m\u001b[1;33m\u001b[0m\u001b[0m\n\u001b[1;32m-> 1149\u001b[1;33m         \u001b[0mx\u001b[0m\u001b[1;33m,\u001b[0m \u001b[0m_\u001b[0m\u001b[1;33m,\u001b[0m \u001b[0m_\u001b[0m \u001b[1;33m=\u001b[0m \u001b[0mself\u001b[0m\u001b[1;33m.\u001b[0m\u001b[0m_standardize_user_data\u001b[0m\u001b[1;33m(\u001b[0m\u001b[0mx\u001b[0m\u001b[1;33m)\u001b[0m\u001b[1;33m\u001b[0m\u001b[1;33m\u001b[0m\u001b[0m\n\u001b[0m\u001b[0;32m   1150\u001b[0m         \u001b[1;32mif\u001b[0m \u001b[0mself\u001b[0m\u001b[1;33m.\u001b[0m\u001b[0mstateful\u001b[0m\u001b[1;33m:\u001b[0m\u001b[1;33m\u001b[0m\u001b[1;33m\u001b[0m\u001b[0m\n\u001b[0;32m   1151\u001b[0m             \u001b[1;32mif\u001b[0m \u001b[0mx\u001b[0m\u001b[1;33m[\u001b[0m\u001b[1;36m0\u001b[0m\u001b[1;33m]\u001b[0m\u001b[1;33m.\u001b[0m\u001b[0mshape\u001b[0m\u001b[1;33m[\u001b[0m\u001b[1;36m0\u001b[0m\u001b[1;33m]\u001b[0m \u001b[1;33m>\u001b[0m \u001b[0mbatch_size\u001b[0m \u001b[1;32mand\u001b[0m \u001b[0mx\u001b[0m\u001b[1;33m[\u001b[0m\u001b[1;36m0\u001b[0m\u001b[1;33m]\u001b[0m\u001b[1;33m.\u001b[0m\u001b[0mshape\u001b[0m\u001b[1;33m[\u001b[0m\u001b[1;36m0\u001b[0m\u001b[1;33m]\u001b[0m \u001b[1;33m%\u001b[0m \u001b[0mbatch_size\u001b[0m \u001b[1;33m!=\u001b[0m \u001b[1;36m0\u001b[0m\u001b[1;33m:\u001b[0m\u001b[1;33m\u001b[0m\u001b[1;33m\u001b[0m\u001b[0m\n",
      "\u001b[1;32m~\\Anaconda3\\envs\\energyanalytics\\lib\\site-packages\\keras\\engine\\training.py\u001b[0m in \u001b[0;36m_standardize_user_data\u001b[1;34m(self, x, y, sample_weight, class_weight, check_array_lengths, batch_size)\u001b[0m\n\u001b[0;32m    749\u001b[0m             \u001b[0mfeed_input_shapes\u001b[0m\u001b[1;33m,\u001b[0m\u001b[1;33m\u001b[0m\u001b[1;33m\u001b[0m\u001b[0m\n\u001b[0;32m    750\u001b[0m             \u001b[0mcheck_batch_axis\u001b[0m\u001b[1;33m=\u001b[0m\u001b[1;32mFalse\u001b[0m\u001b[1;33m,\u001b[0m  \u001b[1;31m# Don't enforce the batch size.\u001b[0m\u001b[1;33m\u001b[0m\u001b[1;33m\u001b[0m\u001b[0m\n\u001b[1;32m--> 751\u001b[1;33m             exception_prefix='input')\n\u001b[0m\u001b[0;32m    752\u001b[0m \u001b[1;33m\u001b[0m\u001b[0m\n\u001b[0;32m    753\u001b[0m         \u001b[1;32mif\u001b[0m \u001b[0my\u001b[0m \u001b[1;32mis\u001b[0m \u001b[1;32mnot\u001b[0m \u001b[1;32mNone\u001b[0m\u001b[1;33m:\u001b[0m\u001b[1;33m\u001b[0m\u001b[1;33m\u001b[0m\u001b[0m\n",
      "\u001b[1;32m~\\Anaconda3\\envs\\energyanalytics\\lib\\site-packages\\keras\\engine\\training_utils.py\u001b[0m in \u001b[0;36mstandardize_input_data\u001b[1;34m(data, names, shapes, check_batch_axis, exception_prefix)\u001b[0m\n\u001b[0;32m    136\u001b[0m                             \u001b[1;34m': expected '\u001b[0m \u001b[1;33m+\u001b[0m \u001b[0mnames\u001b[0m\u001b[1;33m[\u001b[0m\u001b[0mi\u001b[0m\u001b[1;33m]\u001b[0m \u001b[1;33m+\u001b[0m \u001b[1;34m' to have shape '\u001b[0m \u001b[1;33m+\u001b[0m\u001b[1;33m\u001b[0m\u001b[1;33m\u001b[0m\u001b[0m\n\u001b[0;32m    137\u001b[0m                             \u001b[0mstr\u001b[0m\u001b[1;33m(\u001b[0m\u001b[0mshape\u001b[0m\u001b[1;33m)\u001b[0m \u001b[1;33m+\u001b[0m \u001b[1;34m' but got array with shape '\u001b[0m \u001b[1;33m+\u001b[0m\u001b[1;33m\u001b[0m\u001b[1;33m\u001b[0m\u001b[0m\n\u001b[1;32m--> 138\u001b[1;33m                             str(data_shape))\n\u001b[0m\u001b[0;32m    139\u001b[0m     \u001b[1;32mreturn\u001b[0m \u001b[0mdata\u001b[0m\u001b[1;33m\u001b[0m\u001b[1;33m\u001b[0m\u001b[0m\n\u001b[0;32m    140\u001b[0m \u001b[1;33m\u001b[0m\u001b[0m\n",
      "\u001b[1;31mValueError\u001b[0m: Error when checking input: expected dense_235_input to have shape (2,) but got array with shape (1,)"
     ]
    }
   ],
   "source": [
    "biggest = important.loc[important.iloc[:,2] > 10]\n",
    "np.array(biggest.iloc[:,0])[0]\n",
    "svr.predict([[np.array(biggest.iloc[:,0])[0], np.array(biggest.iloc[:,1])[0]]])[0]"
   ]
  },
  {
   "cell_type": "code",
   "execution_count": null,
   "metadata": {},
   "outputs": [],
   "source": [
    "import ipywidgets as widgets"
   ]
  },
  {
   "cell_type": "code",
   "execution_count": null,
   "metadata": {},
   "outputs": [],
   "source": [
    "oilsAll = [wellProd[\"oil \" + str(i+1)] for i in range(12)]"
   ]
  },
  {
   "cell_type": "code",
   "execution_count": null,
   "metadata": {},
   "outputs": [],
   "source": [
    "@widgets.interact(w=(0,11,1))\n",
    "def doItAll(w):\n",
    "    oils = oilsAll[w]\n",
    "    oilPerPoint = [oils[i] / len(eastings[i]) for i in range(len(oils))]\n",
    "    y = np.array(oilPerPoint).repeat(len(eastings))\n",
    "    plt.scatter(X[:,0], X[:,1], c = y)\n",
    "    plt.colorbar()"
   ]
  },
  {
   "cell_type": "code",
   "execution_count": null,
   "metadata": {},
   "outputs": [],
   "source": [
    "oilsT = [np.array(oilsAll)[:,i].sum() for i in range(len(oilsAll[0]))]\n",
    "oilPerPoint = [oilsT[i] / len(eastings[i]) for i in range(len(oilsT))]\n",
    "y = np.array(oilPerPoint).repeat(len(eastings))\n",
    "plt.scatter(X[:,0], X[:,1], c = y)\n",
    "plt.colorbar()"
   ]
  },
  {
   "cell_type": "code",
   "execution_count": null,
   "metadata": {},
   "outputs": [],
   "source": [
    "[(eastings[i][1], northings[i][1]) for i in range(len(eastings))];"
   ]
  }
 ],
 "metadata": {
  "kernelspec": {
   "display_name": "Python 3",
   "language": "python",
   "name": "python3"
  },
  "language_info": {
   "codemirror_mode": {
    "name": "ipython",
    "version": 3
   },
   "file_extension": ".py",
   "mimetype": "text/x-python",
   "name": "python",
   "nbconvert_exporter": "python",
   "pygments_lexer": "ipython3",
   "version": "3.6.7"
  }
 },
 "nbformat": 4,
 "nbformat_minor": 2
}
