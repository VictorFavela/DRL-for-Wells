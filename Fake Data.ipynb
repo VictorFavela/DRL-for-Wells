{
 "cells": [
  {
   "cell_type": "code",
   "execution_count": 1,
   "metadata": {},
   "outputs": [],
   "source": [
    "# Imports\n",
    "import numpy as np\n",
    "import pandas as pd\n",
    "import matplotlib.pyplot as plt\n",
    "from matplotlib import cm\n",
    "from matplotlib.colors import ListedColormap, LinearSegmentedColormap\n",
    "from sklearn.linear_model import LinearRegression\n",
    "import sys, os\n",
    "wells = []\n",
    "##global scope variable for the path to where all the well data is stored\n",
    "_PATH = \"Data/\""
   ]
  },
  {
   "cell_type": "code",
   "execution_count": 2,
   "metadata": {},
   "outputs": [],
   "source": [
    "class Well:\n",
    "    ##This is a well class that will hold all the properties of a well\n",
    "    ##and also will be able to do relevant calculations for a given well\n",
    "    \n",
    "    ##Once the data is set in the constructor, please do not change the values when they are accessed.\n",
    "    ##Apparently I can't prevent this in Python, but I can at least advise against it.\n",
    "    \n",
    "#     def __init__(self, easting, northing, porosity, permeability, PR, YM, wSaturation, oSaturation, thickness, proppant,\n",
    "#                  pumpRate, name, RF, Pa, FVF, oilByMonth, waterByMonth):\n",
    "    def __init__(self, easting, northing, porosity, permeability):\n",
    "        self.easting = easting ##easting, areas with higher\n",
    "        self.northing = northing ##northing, areas with higher\n",
    "        self.porosity = porosity ##porosity, definitely something there\n",
    "        self.permeability = permeability ##permeability,definitely something there\n",
    "#         self.PR = PR ##poissons's ratio, might be something. couple of outliers but general convergence\n",
    "#         self.YM = YM ##young's modulus, pyramid shape, probably something\n",
    "\n",
    "    def get_easting(self):\n",
    "        return self.easting\n",
    "    \n",
    "    def get_northing(self):\n",
    "        return self.northing\n",
    "    \n",
    "    def get_porosity(self):\n",
    "        return self.porosity\n",
    "    \n",
    "    def get_permeability(self):\n",
    "        return self.permeability"
   ]
  },
  {
   "cell_type": "code",
   "execution_count": 3,
   "metadata": {},
   "outputs": [],
   "source": [
    "data_df = pd.read_csv(r'Data/Brisket 1-44H.csv')"
   ]
  },
  {
   "cell_type": "code",
   "execution_count": 4,
   "metadata": {},
   "outputs": [
    {
     "data": {
      "text/html": [
       "<div>\n",
       "<style scoped>\n",
       "    .dataframe tbody tr th:only-of-type {\n",
       "        vertical-align: middle;\n",
       "    }\n",
       "\n",
       "    .dataframe tbody tr th {\n",
       "        vertical-align: top;\n",
       "    }\n",
       "\n",
       "    .dataframe thead th {\n",
       "        text-align: right;\n",
       "    }\n",
       "</style>\n",
       "<table border=\"1\" class=\"dataframe\">\n",
       "  <thead>\n",
       "    <tr style=\"text-align: right;\">\n",
       "      <th></th>\n",
       "      <th>easting</th>\n",
       "      <th>northing</th>\n",
       "      <th>porosity</th>\n",
       "      <th>permeability</th>\n",
       "      <th>Poisson's ratio</th>\n",
       "      <th>Young's Modulus</th>\n",
       "      <th>water saturation</th>\n",
       "      <th>oil saturation</th>\n",
       "      <th>thickness (ft)</th>\n",
       "      <th>proppant weight (lbs)</th>\n",
       "      <th>pump rate (cubic feet/min)</th>\n",
       "    </tr>\n",
       "  </thead>\n",
       "  <tbody>\n",
       "    <tr>\n",
       "      <th>0</th>\n",
       "      <td>1900.0</td>\n",
       "      <td>3900.0</td>\n",
       "      <td>0.06</td>\n",
       "      <td>0.014</td>\n",
       "      <td>0.367</td>\n",
       "      <td>3738904.716</td>\n",
       "      <td>0.218974</td>\n",
       "      <td>0.781026</td>\n",
       "      <td>5.0</td>\n",
       "      <td>NaN</td>\n",
       "      <td>NaN</td>\n",
       "    </tr>\n",
       "    <tr>\n",
       "      <th>1</th>\n",
       "      <td>1985.0</td>\n",
       "      <td>3900.0</td>\n",
       "      <td>0.05</td>\n",
       "      <td>0.009</td>\n",
       "      <td>0.367</td>\n",
       "      <td>3758088.084</td>\n",
       "      <td>0.219055</td>\n",
       "      <td>0.780945</td>\n",
       "      <td>5.0</td>\n",
       "      <td>NaN</td>\n",
       "      <td>NaN</td>\n",
       "    </tr>\n",
       "    <tr>\n",
       "      <th>2</th>\n",
       "      <td>2070.0</td>\n",
       "      <td>3900.0</td>\n",
       "      <td>0.05</td>\n",
       "      <td>0.011</td>\n",
       "      <td>0.367</td>\n",
       "      <td>3777264.393</td>\n",
       "      <td>0.219136</td>\n",
       "      <td>0.780864</td>\n",
       "      <td>5.0</td>\n",
       "      <td>NaN</td>\n",
       "      <td>NaN</td>\n",
       "    </tr>\n",
       "    <tr>\n",
       "      <th>3</th>\n",
       "      <td>2156.0</td>\n",
       "      <td>3900.0</td>\n",
       "      <td>0.07</td>\n",
       "      <td>0.014</td>\n",
       "      <td>0.367</td>\n",
       "      <td>3796434.186</td>\n",
       "      <td>0.219217</td>\n",
       "      <td>0.780783</td>\n",
       "      <td>5.0</td>\n",
       "      <td>NaN</td>\n",
       "      <td>NaN</td>\n",
       "    </tr>\n",
       "    <tr>\n",
       "      <th>4</th>\n",
       "      <td>2241.0</td>\n",
       "      <td>3900.0</td>\n",
       "      <td>0.07</td>\n",
       "      <td>0.014</td>\n",
       "      <td>0.367</td>\n",
       "      <td>3796434.186</td>\n",
       "      <td>0.219217</td>\n",
       "      <td>0.780783</td>\n",
       "      <td>5.0</td>\n",
       "      <td>NaN</td>\n",
       "      <td>NaN</td>\n",
       "    </tr>\n",
       "  </tbody>\n",
       "</table>\n",
       "</div>"
      ],
      "text/plain": [
       "   easting  northing  porosity  permeability  Poisson's ratio  \\\n",
       "0   1900.0    3900.0      0.06         0.014            0.367   \n",
       "1   1985.0    3900.0      0.05         0.009            0.367   \n",
       "2   2070.0    3900.0      0.05         0.011            0.367   \n",
       "3   2156.0    3900.0      0.07         0.014            0.367   \n",
       "4   2241.0    3900.0      0.07         0.014            0.367   \n",
       "\n",
       "   Young's Modulus  water saturation  oil saturation  thickness (ft)  \\\n",
       "0      3738904.716          0.218974        0.781026             5.0   \n",
       "1      3758088.084          0.219055        0.780945             5.0   \n",
       "2      3777264.393          0.219136        0.780864             5.0   \n",
       "3      3796434.186          0.219217        0.780783             5.0   \n",
       "4      3796434.186          0.219217        0.780783             5.0   \n",
       "\n",
       "   proppant weight (lbs)  pump rate (cubic feet/min)  \n",
       "0                    NaN                         NaN  \n",
       "1                    NaN                         NaN  \n",
       "2                    NaN                         NaN  \n",
       "3                    NaN                         NaN  \n",
       "4                    NaN                         NaN  "
      ]
     },
     "execution_count": 4,
     "metadata": {},
     "output_type": "execute_result"
    }
   ],
   "source": [
    "data_df.head()"
   ]
  },
  {
   "cell_type": "code",
   "execution_count": null,
   "metadata": {},
   "outputs": [],
   "source": []
  },
  {
   "cell_type": "code",
   "execution_count": null,
   "metadata": {},
   "outputs": [],
   "source": []
  },
  {
   "cell_type": "code",
   "execution_count": null,
   "metadata": {},
   "outputs": [],
   "source": []
  },
  {
   "cell_type": "code",
   "execution_count": 5,
   "metadata": {},
   "outputs": [
    {
     "data": {
      "text/plain": [
       "['Data\\\\well production.csv']"
      ]
     },
     "execution_count": 5,
     "metadata": {},
     "output_type": "execute_result"
    }
   ],
   "source": [
    "import glob\n",
    "wellList=glob.glob(\"Data/*\")\n",
    "wellList[100:101]"
   ]
  },
  {
   "cell_type": "code",
   "execution_count": 6,
   "metadata": {},
   "outputs": [],
   "source": [
    "def createWells():\n",
    "    for i in range (len(wellList)-1):\n",
    "        wellProduction = pd.read_csv(wellList[i])\n",
    "        \n",
    "        for j in range(100):\n",
    "        ##for every well\n",
    "            ##get all the data from the well production csv\n",
    "            easting = wellProduction.at[j, \"easting\"]\n",
    "            northing = wellProduction.at[j, \"northing\"]\n",
    "            porosity = wellProduction.at[j, \"porosity\"]\n",
    "            permeability = wellProduction.at[j, \"permeability\"]\n",
    "#             PR = wellProduction.iloc[i, 4:16] ##oil per month\n",
    "#             YM = wellProduction.iloc[i, 16:28] ##water per month\n",
    "            ##now that we have the name of the well, we can use that to access its\n",
    "            ##own csv file and get that data\n",
    "#             wellDF = pd.read_csv(_PATH + name + \".csv\")\n",
    "#             e = wellDF[\"easting\"]\n",
    "#             n = wellDF[\"northing\"]\n",
    "#             p = wellDF[\"porosity\"]\n",
    "#             perm = wellDF[\"permeability\"]\n",
    "#             pr = wellDF[\"Poisson's ratio\"]\n",
    "#             ym = wellDF[\"Young's Modulus\"]\n",
    "#             ws = wellDF[\"water saturation\"]\n",
    "#             os = wellDF[\"oil saturation\"]\n",
    "#             thick = wellDF[\"thickness (ft)\"]\n",
    "#             prop = wellDF[\"proppant weight (lbs)\"]\n",
    "#             pump = wellDF[\"pump rate (cubic feet/min)\"]\n",
    "            ##create a new well\n",
    "#             temp = Well(e, n, p, perm, pr, ym, ws, os, thick, prop, pump, name, RF, ap, FVF, oil, water)\n",
    "            temp = Well(easting, northing, porosity, permeability)\n",
    "            ##append the new well to the list\n",
    "            wells.append(temp)"
   ]
  },
  {
   "cell_type": "code",
   "execution_count": 7,
   "metadata": {},
   "outputs": [],
   "source": [
    "createWells()"
   ]
  },
  {
   "cell_type": "code",
   "execution_count": 8,
   "metadata": {},
   "outputs": [
    {
     "data": {
      "text/plain": [
       "80100.0"
      ]
     },
     "execution_count": 8,
     "metadata": {},
     "output_type": "execute_result"
    }
   ],
   "source": [
    "wells[200].get_easting()"
   ]
  },
  {
   "cell_type": "code",
   "execution_count": 9,
   "metadata": {},
   "outputs": [
    {
     "data": {
      "text/plain": [
       "101"
      ]
     },
     "execution_count": 9,
     "metadata": {},
     "output_type": "execute_result"
    }
   ],
   "source": [
    "len(wellList)"
   ]
  },
  {
   "cell_type": "code",
   "execution_count": 10,
   "metadata": {},
   "outputs": [
    {
     "data": {
      "image/png": "[encoded data removed]",
      "text/plain": [
       "<Figure size 600x400 with 2 Axes>"
      ]
     },
     "metadata": {
      "needs_background": "light"
     },
     "output_type": "display_data"
    }
   ],
   "source": [
    "bottom = cm.get_cmap('Oranges', 128)\n",
    "newcolors = np.vstack((bottom(np.linspace(0, 1, 128))))[32:127]\n",
    "newcmp = ListedColormap(newcolors, name='DarkerOrange')\n",
    "\n",
    "def makeGraph(xProp, xIsMethod, yProp, yIsMethod, xLabel, yLabel, zProp=-1, zIsMethod=-1, zRepeat=1, zLabel=\"\"):\n",
    "    #Graph anything\n",
    "    xCoords = []\n",
    "    yCoords = []\n",
    "    zCoords = []\n",
    "    for well in wells:\n",
    "        xAttr = getattr(well, xProp)\n",
    "        yAttr = getattr(well, yProp)\n",
    "        zAttr = getattr(well, zProp) if zProp is not -1 else -1\n",
    "        xCoords.append(xAttr() if xIsMethod else xAttr)\n",
    "        yCoords.append(yAttr() if yIsMethod else yAttr)\n",
    "        zCoords.append(zAttr() if zIsMethod else zAttr) if zAttr is not -1 else -1\n",
    "    xCoords = np.array(xCoords).reshape(-1)\n",
    "    yCoords = np.array(yCoords).reshape(-1)\n",
    "    zCoords = np.array(zCoords).repeat(zRepeat).reshape(-1)\n",
    "    plt.figure(dpi=100)\n",
    "    if zAttr is -1:\n",
    "        plt.scatter(xCoords, yCoords, s = 4)\n",
    "    else:\n",
    "        plt.scatter(xCoords, yCoords, s = 4, c=zCoords, cmap=newcmp)\n",
    "        plt.colorbar().set_label(zLabel)\n",
    "    plt.xlabel(xLabel)\n",
    "    plt.ylabel(yLabel)\n",
    "makeGraph(\"easting\", False, \"northing\", False, \"Easting\", \"Northing\", zProp=\"porosity\", zIsMethod=False, zLabel=\"porosity\")"
   ]
  },
  {
   "cell_type": "code",
   "execution_count": 11,
   "metadata": {},
   "outputs": [
    {
     "ename": "SyntaxError",
     "evalue": "invalid syntax (<ipython-input-11-761de787d02d>, line 13)",
     "output_type": "error",
     "traceback": [
      "\u001b[1;36m  File \u001b[1;32m\"<ipython-input-11-761de787d02d>\"\u001b[1;36m, line \u001b[1;32m13\u001b[0m\n\u001b[1;33m    int xVal=np.interp(x*10000,eastings,porosity)\u001b[0m\n\u001b[1;37m           ^\u001b[0m\n\u001b[1;31mSyntaxError\u001b[0m\u001b[1;31m:\u001b[0m invalid syntax\n"
     ]
    }
   ],
   "source": [
    "# xPos, yPos, zPos = 20, 20, 20;\n",
    "# Matrix = [[[0 for x in range(xPos)] for y in range(xPos)] for z in range(zPos)]\n",
    "# for x in range(xPos):\n",
    "#     for y in range(yPos):\n",
    "#         for z in range(zPos):\n",
    "#             Matrix[x][y][z]=2\n",
    "\n",
    "# print(Matrix[2][2][3])\n",
    "xPos, yPos, zPos = 10, 10, 10;\n",
    "Matrix = [[[0 for x in range(xPos)] for y in range(xPos)] for z in range(zPos)]\n",
    "for x in range(xPos):\n",
    "    for y in range(yPos):\n",
    "            int xVal=np.interp(x*10000,eastings,porosity)\n",
    "            int xVal=np.interp(y*10000,eastings,porosity)\n",
    "for x in range(xPos):\n",
    "    for y in range(yPos):\n",
    "        print(Matrix[x][y])"
   ]
  },
  {
   "cell_type": "code",
   "execution_count": null,
   "metadata": {},
   "outputs": [],
   "source": [
    "eastings=[]\n",
    "for i in range(len(wells)):\n",
    "    eastings.append(wells[i].get_easting())\n",
    "porosity=[]\n",
    "for i in range(len(wells)):\n",
    "    porosity.append(wells[i].get_porosity())\n",
    "\n",
    "# x.sort()\n",
    "# northings.sort()\n",
    "print(porosity[200:210])\n",
    "print(type(eastings))\n",
    "interpolatedValues=[]\n",
    "np.interp(12,eastings,porosity)"
   ]
  },
  {
   "cell_type": "code",
   "execution_count": null,
   "metadata": {},
   "outputs": [],
   "source": [
    "res = {} \n",
    "for key in eastings: \n",
    "    for value in porosity: \n",
    "        res[key] = value \n",
    "        porosity.remove(value) \n",
    "        break  \n",
    "print(res)\n",
    "# print (\"Resultant dictionary is : \" +  str(res)) "
   ]
  },
  {
   "cell_type": "code",
   "execution_count": null,
   "metadata": {},
   "outputs": [],
   "source": [
    "import collections\n",
    "sorted_res = collections.OrderedDict(sorted(res.items()))\n",
    "print(\"Sorted Keys\")\n",
    "for k, v in sorted_res.items(): print(k, v)"
   ]
  },
  {
   "cell_type": "code",
   "execution_count": null,
   "metadata": {},
   "outputs": [],
   "source": [
    "\n",
    "x=np.array(sorted_res.keys())\n",
    "# y =np.array(sorted_res.values())\n",
    "# print(len(x))\n",
    "# print(len(y))\n",
    "print(x)\n",
    "# print(type(x))"
   ]
  },
  {
   "cell_type": "code",
   "execution_count": null,
   "metadata": {},
   "outputs": [],
   "source": [
    "from scipy.interpolate import interp1d"
   ]
  },
  {
   "cell_type": "code",
   "execution_count": null,
   "metadata": {},
   "outputs": [],
   "source": [
    "import matplotlib.pyplot as plt\n",
    "from scipy import interpolate\n",
    "# x = np.arange(0, 10)\n",
    "# y = np.exp(-x/3.0)\n",
    "x=sorted_res.keys()\n",
    "y = sorted_res.values()\n",
    "f = interpolate.interp1d(x, y)\n",
    "print(y)\n",
    "xnew = np.arange(0, 10)\n",
    "ynew = f(xnew)   # use interpolation function returned by `interp1d`\n",
    "# plt.plot(x, y, 'o', x, f(x))\n",
    "plt.plot(x, y, 'o', xnew, ynew, '-')\n",
    "plt.show()"
   ]
  },
  {
   "cell_type": "code",
   "execution_count": null,
   "metadata": {},
   "outputs": [],
   "source": [
    "# x = np.linspace(0, 10, num=11, endpoint=True)\n",
    "x =np.array(list(sorted_res.keys()))\n",
    "y = np.array(list(sorted_res.values()))\n",
    "f = interp1d(x, y)\n",
    "f2 = interp1d(x, y, kind='cubic')"
   ]
  },
  {
   "cell_type": "code",
   "execution_count": null,
   "metadata": {},
   "outputs": [],
   "source": [
    "xnew = np.linspace(0, 10, num=41, endpoint=True)\n",
    "import matplotlib.pyplot as plt\n",
    "plt.plot(x, y, 'o', xnew, f(xnew), '-', xnew, f2(xnew), '--')\n",
    "plt.legend(['data', 'linear', 'cubic'], loc='best')\n",
    "plt.show()"
   ]
  },
  {
   "cell_type": "code",
   "execution_count": null,
   "metadata": {},
   "outputs": [],
   "source": [
    "z=[]\n",
    "z.append(wells[0].get_easting())\n",
    "print(z)"
   ]
  },
  {
   "cell_type": "code",
   "execution_count": null,
   "metadata": {},
   "outputs": [],
   "source": [
    "import numpy as np\n",
    "from scipy import ndimage\n",
    "import matplotlib.pyplot as plt\n",
    "\n",
    "# Note that the output interpolated coords will be the same dtype as your input\n",
    "# data.  If we have an array of ints, and we want floating point precision in\n",
    "# the output interpolated points, we need to cast the array as floats\n",
    "###DOMAIN SPACE\n",
    "\n",
    "data = np.arange(100).reshape((10,10)).astype(np.float)\n",
    "print(data)\n",
    "\n",
    "##SPARSE DATA GIVEN DATA \n",
    "# I'm writing these as row, column pairs for clarity...\n",
    "coords = np.array([[1.2, 3.5], [6.7, 2.5], [7.9, 3.5], [3.5, 3.5]])\n",
    "# However, map_coordinates expects the transpose of this\n",
    "coords = coords.T\n",
    "print(coords)\n",
    "# The \"mode\" kwarg here just controls how the boundaries are treated\n",
    "# mode='nearest' is _not_ nearest neighbor interpolation, it just uses the\n",
    "# value of the nearest cell if the point lies outside the grid.  The default is\n",
    "# to treat the values outside the grid as zero, which can cause some edge\n",
    "# effects if you're interpolating points near the edge\n",
    "# The \"order\" kwarg controls the order of the splines used. The default is \n",
    "# cubic splines, order=3\n",
    "zi = ndimage.map_coordinates(data, coords, order=3, mode='nearest')\n",
    "\n",
    "row, column = coords\n",
    "nrows, ncols = data.shape\n",
    "im = plt.imshow(data, interpolation='nearest', extent=[0, ncols, nrows, 0])\n",
    "plt.colorbar(im)\n",
    "plt.scatter(column, row, c=zi, vmin=data.min(), vmax=data.max())\n",
    "for r, c, z in zip(row, column, zi):\n",
    "    plt.annotate('%0.3f' % z, (c,r), xytext=(-10,10), textcoords='offset points',\n",
    "            arrowprops=dict(arrowstyle='->'), ha='right')\n",
    "plt.show()"
   ]
  },
  {
   "cell_type": "code",
   "execution_count": null,
   "metadata": {},
   "outputs": [],
   "source": [
    "xCoords \n",
    "yCoords \n",
    "zCoords "
   ]
  },
  {
   "cell_type": "code",
   "execution_count": null,
   "metadata": {},
   "outputs": [],
   "source": []
  }
 ],
 "metadata": {
  "kernelspec": {
   "display_name": "Python 3",
   "language": "python",
   "name": "python3"
  },
  "language_info": {
   "codemirror_mode": {
    "name": "ipython",
    "version": 3
   },
   "file_extension": ".py",
   "mimetype": "text/x-python",
   "name": "python",
   "nbconvert_exporter": "python",
   "pygments_lexer": "ipython3",
   "version": "3.7.3"
  }
 },
 "nbformat": 4,
 "nbformat_minor": 2
}
