{
 "cells": [
  {
   "cell_type": "code",
   "execution_count": 31,
   "metadata": {},
   "outputs": [],
   "source": [
    "# Imports\n",
    "import numpy as np\n",
    "import pandas as pd\n",
    "import matplotlib.pyplot as plt\n",
    "from matplotlib import cm\n",
    "from matplotlib.colors import ListedColormap, LinearSegmentedColormap\n",
    "from sklearn.linear_model import LinearRegression\n",
    "from sklearn.preprocessing import MinMaxScaler\n",
    "import keras\n",
    "from keras.layers import Dense\n",
    "import matplotlib.colors as colors\n",
    "wells = []\n",
    "##global scope variable for the path to where all the well data is stored\n",
    "_PATH = \"Data/\""
   ]
  },
  {
   "cell_type": "markdown",
   "metadata": {},
   "source": [
    "# <span style=\"color:blue\">This is a well class that will hold all the properties of a well and also will be able to perform relevant calculations for a given well</span>"
   ]
  },
  {
   "cell_type": "code",
   "execution_count": 32,
   "metadata": {},
   "outputs": [],
   "source": [
    "class Well:\n",
    "    ##This is a well class that will hold all the properties of a well\n",
    "    ##and also will be able to do relevant calculations for a given well\n",
    "    \n",
    "    ##Once the data is set in the constructor, please do not change the values when they are accessed.\n",
    "    ##Apparently I can't prevent this in Python, but I can at least advise against it.\n",
    "    \n",
    "    def __init__(self, easting, northing, porosity, permeability, PR, YM, wSaturation, oSaturation, thickness, proppant,\n",
    "                 pumpRate, name, RF, Pa, FVF, oilByMonth, waterByMonth):\n",
    "        self.easting = easting ##easting, areas with higher\n",
    "        self.northing = northing ##northing, areas with higher\n",
    "        self.porosity = porosity ##porosity, definitely something there\n",
    "        self.permeability = permeability ##permeability,definitely something there\n",
    "        self.PR = PR ##poissons's ratio, might be something. couple of outliers but general convergence\n",
    "        self.YM = YM ##young's modulus, pyramid shape, probably something\n",
    "        self.wSaturation = wSaturation ##water saturation, no correlation to production\n",
    "        self.oSaturation = oSaturation ##oil saturation, no correlation to production\n",
    "        self.thickness = thickness ##thickness, no correlation to production\n",
    "        self.proppant = proppant ##proppant weight, maybe a correlation\n",
    "        self.pumpRate = pumpRate ##pumpRate, probably a correlation\n",
    "        self.name = name ##name\n",
    "        self.RF = RF ##recovery factor, maybe something\n",
    "        self.Pa = Pa ##average pressure, probably something\n",
    "        self.FVF = FVF ##formation volume factor\n",
    "        self.oilByMonth = oilByMonth ##oil produced in each month\n",
    "        self.waterByMonth = waterByMonth ##water produced in each month\n",
    "    \n",
    "    ##returns the length of the well\n",
    "    def getWellLength(self):\n",
    "        return self.easting.max()-self.easting.min()\n",
    "    \n",
    "    #returns the total oil produced by the well\n",
    "    def getTotalProduction(self):\n",
    "        return self.oilByMonth.sum()\n",
    "    \n",
    "    ##returns the oil in place for this given well\n",
    "    def getOilInPlace(self):\n",
    "        return ((7758 * 360 * self.thickness.mean() * self.porosity.mean() * (1 - self.wSaturation.mean())) / self.FVF)\n",
    "    \n",
    "    ##returns the recoverable reserves of this well\n",
    "    def getRecoverableReserves(self):\n",
    "        return (self.getOilInPlace() * self.RF)\n",
    "    \n",
    "    ##Returns the production rate\n",
    "    def InitialProduction(self):\n",
    "        return (self.oilByMonth[0] * (math.exp((-1 * ((self.oilByMonth[11] - self.oilByMonth[0]) / 12) * time))))\n",
    "        ##need to figure out how to plug in time (otherwise it will always equal first month production). also could be used\n",
    "        ##to find the decline over time (where time is difference in production)\n",
    "    \n",
    "    ##Returns the economic limit of production\n",
    "    def economicLimitROP(self):\n",
    "        sumOilProduction = 0 \n",
    "        for i in range(12):\n",
    "            oil = getOilAtMonth(self, i)\n",
    "            water = getWaterAtMonth(self, i)\n",
    "            sumOilProduction += oil\n",
    "            if(oil < water):\n",
    "                return sumOilProduction\n",
    "    \n",
    "    ##Returns time in years\n",
    "    def LifeOfReservoir(self):\n",
    "        return ((1 / ((self.oilByMonth[11] - self.oilByMonth[0]) / 12)) * math.log((self.oilbyMonth[0]) / economicLimitROP(self)))\n",
    "    \n",
    "    ##Returns cumulative production in bbl\n",
    "    def CumulativeProduction(self):\n",
    "        return ((self.oilbyMonth[0] / declineRate) * math.log(self.oilbyMonth[0] / self.oilbyMonth[11]))\n",
    "    \n",
    "    ##this is the kind of functioning as a toString right now, almost no reason for it\n",
    "    def getName(self):\n",
    "        return self.name\n",
    "    \n",
    "    ##method to return oil produced in a given month\n",
    "    def getOilAtMonth(self, n):\n",
    "        if n > 12 or n < 1:\n",
    "            ##bad\n",
    "            return -1\n",
    "        else:\n",
    "            return self.oilByMonth[n]\n",
    "    \n",
    "    ##method to return water produced in a given month\n",
    "    def getOilAtMonth(self, n):\n",
    "        if n > 12 or n < 1:\n",
    "            ##bad\n",
    "            return -1\n",
    "        else:\n",
    "            return self.waterByMonth[n]\n",
    "    \n",
    "    ##method to display data for this well\n",
    "    ##depth will be for getiing data at a given depth in a well. Not sure if or when I should implement this\n",
    "    def displayData(self, depth = 0):\n",
    "        if depth == 0:\n",
    "            data = pd.read_csv(_PATH + self.name + \".csv\")\n",
    "        else:\n",
    "            data = pd.read_csv(_PATH + self.name + \".csv\")\n",
    "            \n",
    "        print(\"Displaying data for: \" + self.name)\n",
    "        print(data)\n",
    "    \n",
    "    ##Returns the number of frac stages for a well\n",
    "    def getFracStages(self):\n",
    "        count = 0\n",
    "        for rate in self.pumpRate:\n",
    "            if (pd.notnull(rate)):\n",
    "                count+=1\n",
    "        return count\n",
    "    \n",
    "    ##Returns the mean pump rate of a well\n",
    "    def getAvgPumpRate(self):\n",
    "        return self.pumpRate.mean(skipna = True)\n",
    "    \n",
    "    ##Returns the mean amount of proppant used in a well\n",
    "    def getAvgProppant(self):\n",
    "        return self.proppant.mean(skipna = True)\n",
    "    \n",
    "    ##Returns the mean easting coordinate value of a well\n",
    "    def eastingAvg(self):\n",
    "        return np.array(self.easting).mean()\n",
    "    \n",
    "    ##Returns the mean northing coordinate value of a well\n",
    "    def northingAvg(self):\n",
    "        return np.array(self.northing).mean()\n",
    "    \n",
    "    ##Returns the mean porosity value of a well\n",
    "    def porosityAvg(self):\n",
    "        return np.array(self.porosity).mean()\n",
    "    \n",
    "    ##Returns the mean permeability value of a well\n",
    "    def permeabilityAvg(self):\n",
    "        return np.array(self.permeability).mean()\n",
    "\n",
    "    ##method to take the data given, create a well object and store it in wells\n",
    "    def createWells():\n",
    "        wellProduction = pd.read_csv(_PATH + \"well production.csv\")\n",
    "        for i in range(100):\n",
    "        ##for every well\n",
    "            ##get all the data from the well production csv\n",
    "            name = wellProduction.at[i, \"well name\"]\n",
    "            ap = wellProduction.at[i, \"average pressure (Pa)\"]\n",
    "            RF = wellProduction.at[i, \"recovery factor\"]\n",
    "            FVF = wellProduction.at[i, \"formation volume factor\"]\n",
    "            oil = wellProduction.iloc[i, 4:16] ##oil per month\n",
    "            water = wellProduction.iloc[i, 16:28] ##water per month\n",
    "            ##now that we have the name of the well, we can use that to access its\n",
    "            ##own csv file and get that data\n",
    "            wellDF = pd.read_csv(_PATH + name + \".csv\")\n",
    "            e = wellDF[\"easting\"]\n",
    "            n = wellDF[\"northing\"]\n",
    "            p = wellDF[\"porosity\"]\n",
    "            perm = wellDF[\"permeability\"]\n",
    "            pr = wellDF[\"Poisson's ratio\"]\n",
    "            ym = wellDF[\"Young's Modulus\"]\n",
    "            ws = wellDF[\"water saturation\"]\n",
    "            os = wellDF[\"oil saturation\"]\n",
    "            thick = wellDF[\"thickness (ft)\"]\n",
    "            prop = wellDF[\"proppant weight (lbs)\"]\n",
    "            pump = wellDF[\"pump rate (cubic feet/min)\"]\n",
    "            ##create a new well\n",
    "            temp = Well(e, n, p, perm, pr, ym, ws, os, thick, prop, pump, name, RF, ap, FVF, oil, water)\n",
    "            ##append the new well to the list\n",
    "            wells.append(temp)\n",
    "\n",
    "    createWells()"
   ]
  },
  {
   "cell_type": "markdown",
   "metadata": {},
   "source": [
    "# <span style=\"color:blue\">This is a generalized function that facilitates easy graphing of any 2 variables</span> "
   ]
  },
  {
   "cell_type": "code",
   "execution_count": 33,
   "metadata": {},
   "outputs": [],
   "source": [
    "bottom = cm.get_cmap('Oranges', 128)\n",
    "newcolors = np.vstack((bottom(np.linspace(0, 1, 128))))[32:127]\n",
    "newcmp = ListedColormap(newcolors, name='DarkerOrange')\n",
    "\n",
    "def makeGraph(xProp, xIsMethod, yProp, yIsMethod, xLabel, yLabel, zProp=-1, zIsMethod=-1, zRepeat=1, zLabel=\"\"):\n",
    "    #Graph anything\n",
    "    xCoords = []\n",
    "    yCoords = []\n",
    "    zCoords = []\n",
    "    for well in wells:\n",
    "        xAttr = getattr(well, xProp)\n",
    "        yAttr = getattr(well, yProp)\n",
    "        zAttr = getattr(well, zProp) if zProp is not -1 else -1\n",
    "        xCoords.append(xAttr() if xIsMethod else xAttr)\n",
    "        yCoords.append(yAttr() if yIsMethod else yAttr)\n",
    "        zCoords.append(zAttr() if zIsMethod else zAttr) if zAttr is not -1 else -1\n",
    "    xCoords = np.array(xCoords).reshape(-1)\n",
    "    yCoords = np.array(yCoords).reshape(-1)\n",
    "    zCoords = np.array(zCoords).repeat(zRepeat).reshape(-1)\n",
    "    plt.figure(dpi=100)\n",
    "    if zAttr is -1:\n",
    "        plt.scatter(xCoords, yCoords, s = 4)\n",
    "    else:\n",
    "        plt.scatter(xCoords, yCoords, s = 4, c=zCoords, cmap=newcmp)\n",
    "        plt.colorbar().set_label(zLabel)\n",
    "    plt.xlabel(xLabel)\n",
    "    plt.ylabel(yLabel)"
   ]
  },
  {
   "cell_type": "markdown",
   "metadata": {},
   "source": [
    "# <span style=\"color:blue\">Total Production (bbl) vs Easting (ft)</span>"
   ]
  },
  {
   "cell_type": "code",
   "execution_count": 34,
   "metadata": {},
   "outputs": [
    {
     "ename": "AttributeError",
     "evalue": "'Well' object has no attribute 'eastingAvg'",
     "output_type": "error",
     "traceback": [
      "\u001b[1;31m---------------------------------------------------------------------------\u001b[0m",
      "\u001b[1;31mAttributeError\u001b[0m                            Traceback (most recent call last)",
      "\u001b[1;32m<ipython-input-34-ac7f15c5ed13>\u001b[0m in \u001b[0;36m<module>\u001b[1;34m\u001b[0m\n\u001b[1;32m----> 1\u001b[1;33m \u001b[0mmakeGraph\u001b[0m\u001b[1;33m(\u001b[0m\u001b[1;34m\"eastingAvg\"\u001b[0m\u001b[1;33m,\u001b[0m \u001b[1;32mTrue\u001b[0m\u001b[1;33m,\u001b[0m \u001b[1;34m\"getTotalProduction\"\u001b[0m\u001b[1;33m,\u001b[0m \u001b[1;32mTrue\u001b[0m\u001b[1;33m,\u001b[0m \u001b[1;34m\"Easting\"\u001b[0m\u001b[1;33m,\u001b[0m \u001b[1;34m\"Total Production\"\u001b[0m\u001b[1;33m)\u001b[0m\u001b[1;33m\u001b[0m\u001b[1;33m\u001b[0m\u001b[0m\n\u001b[0m",
      "\u001b[1;32m<ipython-input-33-b133b1051efd>\u001b[0m in \u001b[0;36mmakeGraph\u001b[1;34m(xProp, xIsMethod, yProp, yIsMethod, xLabel, yLabel, zProp, zIsMethod, zRepeat, zLabel)\u001b[0m\n\u001b[0;32m      9\u001b[0m     \u001b[0mzCoords\u001b[0m \u001b[1;33m=\u001b[0m \u001b[1;33m[\u001b[0m\u001b[1;33m]\u001b[0m\u001b[1;33m\u001b[0m\u001b[1;33m\u001b[0m\u001b[0m\n\u001b[0;32m     10\u001b[0m     \u001b[1;32mfor\u001b[0m \u001b[0mwell\u001b[0m \u001b[1;32min\u001b[0m \u001b[0mwells\u001b[0m\u001b[1;33m:\u001b[0m\u001b[1;33m\u001b[0m\u001b[1;33m\u001b[0m\u001b[0m\n\u001b[1;32m---> 11\u001b[1;33m         \u001b[0mxAttr\u001b[0m \u001b[1;33m=\u001b[0m \u001b[0mgetattr\u001b[0m\u001b[1;33m(\u001b[0m\u001b[0mwell\u001b[0m\u001b[1;33m,\u001b[0m \u001b[0mxProp\u001b[0m\u001b[1;33m)\u001b[0m\u001b[1;33m\u001b[0m\u001b[1;33m\u001b[0m\u001b[0m\n\u001b[0m\u001b[0;32m     12\u001b[0m         \u001b[0myAttr\u001b[0m \u001b[1;33m=\u001b[0m \u001b[0mgetattr\u001b[0m\u001b[1;33m(\u001b[0m\u001b[0mwell\u001b[0m\u001b[1;33m,\u001b[0m \u001b[0myProp\u001b[0m\u001b[1;33m)\u001b[0m\u001b[1;33m\u001b[0m\u001b[1;33m\u001b[0m\u001b[0m\n\u001b[0;32m     13\u001b[0m         \u001b[0mzAttr\u001b[0m \u001b[1;33m=\u001b[0m \u001b[0mgetattr\u001b[0m\u001b[1;33m(\u001b[0m\u001b[0mwell\u001b[0m\u001b[1;33m,\u001b[0m \u001b[0mzProp\u001b[0m\u001b[1;33m)\u001b[0m \u001b[1;32mif\u001b[0m \u001b[0mzProp\u001b[0m \u001b[1;32mis\u001b[0m \u001b[1;32mnot\u001b[0m \u001b[1;33m-\u001b[0m\u001b[1;36m1\u001b[0m \u001b[1;32melse\u001b[0m \u001b[1;33m-\u001b[0m\u001b[1;36m1\u001b[0m\u001b[1;33m\u001b[0m\u001b[1;33m\u001b[0m\u001b[0m\n",
      "\u001b[1;31mAttributeError\u001b[0m: 'Well' object has no attribute 'eastingAvg'"
     ]
    }
   ],
   "source": [
    "makeGraph(\"eastingAvg\", True, \"getTotalProduction\", True, \"Easting\", \"Total Production\")"
   ]
  },
  {
   "cell_type": "markdown",
   "metadata": {},
   "source": [
    "# <span style=\"color:blue\">Total Production (bbl) vs Northing (ft)</span>"
   ]
  },
  {
   "cell_type": "code",
   "execution_count": null,
   "metadata": {},
   "outputs": [],
   "source": [
    "makeGraph(\"northingAvg\", True, \"getTotalProduction\", True, \"Northing\", \"Total Production\")"
   ]
  },
  {
   "cell_type": "markdown",
   "metadata": {},
   "source": [
    "# <span style=\"color:blue\">Location of wells colored by Permeability "
   ]
  },
  {
   "cell_type": "code",
   "execution_count": null,
   "metadata": {},
   "outputs": [],
   "source": [
    "makeGraph(\"easting\", False, \"northing\", False, \"Easting\", \"Northing\", zProp=\"permeabilityAvg\", zIsMethod=True, zRepeat=100, zLabel=\"Permeability Avg\")"
   ]
  },
  {
   "cell_type": "markdown",
   "metadata": {},
   "source": [
    "# <span style=\"color:blue\">Location of wells colored by Total Production (bbl)</span>"
   ]
  },
  {
   "cell_type": "code",
   "execution_count": null,
   "metadata": {},
   "outputs": [],
   "source": [
    "makeGraph(\"easting\", False, \"northing\", False, \"Easting\", \"Northing\", zProp=\"getTotalProduction\", zIsMethod=True, zRepeat=100, zLabel=\"Total Oil Production\")"
   ]
  },
  {
   "cell_type": "markdown",
   "metadata": {},
   "source": [
    "# <span style=\"color:blue\">Total Production (bbl) vs Well Length (ft)</span>"
   ]
  },
  {
   "cell_type": "code",
   "execution_count": null,
   "metadata": {},
   "outputs": [],
   "source": [
    "makeGraph(\"getWellLength\", True, \"getTotalProduction\", True, \"Well Length\", \"Total Production\")"
   ]
  },
  {
   "cell_type": "markdown",
   "metadata": {},
   "source": [
    "# <span style=\"color:blue\">Frequency Plot of Well Lengths (ft)</span>"
   ]
  },
  {
   "cell_type": "code",
   "execution_count": null,
   "metadata": {},
   "outputs": [],
   "source": [
    "lengths = []\n",
    "for well in wells:\n",
    "    lengths.append(well.getWellLength())\n",
    "plt.hist(lengths);\n",
    "plt.xlabel(\"Well Length\")\n",
    "plt.ylabel(\"# of Occurrences\");"
   ]
  },
  {
   "cell_type": "markdown",
   "metadata": {},
   "source": [
    "# <span style=\"color:blue\">Total Production (bbl) vs Mean Pump Rate (ft<sup>3</sup>/min)</span>"
   ]
  },
  {
   "cell_type": "code",
   "execution_count": null,
   "metadata": {},
   "outputs": [],
   "source": [
    "makeGraph(\"getAvgPumpRate\", True, \"getTotalProduction\", True, \"Average Pump Rate\", \"Total Production\")"
   ]
  },
  {
   "cell_type": "markdown",
   "metadata": {},
   "source": [
    "# <span style=\"color:blue\">Total Production (bbl) vs Mean Proppant (lbs)</span>"
   ]
  },
  {
   "cell_type": "code",
   "execution_count": null,
   "metadata": {},
   "outputs": [],
   "source": [
    "makeGraph(\"getAvgProppant\", True, \"getTotalProduction\", True, \"Average Proppant\", \"Total Production\")"
   ]
  },
  {
   "cell_type": "markdown",
   "metadata": {},
   "source": [
    "# <span style=\"color:blue\">Total Production (bbl) vs Number of Frac Stages</span>"
   ]
  },
  {
   "cell_type": "code",
   "execution_count": null,
   "metadata": {},
   "outputs": [],
   "source": [
    "makeGraph(\"getFracStages\", True, \"getTotalProduction\", True, \"# Frac Stages\", \"Total Production\")"
   ]
  },
  {
   "cell_type": "markdown",
   "metadata": {},
   "source": [
    "# <span style=\"color:blue\">Gaussian Fit</span>"
   ]
  },
  {
   "cell_type": "code",
   "execution_count": null,
   "metadata": {},
   "outputs": [],
   "source": [
    "class Well:\n",
    "    ##This is a well class that will hold all the properties of a well\n",
    "    ##and also will be able to do relevant calculations for a given well\n",
    "    \n",
    "    ##Once the data is set in the constructor, please do not change the values when they are accessed.\n",
    "    ##Apparently I can't prevent this in Python, but I can at least advise against it.\n",
    "    \n",
    "    def __init__(self, easting, northing, porosity, permeability, PR, YM, wSaturation, oSaturation, thickness, proppant,\n",
    "                 pumpRate, name, RF, Pa, FVF, oilByMonth, waterByMonth):\n",
    "        self.easting = easting ##easting\n",
    "        self.northing = northing ##northing\n",
    "        self.porosity = porosity ##porosity\n",
    "        self.permeability = permeability ##permeability\n",
    "        self.PR = PR ##poissons's ratio\n",
    "        self.YM = YM ##young's modulus\n",
    "        self.wSaturation = wSaturation ##water saturation\n",
    "        self.oSaturation = oSaturation ##oil saturation\n",
    "        self.thickness = thickness ##thickness\n",
    "        self.proppant = proppant ##proppant weight\n",
    "        self.pumpRate = pumpRate ##pumpRate\n",
    "        self.name = name ##name\n",
    "        self.RF = RF ##recovery factor\n",
    "        self.Pa = Pa ##average pressure\n",
    "        self.FVF = FVF ##formation volume factor\n",
    "        self.oilByMonth = oilByMonth ##oil produced in each month\n",
    "        self.waterByMonth = waterByMonth ##water produced in each month\n",
    "    \n",
    "    ##returns the length of the well\n",
    "    def getWellLength(self):\n",
    "        return self.easting.max()-self.easting.min()\n",
    "    \n",
    "    #returns the total oil produced by the well\n",
    "    def getTotalProduction(self):\n",
    "        return self.oilByMonth.sum()\n",
    "    \n",
    "    ##returns the oil in place for this given well\n",
    "    def getOilInPlace(self):\n",
    "        return ((7758 * 360 * self.thickness * self.porosity * (1 - self.wSaturation)) / self.FVF)\n",
    "    \n",
    "    ##returns the recoverable reserves of this well\n",
    "    def getRecoverableReserves():\n",
    "        return (getOriginalOilPlace() * RF)\n",
    "    \n",
    "    ##returns rate of initial production for this well\n",
    "    def getROIP():\n",
    "        pass \n",
    "    \n",
    "    ##returns the life of this reservoir\n",
    "    def getLR():\n",
    "        pass\n",
    "    \n",
    "    ##returns the cumulative production of this well\n",
    "    def getCP():\n",
    "        pass\n",
    "    \n",
    "    \n",
    "    \n",
    "    def getFracStages(self):\n",
    "        count = 0\n",
    "        for rate in self.pumpRate:\n",
    "            if (pd.notnull(rate)):\n",
    "                count+=1\n",
    "        return count\n",
    "    \n",
    "    def getAvgPumpRate(self):\n",
    "        return self.pumpRate.mean(skipna = True)\n",
    "    \n",
    "    def getAvgProppant(self):\n",
    "        return self.proppant.mean(skipna = True)\n",
    "    \n",
    "    \n",
    "    ##this is the kind of functioning as a toString right now, almost no reason for it\n",
    "    def getName(self):\n",
    "        return self.name\n",
    "    \n",
    "    ##method to return oil produced in a given month\n",
    "    def getOilAtMonth(self, n):\n",
    "        if n > 12 or n < 1:\n",
    "            ##bad\n",
    "            return -1\n",
    "        else:\n",
    "            return self.oilByMonth[n]\n",
    "    \n",
    "    ##method to return water produced in a given month\n",
    "    def getOilAtMonth(self, n):\n",
    "        if n > 12 or n < 1:\n",
    "            ##bad\n",
    "            return -1\n",
    "        else:\n",
    "            return self.waterByMonth[n]\n",
    "    \n",
    "    ##method to display data for this well\n",
    "    ##depth will be for getiing data at a given depth in a well. Not sure if or when I should implement this\n",
    "    def displayData(self, depth = 0):\n",
    "        if depth == 0:\n",
    "            data = pd.read_csv(_PATH + self.name + \".csv\")\n",
    "        else:\n",
    "            data = pd.read_csv(_PATH + self.name + \".csv\")\n",
    "            \n",
    "        print(\"Displaying data for: \" + self.name)\n",
    "        print(data)"
   ]
  },
  {
   "cell_type": "markdown",
   "metadata": {},
   "source": [
    "# <span style=\"color:blue\">Gets outline Points</span>"
   ]
  },
  {
   "cell_type": "code",
   "execution_count": 27,
   "metadata": {},
   "outputs": [],
   "source": [
    "def sparseMax(xCoords1, yCoords1, sparseness):\n",
    "    newX = []\n",
    "    newY = []\n",
    "    for i in range(len(yCoords1)//sparseness):\n",
    "        index = i*sparseness\n",
    "        max = 0\n",
    "        maxInd = index\n",
    "        #meanX = 0\n",
    "        #meanY = 0\n",
    "        for j in range(sparseness):\n",
    "            if(yCoords1[index+j] > max):\n",
    "                max = yCoords1[index+j]\n",
    "                maxInd = index+j\n",
    "            #meanX += xCoords[index+j]\n",
    "            #meanY += yCoords[index+j]\n",
    "        #meanX /= sparseness\n",
    "        #meanY /= sparseness\n",
    "        newX.append(xCoords1[maxInd])\n",
    "        newY.append(yCoords1[maxInd])\n",
    "        #newX.append(meanX)\n",
    "        #newY.append(meanY)\n",
    "    return [newX, newY]\n",
    "\n",
    "def sparseMax2(xCoords1, yCoords1, sparseness):\n",
    "    newX = []\n",
    "    newY = []\n",
    "    xRange = max(xCoords1)-min(xCoords1)\n",
    "    width = xRange/sparseness\n",
    "    lastUpper = 0\n",
    "    for i in range(sparseness):\n",
    "        lower = min(xCoords1) + width*i\n",
    "        upper = min(xCoords1) + width*(i+1)\n",
    "\n",
    "        maxN = -1\n",
    "        maxInd = -1\n",
    "        for j in range(len(xCoords1)):\n",
    "            if (xCoords1[j] >= lower and xCoords1[j] < upper):\n",
    "                if (yCoords1[j] > maxN):\n",
    "                    maxN = yCoords1[j]\n",
    "                    maxInd = j\n",
    "                    \n",
    "        if (maxInd != -1):\n",
    "            newX.append(xCoords1[maxInd])\n",
    "            newY.append(yCoords1[maxInd])\n",
    "        lastUpper = upper\n",
    "    \n",
    "    newX.append(xCoords1[len(xCoords1)-1])\n",
    "    newY.append(yCoords1[len(yCoords1)-1]) \n",
    "    \n",
    "    return [newX, newY]\n",
    "        \n",
    "\n",
    "def removeOutliers(xCoords, yCoords):\n",
    "    newX = []\n",
    "    newY = []\n",
    "    q1 = py.quantile(yCoords, 0.25)\n",
    "    q3 = py.quantile(yCoords, 0.75)\n",
    "    iqr = q3-q1\n",
    "    lower = q1 - 1.5*iqr\n",
    "    upper = q3 + 1.5*iqr\n",
    "    for i in range(len(yCoords)):\n",
    "        if (yCoords[i] > lower and yCoords[i] < upper):\n",
    "            newX.append(xCoords[i])\n",
    "            newY.append(yCoords[i])\n",
    "    return [newX, newY]\n",
    "\n",
    "def getMaxLists(xCoords, yCoords):\n",
    "    xCoords1 = []\n",
    "    for val in xCoords:\n",
    "        xCoords1.append(val)\n",
    "    yCoords1 = [x for _,x in sorted(zip(xCoords,yCoords))]\n",
    "    xCoords1.sort()\n",
    "    #listA = removeOutliers(xCoords1, yCoords1)\n",
    "    listA = [xCoords1, yCoords1]\n",
    "    listZ = sparseMax2(listA[0], listA[1], 20)\n",
    "    return listZ"
   ]
  },
  {
   "cell_type": "code",
   "execution_count": 38,
   "metadata": {},
   "outputs": [],
   "source": [
    "# <span style=\"color:blue\">Graph well length vs total production</span>"
   ]
  },
  {
   "cell_type": "code",
   "execution_count": 39,
   "metadata": {},
   "outputs": [
    {
     "data": {
      "text/plain": [
       "Text(0, 0.5, 'Total Production')"
      ]
     },
     "execution_count": 39,
     "metadata": {},
     "output_type": "execute_result"
    },
    {
     "data": {
      "image/png": "[encoded data removed]",
      "text/plain": [
       "<Figure size 432x288 with 1 Axes>"
      ]
     },
     "metadata": {
      "needs_background": "light"
     },
     "output_type": "display_data"
    }
   ],
   "source": [
    "xCoordsShow = []\n",
    "yCoordsShow = []\n",
    "for well in wells:\n",
    "    xCoordsShow.append(well.getWellLength())\n",
    "    yCoordsShow.append(well.getTotalProduction())\n",
    "\n",
    "lengthMax = getMaxLists(xCoordsShow, yCoordsShow)\n",
    "\n",
    "plt.scatter(xCoordsShow, yCoordsShow, s = 4)\n",
    "plt.scatter(lengthMax[0], lengthMax[1], s = 4)\n",
    "plt.xlabel(\"well Length\")\n",
    "plt.ylabel(\"Total Production\")"
   ]
  },
  {
   "cell_type": "markdown",
   "metadata": {},
   "source": [
    "# <span style=\"color:blue\">Location of wells colored by Pump Rate (ft<sup>3</sup>/min)</span>"
   ]
  },
  {
   "cell_type": "code",
   "execution_count": null,
   "metadata": {},
   "outputs": [],
   "source": [
    "makeGraph(\"easting\", False, \"northing\", False, \"Easting\", \"Northing\", zProp=\"pumpRate\", zIsMethod=False, zLabel=\"Pump Rate\")"
   ]
  },
  {
   "cell_type": "markdown",
   "metadata": {},
   "source": [
    "# <span style=\"color:blue\">Total Production (bbl) vs Mean Porosity</span>"
   ]
  },
  {
   "cell_type": "code",
   "execution_count": null,
   "metadata": {},
   "outputs": [],
   "source": [
    "makeGraph(\"porosityAvg\", True, \"getTotalProduction\", True, \"Porosity Avg\", \"Total Production\", zProp=\"permeabilityAvg\", zIsMethod=True, zLabel=\"Permeability Avg\")"
   ]
  },
  {
   "cell_type": "markdown",
   "metadata": {},
   "source": [
    "# <span style=\"color:blue\">Location of wells colored by Porosity</span>"
   ]
  },
  {
   "cell_type": "code",
   "execution_count": null,
   "metadata": {
    "scrolled": false
   },
   "outputs": [],
   "source": [
    "makeGraph(\"easting\", False, \"northing\", False, \"Easting\", \"Northing\", zProp=\"porosity\", zIsMethod=False, zLabel=\"Porosity\")"
   ]
  },
  {
   "cell_type": "markdown",
   "metadata": {},
   "source": [
    "# should we add a permeability location plot?"
   ]
  },
  {
   "cell_type": "markdown",
   "metadata": {},
   "source": [
    "# <span style=\"color:blue\">Making the 10 optimal wells</span>"
   ]
  },
  {
   "cell_type": "code",
   "execution_count": null,
   "metadata": {},
   "outputs": [],
   "source": [
    "addedWells = [\n",
    "    np.linspace([86430, 5000], [95430, 5000], 100),\n",
    "    np.linspace([66000, 2000], [76000, 2000], 100),\n",
    "    np.linspace([85500, 19500], [90500, 19500], 100),\n",
    "    np.linspace([71500, 20275], [76000, 20275], 100),\n",
    "    np.linspace([59750, 20750], [64250, 20750], 100),\n",
    "    np.linspace([64000, 22500], [70500, 22500], 100),\n",
    "    np.linspace([63000, 33500], [69000, 33500], 100),\n",
    "    np.linspace([4125, 26000], [11875, 26000], 100),\n",
    "    np.linspace([53000, 59250], [64750, 59250], 100),\n",
    "    np.linspace([63750, 64750], [74250, 64750], 100)\n",
    "]\n",
    "addedWellClasses = [Well(adde[:,0], adde[:,1], None, None, None, None, None, None, None, None,\n",
    "                 None, None, None, None, 1.6, None, None) for adde in addedWells]"
   ]
  },
  {
   "cell_type": "markdown",
   "metadata": {},
   "source": [
    "# <span style=\"color:blue\">Making the Neural Network</span>"
   ]
  },
  {
   "cell_type": "code",
   "execution_count": null,
   "metadata": {},
   "outputs": [],
   "source": [
    "class NNetwork:\n",
    "    def parseData(self, targetProperty, isTargetMethod, yLabel, yRepeat=1):\n",
    "        self.yLabel = yLabel\n",
    "        self.X = np.array([np.array([well.easting, well.northing]).transpose() for well in wells]).reshape(-1,2)\n",
    "        self.y = np.array([np.array(getattr(well, targetProperty)).repeat(yRepeat) for well in wells]).reshape(-1)\n",
    "        \n",
    "        self.X = self.X[::25]\n",
    "        self.y = self.y[::25]\n",
    "\n",
    "        if isTargetMethod:\n",
    "            self.y = np.array([a() for a in self.y])\n",
    "\n",
    "        self.scalarX = MinMaxScaler()\n",
    "        self.scalarX.fit(self.X)\n",
    "        self.Xfit = self.scalarX.transform(self.X)\n",
    "        self.scalarY = MinMaxScaler()\n",
    "        self.scalarY.fit(self.y.reshape(-1,1))\n",
    "        self.yfit = self.scalarY.transform(self.y.reshape(-1,1)).reshape(-1)\n",
    "\n",
    "    def train(self):\n",
    "        # Definition of our model\n",
    "        self.model = keras.Sequential() # as first layer in a sequential model:\n",
    "        # let's define our model:\n",
    "        self.model.add( keras.layers.Dense( units=30, input_shape=(2,), activation=\"relu\" ) )\n",
    "        self.model.add( keras.layers.Dense( units=15, input_shape=(30,), activation=\"relu\" ) )\n",
    "        self.model.add( keras.layers.Dense( units=15, input_shape=(15,), activation=\"relu\" ) )\n",
    "        self.model.add( keras.layers.Dense( units=1, input_shape=(15,), activation=\"linear\" ) )\n",
    "        optimizer = keras.optimizers.Adam()\n",
    "        self.model.compile(optimizer=optimizer, loss='mean_squared_error', metrics=['mean_squared_error'])\n",
    "        self.model.fit(self.Xfit, self.yfit, epochs=3000, verbose=1, batch_size=200, validation_split = 0.1)\n",
    "\n",
    "        \n",
    "    def plotSimple(self):\n",
    "        testX0 = np.linspace(min(self.Xfit[:,0]), max(self.Xfit[:,0]), 50)\n",
    "        testX1 = np.linspace(min(self.Xfit[:,1]), max(self.Xfit[:,1]), 50)\n",
    "        grid0, grid1 = np.meshgrid(testX0, testX1)\n",
    "        cost = np.array([self.model.predict(np.array([grid0[i], grid1[i]]).transpose()).reshape(-1) for i in range(len(grid0))])\n",
    "        plt.pcolormesh(grid0,grid1,cost, norm=colors.SymLogNorm(linthresh=10, linscale=1,\n",
    "                                                  vmin=cost.min(), vmax=cost.max()))\n",
    "        plt.scatter(self.Xfit[:,0], self.Xfit[:,1], c = self.yfit)\n",
    "        plt.scatter(np.array([self.scalarX.transform(addedWell)[:,0] for addedWell in addedWells]).reshape(-1), np.array([self.scalarX.transform(addedWell)[:,1] for addedWell in addedWells]).reshape(-1), c=\"#A00000\")\n",
    "        plt.colorbar().set_label(self.yLabel)\n",
    "        plt.xlabel(\"Easting\")\n",
    "        plt.ylabel(\"Northing\")\n",
    "        plt.show()\n",
    "        \n",
    "    # Doesn't work properly yet - don't use ATM\n",
    "    def plotAdvanced(self):\n",
    "        testX0 = np.linspace(min(self.Xfit[:,0]), max(self.Xfit[:,0]), 50)\n",
    "        testX1 = np.linspace(min(self.Xfit[:,1]), max(self.Xfit[:,1]), 50)\n",
    "        grid0, grid1 = np.meshgrid(testX0, testX1)\n",
    "        cost = np.array([self.model.predict(np.array([grid0[i], grid1[i]]).transpose()).reshape(-1) for i in range(len(grid0))])\n",
    "        \n",
    "        cost = self.scalarY.inverse_transform(cost)\n",
    "        \n",
    "        reset = self.scalarX.inverse_transform(np.array([testX0, testX1]).transpose())\n",
    "        testX00 = reset[:,0]\n",
    "        testX01 = reset[:,1]\n",
    "        grid0, grid1 = np.meshgrid(testX00, testX01)\n",
    "        \n",
    "        plt.pcolormesh(grid0,grid1,cost, norm=colors.SymLogNorm(linthresh=10, linscale=1,\n",
    "                                                  vmin=cost.min(), vmax=cost.max()))\n",
    "        plt.scatter(self.X[:,0], self.X[:,1], c = self.y)\n",
    "        plt.colorbar().set_label(self.yLabel)\n",
    "        plt.xlabel(\"Easting\")\n",
    "        plt.ylabel(\"Northing\")\n",
    "        plt.show()\n",
    "        \n",
    "    def getNetwork(self):\n",
    "        return (self.model, self.scalarX, self.scalarY)"
   ]
  },
  {
   "cell_type": "code",
   "execution_count": null,
   "metadata": {},
   "outputs": [],
   "source": [
    "porosityNet = NNetwork()\n",
    "thicknessNet = NNetwork()\n",
    "wSaturationNet = NNetwork()\n",
    "RFNet = NNetwork()\n",
    "totalOilNet = NNetwork()\n",
    "\n",
    "porosityNet.parseData(\"porosity\", False, \"Porosity\")\n",
    "thicknessNet.parseData(\"thickness\", False, \"Thickness\")\n",
    "wSaturationNet.parseData(\"wSaturation\", False, \"Water Saturation\")\n",
    "RFNet.parseData(\"RF\", False, \"Recovery Factor\", yRepeat=100)\n",
    "totalOilNet.parseData(\"getTotalProduction\", True, \"Total Oil Production\", yRepeat=100)"
   ]
  },
  {
   "cell_type": "markdown",
   "metadata": {},
   "source": [
    "# <span style=\"color:blue\">Training the Neural Network</span>"
   ]
  },
  {
   "cell_type": "code",
   "execution_count": null,
   "metadata": {},
   "outputs": [],
   "source": [
    "porosityNet.train()\n",
    "thicknessNet.train()\n",
    "wSaturationNet.train()\n",
    "RFNet.train()\n",
    "totalOilNet.train()"
   ]
  },
  {
   "cell_type": "code",
   "execution_count": null,
   "metadata": {},
   "outputs": [],
   "source": [
    "# for use in powerpoint\n",
    "porosityNet.plotSimple()\n",
    "thicknessNet.plotSimple()\n",
    "wSaturationNet.plotSimple()\n",
    "RFNet.plotSimple()\n",
    "totalOilNet.plotSimple()"
   ]
  },
  {
   "cell_type": "code",
   "execution_count": null,
   "metadata": {},
   "outputs": [],
   "source": [
    "# use the neural networks to populate well classes for the wells we create\n",
    "for addedWellClass in addedWellClasses:\n",
    "    addedWellClass.thickness = thicknessNet.scalarY.inverse_transform(thicknessNet.model.predict(thicknessNet.scalarX.transform(np.array([addedWellClass.easting, addedWellClass.northing]).transpose()))).reshape(-1)\n",
    "    addedWellClass.porosity = porosityNet.scalarY.inverse_transform(porosityNet.model.predict(porosityNet.scalarX.transform(np.array([addedWellClass.easting, addedWellClass.northing]).transpose()))).reshape(-1)\n",
    "    addedWellClass.wSaturation = wSaturationNet.scalarY.inverse_transform(wSaturationNet.model.predict(wSaturationNet.scalarX.transform(np.array([addedWellClass.easting, addedWellClass.northing]).transpose()))).reshape(-1)\n",
    "    addedWellClass.RF = RFNet.scalarY.inverse_transform(RFNet.model.predict(RFNet.scalarX.transform(np.array([addedWellClass.easting, addedWellClass.northing]).transpose()))).reshape(-1).mean()\n",
    "    totalOil = totalOilNet.scalarY.inverse_transform(totalOilNet.model.predict(totalOilNet.scalarX.transform(np.array([addedWellClass.easting, addedWellClass.northing]).transpose()))).reshape(-1).mean()\n",
    "    addedWellClass.oilByMonth = np.array(totalOil/12).repeat(12)"
   ]
  },
  {
   "cell_type": "code",
   "execution_count": null,
   "metadata": {},
   "outputs": [],
   "source": [
    "#OOIP\n",
    "np.array([addedWellClass.getOilInPlace() for addedWellClass in addedWellClasses]).sum()"
   ]
  },
  {
   "cell_type": "code",
   "execution_count": null,
   "metadata": {},
   "outputs": [],
   "source": [
    "#RR\n",
    "np.array([addedWellClass.getRecoverableReserves() for addedWellClass in addedWellClasses]).sum()"
   ]
  },
  {
   "cell_type": "code",
   "execution_count": null,
   "metadata": {},
   "outputs": [],
   "source": [
    "#EUR\n",
    "np.array([addedWellClass.getTotalProduction() for addedWellClass in addedWellClasses]).sum()"
   ]
  }
 ],
 "metadata": {
  "kernelspec": {
   "display_name": "Python 3",
   "language": "python",
   "name": "python3"
  },
  "language_info": {
   "codemirror_mode": {
    "name": "ipython",
    "version": 3
   },
   "file_extension": ".py",
   "mimetype": "text/x-python",
   "name": "python",
   "nbconvert_exporter": "python",
   "pygments_lexer": "ipython3",
   "version": "3.6.7"
  }
 },
 "nbformat": 4,
 "nbformat_minor": 2
}
